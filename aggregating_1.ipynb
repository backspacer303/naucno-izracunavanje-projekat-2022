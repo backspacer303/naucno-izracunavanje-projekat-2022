{
  "cells": [
    {
      "cell_type": "code",
      "source": [
        "from google.colab import drive\n",
        "drive.mount('/content/drive')"
      ],
      "metadata": {
        "colab": {
          "base_uri": "https://localhost:8080/"
        },
        "id": "Kt2zfBMAOM3e",
        "outputId": "2b07df87-5024-4b2d-b822-529c4bb9652e"
      },
      "id": "Kt2zfBMAOM3e",
      "execution_count": null,
      "outputs": [
        {
          "output_type": "stream",
          "name": "stdout",
          "text": [
            "Mounted at /content/drive\n"
          ]
        }
      ]
    },
    {
      "cell_type": "code",
      "source": [
        "! unzip /content/drive/MyDrive/data.zip -d /content/"
      ],
      "metadata": {
        "colab": {
          "base_uri": "https://localhost:8080/"
        },
        "id": "mBrh2fVJOVMU",
        "outputId": "c83b297b-ce48-4722-ca5b-29bef13058b9"
      },
      "id": "mBrh2fVJOVMU",
      "execution_count": null,
      "outputs": [
        {
          "output_type": "stream",
          "name": "stdout",
          "text": [
            "Archive:  /content/drive/MyDrive/data.zip\n",
            "   creating: /content/data/\n",
            "  inflating: /content/data/swepam_clean.csv  \n",
            "  inflating: /content/data/floods.csv  \n",
            "  inflating: /content/data/.DS_Store  \n",
            "  inflating: /content/__MACOSX/data/._.DS_Store  \n",
            "  inflating: /content/data/mag_clean.csv  \n",
            "  inflating: /content/data/floodphenomena.csv  \n",
            "  inflating: /content/__MACOSX/data/._floodphenomena.csv  \n",
            "  inflating: /content/data/sfa.csv   \n",
            "  inflating: /content/data/sis_clean.csv  \n",
            "  inflating: /content/data/epam_clean.csv  \n"
          ]
        }
      ]
    },
    {
      "cell_type": "code",
      "source": [
        "! pip install pyts"
      ],
      "metadata": {
        "colab": {
          "base_uri": "https://localhost:8080/"
        },
        "id": "dIOo4scIO3br",
        "outputId": "dc0c214f-2d90-4bff-f6f5-e229e7baaa17"
      },
      "id": "dIOo4scIO3br",
      "execution_count": null,
      "outputs": [
        {
          "output_type": "stream",
          "name": "stdout",
          "text": [
            "Looking in indexes: https://pypi.org/simple, https://us-python.pkg.dev/colab-wheels/public/simple/\n",
            "Collecting pyts\n",
            "  Downloading pyts-0.12.0-py3-none-any.whl (2.5 MB)\n",
            "\u001b[K     |████████████████████████████████| 2.5 MB 5.4 MB/s \n",
            "\u001b[?25hRequirement already satisfied: numba>=0.48.0 in /usr/local/lib/python3.7/dist-packages (from pyts) (0.56.0)\n",
            "Requirement already satisfied: joblib>=0.12 in /usr/local/lib/python3.7/dist-packages (from pyts) (1.1.0)\n",
            "Requirement already satisfied: scikit-learn>=0.22.1 in /usr/local/lib/python3.7/dist-packages (from pyts) (1.0.2)\n",
            "Requirement already satisfied: numpy>=1.17.5 in /usr/local/lib/python3.7/dist-packages (from pyts) (1.21.6)\n",
            "Requirement already satisfied: scipy>=1.3.0 in /usr/local/lib/python3.7/dist-packages (from pyts) (1.7.3)\n",
            "Requirement already satisfied: setuptools in /usr/local/lib/python3.7/dist-packages (from numba>=0.48.0->pyts) (57.4.0)\n",
            "Requirement already satisfied: importlib-metadata in /usr/local/lib/python3.7/dist-packages (from numba>=0.48.0->pyts) (4.12.0)\n",
            "Requirement already satisfied: llvmlite<0.40,>=0.39.0dev0 in /usr/local/lib/python3.7/dist-packages (from numba>=0.48.0->pyts) (0.39.0)\n",
            "Requirement already satisfied: threadpoolctl>=2.0.0 in /usr/local/lib/python3.7/dist-packages (from scikit-learn>=0.22.1->pyts) (3.1.0)\n",
            "Requirement already satisfied: zipp>=0.5 in /usr/local/lib/python3.7/dist-packages (from importlib-metadata->numba>=0.48.0->pyts) (3.8.1)\n",
            "Requirement already satisfied: typing-extensions>=3.6.4 in /usr/local/lib/python3.7/dist-packages (from importlib-metadata->numba>=0.48.0->pyts) (4.1.1)\n",
            "Installing collected packages: pyts\n",
            "Successfully installed pyts-0.12.0\n"
          ]
        }
      ]
    },
    {
      "cell_type": "code",
      "execution_count": null,
      "id": "98b21a95",
      "metadata": {
        "pycharm": {
          "name": "#%%\n"
        },
        "id": "98b21a95"
      },
      "outputs": [],
      "source": [
        "import sklearn\n",
        "import numpy as np\n",
        "import pandas as pd\n",
        "import datetime\n",
        "from pyts.approximation import SymbolicFourierApproximation\n",
        "from datetime import datetime"
      ]
    },
    {
      "cell_type": "markdown",
      "id": "68fd2ecb",
      "metadata": {
        "pycharm": {
          "name": "#%% md\n"
        },
        "id": "68fd2ecb"
      },
      "source": [
        "# Loading data and adding date column"
      ]
    },
    {
      "cell_type": "code",
      "execution_count": null,
      "id": "0d2aaa41",
      "metadata": {
        "pycharm": {
          "name": "#%%\n"
        },
        "id": "0d2aaa41"
      },
      "outputs": [],
      "source": [
        "epam = pd.read_csv('epam_clean.csv')\n",
        "epam.drop(axis=1, columns=['Unnamed: 0'], inplace=True)\n",
        "epam['timestamp'] =  pd.to_datetime(epam.datetime, format='%Y-%m-%d %H:%M:%S')\n",
        "epam['date'] = epam.timestamp.dt.date\n",
        "\n",
        "swepam = pd.read_csv('swepam_clean.csv')\n",
        "swepam.drop(axis=1, columns=['Unnamed: 0'], inplace=True)\n",
        "swepam['timestamp'] =  pd.to_datetime(swepam.datetime, format='%Y-%m-%d %H:%M:%S')\n",
        "swepam['date'] = swepam.timestamp.dt.date\n",
        "\n",
        "mag = pd.read_csv('mag_clean.csv')\n",
        "mag.drop(axis=1, columns=['Unnamed: 0'], inplace=True)\n",
        "mag['timestamp'] =  pd.to_datetime(mag.datetime, format='%Y-%m-%d %H:%M:%S')\n",
        "mag['date'] = mag.timestamp.dt.date\n",
        "\n",
        "sis = pd.read_csv('sis_clean.csv')\n",
        "sis.drop(axis=1, columns=['Unnamed: 0'], inplace=True)\n",
        "sis['timestamp'] =  pd.to_datetime(sis.datetime, format='%Y-%m-%d %H:%M:%S')\n",
        "sis['date'] = sis.timestamp.dt.date"
      ]
    },
    {
      "cell_type": "markdown",
      "id": "404d3c1e",
      "metadata": {
        "pycharm": {
          "name": "#%% md\n"
        },
        "id": "404d3c1e"
      },
      "source": [
        "# Aggregating by date using SFA"
      ]
    },
    {
      "cell_type": "markdown",
      "id": "730d180b",
      "metadata": {
        "pycharm": {
          "name": "#%% md\n"
        },
        "id": "730d180b"
      },
      "source": [
        "### Putting all column values in one list per day"
      ]
    },
    {
      "cell_type": "code",
      "execution_count": null,
      "id": "3c49f8f4",
      "metadata": {
        "pycharm": {
          "name": "#%%\n"
        },
        "colab": {
          "base_uri": "https://localhost:8080/",
          "height": 112
        },
        "id": "3c49f8f4",
        "outputId": "bd95268a-5e31-4e7d-dc05-9fe131a65981"
      },
      "outputs": [
        {
          "output_type": "execute_result",
          "data": {
            "text/plain": [
              "    Bx   By   Bz   Bt  Lat.  Long.             datetime           timestamp  \\\n",
              "0 -6.2 -3.1 -0.1  6.9  -0.6  206.5  2001-08-07 00:00:00 2001-08-07 00:00:00   \n",
              "1 -6.3 -3.3 -0.3  7.1  -2.7  207.8  2001-08-07 00:01:00 2001-08-07 00:01:00   \n",
              "\n",
              "         date  \n",
              "0  2001-08-07  \n",
              "1  2001-08-07  "
            ],
            "text/html": [
              "\n",
              "  <div id=\"df-ba87d356-38aa-4859-b4df-767a109451e6\">\n",
              "    <div class=\"colab-df-container\">\n",
              "      <div>\n",
              "<style scoped>\n",
              "    .dataframe tbody tr th:only-of-type {\n",
              "        vertical-align: middle;\n",
              "    }\n",
              "\n",
              "    .dataframe tbody tr th {\n",
              "        vertical-align: top;\n",
              "    }\n",
              "\n",
              "    .dataframe thead th {\n",
              "        text-align: right;\n",
              "    }\n",
              "</style>\n",
              "<table border=\"1\" class=\"dataframe\">\n",
              "  <thead>\n",
              "    <tr style=\"text-align: right;\">\n",
              "      <th></th>\n",
              "      <th>Bx</th>\n",
              "      <th>By</th>\n",
              "      <th>Bz</th>\n",
              "      <th>Bt</th>\n",
              "      <th>Lat.</th>\n",
              "      <th>Long.</th>\n",
              "      <th>datetime</th>\n",
              "      <th>timestamp</th>\n",
              "      <th>date</th>\n",
              "    </tr>\n",
              "  </thead>\n",
              "  <tbody>\n",
              "    <tr>\n",
              "      <th>0</th>\n",
              "      <td>-6.2</td>\n",
              "      <td>-3.1</td>\n",
              "      <td>-0.1</td>\n",
              "      <td>6.9</td>\n",
              "      <td>-0.6</td>\n",
              "      <td>206.5</td>\n",
              "      <td>2001-08-07 00:00:00</td>\n",
              "      <td>2001-08-07 00:00:00</td>\n",
              "      <td>2001-08-07</td>\n",
              "    </tr>\n",
              "    <tr>\n",
              "      <th>1</th>\n",
              "      <td>-6.3</td>\n",
              "      <td>-3.3</td>\n",
              "      <td>-0.3</td>\n",
              "      <td>7.1</td>\n",
              "      <td>-2.7</td>\n",
              "      <td>207.8</td>\n",
              "      <td>2001-08-07 00:01:00</td>\n",
              "      <td>2001-08-07 00:01:00</td>\n",
              "      <td>2001-08-07</td>\n",
              "    </tr>\n",
              "  </tbody>\n",
              "</table>\n",
              "</div>\n",
              "      <button class=\"colab-df-convert\" onclick=\"convertToInteractive('df-ba87d356-38aa-4859-b4df-767a109451e6')\"\n",
              "              title=\"Convert this dataframe to an interactive table.\"\n",
              "              style=\"display:none;\">\n",
              "        \n",
              "  <svg xmlns=\"http://www.w3.org/2000/svg\" height=\"24px\"viewBox=\"0 0 24 24\"\n",
              "       width=\"24px\">\n",
              "    <path d=\"M0 0h24v24H0V0z\" fill=\"none\"/>\n",
              "    <path d=\"M18.56 5.44l.94 2.06.94-2.06 2.06-.94-2.06-.94-.94-2.06-.94 2.06-2.06.94zm-11 1L8.5 8.5l.94-2.06 2.06-.94-2.06-.94L8.5 2.5l-.94 2.06-2.06.94zm10 10l.94 2.06.94-2.06 2.06-.94-2.06-.94-.94-2.06-.94 2.06-2.06.94z\"/><path d=\"M17.41 7.96l-1.37-1.37c-.4-.4-.92-.59-1.43-.59-.52 0-1.04.2-1.43.59L10.3 9.45l-7.72 7.72c-.78.78-.78 2.05 0 2.83L4 21.41c.39.39.9.59 1.41.59.51 0 1.02-.2 1.41-.59l7.78-7.78 2.81-2.81c.8-.78.8-2.07 0-2.86zM5.41 20L4 18.59l7.72-7.72 1.47 1.35L5.41 20z\"/>\n",
              "  </svg>\n",
              "      </button>\n",
              "      \n",
              "  <style>\n",
              "    .colab-df-container {\n",
              "      display:flex;\n",
              "      flex-wrap:wrap;\n",
              "      gap: 12px;\n",
              "    }\n",
              "\n",
              "    .colab-df-convert {\n",
              "      background-color: #E8F0FE;\n",
              "      border: none;\n",
              "      border-radius: 50%;\n",
              "      cursor: pointer;\n",
              "      display: none;\n",
              "      fill: #1967D2;\n",
              "      height: 32px;\n",
              "      padding: 0 0 0 0;\n",
              "      width: 32px;\n",
              "    }\n",
              "\n",
              "    .colab-df-convert:hover {\n",
              "      background-color: #E2EBFA;\n",
              "      box-shadow: 0px 1px 2px rgba(60, 64, 67, 0.3), 0px 1px 3px 1px rgba(60, 64, 67, 0.15);\n",
              "      fill: #174EA6;\n",
              "    }\n",
              "\n",
              "    [theme=dark] .colab-df-convert {\n",
              "      background-color: #3B4455;\n",
              "      fill: #D2E3FC;\n",
              "    }\n",
              "\n",
              "    [theme=dark] .colab-df-convert:hover {\n",
              "      background-color: #434B5C;\n",
              "      box-shadow: 0px 1px 3px 1px rgba(0, 0, 0, 0.15);\n",
              "      filter: drop-shadow(0px 1px 2px rgba(0, 0, 0, 0.3));\n",
              "      fill: #FFFFFF;\n",
              "    }\n",
              "  </style>\n",
              "\n",
              "      <script>\n",
              "        const buttonEl =\n",
              "          document.querySelector('#df-ba87d356-38aa-4859-b4df-767a109451e6 button.colab-df-convert');\n",
              "        buttonEl.style.display =\n",
              "          google.colab.kernel.accessAllowed ? 'block' : 'none';\n",
              "\n",
              "        async function convertToInteractive(key) {\n",
              "          const element = document.querySelector('#df-ba87d356-38aa-4859-b4df-767a109451e6');\n",
              "          const dataTable =\n",
              "            await google.colab.kernel.invokeFunction('convertToInteractive',\n",
              "                                                     [key], {});\n",
              "          if (!dataTable) return;\n",
              "\n",
              "          const docLinkHtml = 'Like what you see? Visit the ' +\n",
              "            '<a target=\"_blank\" href=https://colab.research.google.com/notebooks/data_table.ipynb>data table notebook</a>'\n",
              "            + ' to learn more about interactive tables.';\n",
              "          element.innerHTML = '';\n",
              "          dataTable['output_type'] = 'display_data';\n",
              "          await google.colab.output.renderOutput(dataTable, element);\n",
              "          const docLink = document.createElement('div');\n",
              "          docLink.innerHTML = docLinkHtml;\n",
              "          element.appendChild(docLink);\n",
              "        }\n",
              "      </script>\n",
              "    </div>\n",
              "  </div>\n",
              "  "
            ]
          },
          "metadata": {},
          "execution_count": 6
        }
      ],
      "source": [
        "# Example before transformation\n",
        "mag.head(2)"
      ]
    },
    {
      "cell_type": "code",
      "execution_count": null,
      "id": "c3e2396f",
      "metadata": {
        "pycharm": {
          "name": "#%%\n"
        },
        "id": "c3e2396f"
      },
      "outputs": [],
      "source": [
        "mag_wanted_columns = ['Bx', 'By', 'Bz', 'Bt', 'Lat.', 'Long.', 'date']\n",
        "mag_agg_grouped = mag[mag_wanted_columns].groupby(['date'])\n",
        "mag_listed = mag_agg_grouped[mag_wanted_columns[:-1]].agg(lambda x : list(x.to_numpy()))\n",
        "mag_listed.set_index(pd.DatetimeIndex(mag_listed.index), inplace=True)"
      ]
    },
    {
      "cell_type": "code",
      "execution_count": null,
      "id": "38709733",
      "metadata": {
        "pycharm": {
          "name": "#%%\n"
        },
        "colab": {
          "base_uri": "https://localhost:8080/",
          "height": 222
        },
        "id": "38709733",
        "outputId": "ef0c287d-c8bc-4eef-c088-3451556eb575"
      },
      "outputs": [
        {
          "output_type": "execute_result",
          "data": {
            "text/plain": [
              "                                                           Bx  \\\n",
              "date                                                            \n",
              "2001-08-07  [-6.2, -6.3, -6.2, -6.1, -6.1, -6.1, -6.5, -6....   \n",
              "2001-08-08  [-5.8, -5.3, -5.1, -5.4, -5.1, -5.6, -6.6, -6....   \n",
              "\n",
              "                                                           By  \\\n",
              "date                                                            \n",
              "2001-08-07  [-3.1, -3.3, -3.1, -3.4, -3.5, -3.5, -3.0, -3....   \n",
              "2001-08-08  [1.5, 2.3, 2.6, 2.7, 3.0, 3.2, 1.5, 2.5, 3.3, ...   \n",
              "\n",
              "                                                           Bz  \\\n",
              "date                                                            \n",
              "2001-08-07  [-0.1, -0.3, -0.6, -0.6, -0.4, 0.0, -0.3, 0.0,...   \n",
              "2001-08-08  [-2.6, -2.8, -2.7, -1.8, -1.1, 0.6, -0.2, -0.9...   \n",
              "\n",
              "                                                           Bt  \\\n",
              "date                                                            \n",
              "2001-08-07  [6.9, 7.1, 6.9, 7.0, 7.0, 7.0, 7.2, 7.2, 7.0, ...   \n",
              "2001-08-08  [6.5, 6.4, 6.3, 6.3, 6.1, 6.5, 6.7, 6.7, 6.5, ...   \n",
              "\n",
              "                                                         Lat.  \\\n",
              "date                                                            \n",
              "2001-08-07  [-0.6, -2.7, -4.7, -4.8, -3.1, 0.2, -2.3, -0.4...   \n",
              "2001-08-08  [-23.6, -26.2, -25.1, -16.5, -10.2, 5.1, -1.5,...   \n",
              "\n",
              "                                                        Long.  \n",
              "date                                                           \n",
              "2001-08-07  [206.5, 207.8, 206.5, 209.2, 210.0, 209.8, 204...  \n",
              "2001-08-08  [165.8, 156.9, 152.8, 153.6, 149.5, 149.8, 167...  "
            ],
            "text/html": [
              "\n",
              "  <div id=\"df-f60dd3c1-7421-4999-ab49-78aa68f73f2f\">\n",
              "    <div class=\"colab-df-container\">\n",
              "      <div>\n",
              "<style scoped>\n",
              "    .dataframe tbody tr th:only-of-type {\n",
              "        vertical-align: middle;\n",
              "    }\n",
              "\n",
              "    .dataframe tbody tr th {\n",
              "        vertical-align: top;\n",
              "    }\n",
              "\n",
              "    .dataframe thead th {\n",
              "        text-align: right;\n",
              "    }\n",
              "</style>\n",
              "<table border=\"1\" class=\"dataframe\">\n",
              "  <thead>\n",
              "    <tr style=\"text-align: right;\">\n",
              "      <th></th>\n",
              "      <th>Bx</th>\n",
              "      <th>By</th>\n",
              "      <th>Bz</th>\n",
              "      <th>Bt</th>\n",
              "      <th>Lat.</th>\n",
              "      <th>Long.</th>\n",
              "    </tr>\n",
              "    <tr>\n",
              "      <th>date</th>\n",
              "      <th></th>\n",
              "      <th></th>\n",
              "      <th></th>\n",
              "      <th></th>\n",
              "      <th></th>\n",
              "      <th></th>\n",
              "    </tr>\n",
              "  </thead>\n",
              "  <tbody>\n",
              "    <tr>\n",
              "      <th>2001-08-07</th>\n",
              "      <td>[-6.2, -6.3, -6.2, -6.1, -6.1, -6.1, -6.5, -6....</td>\n",
              "      <td>[-3.1, -3.3, -3.1, -3.4, -3.5, -3.5, -3.0, -3....</td>\n",
              "      <td>[-0.1, -0.3, -0.6, -0.6, -0.4, 0.0, -0.3, 0.0,...</td>\n",
              "      <td>[6.9, 7.1, 6.9, 7.0, 7.0, 7.0, 7.2, 7.2, 7.0, ...</td>\n",
              "      <td>[-0.6, -2.7, -4.7, -4.8, -3.1, 0.2, -2.3, -0.4...</td>\n",
              "      <td>[206.5, 207.8, 206.5, 209.2, 210.0, 209.8, 204...</td>\n",
              "    </tr>\n",
              "    <tr>\n",
              "      <th>2001-08-08</th>\n",
              "      <td>[-5.8, -5.3, -5.1, -5.4, -5.1, -5.6, -6.6, -6....</td>\n",
              "      <td>[1.5, 2.3, 2.6, 2.7, 3.0, 3.2, 1.5, 2.5, 3.3, ...</td>\n",
              "      <td>[-2.6, -2.8, -2.7, -1.8, -1.1, 0.6, -0.2, -0.9...</td>\n",
              "      <td>[6.5, 6.4, 6.3, 6.3, 6.1, 6.5, 6.7, 6.7, 6.5, ...</td>\n",
              "      <td>[-23.6, -26.2, -25.1, -16.5, -10.2, 5.1, -1.5,...</td>\n",
              "      <td>[165.8, 156.9, 152.8, 153.6, 149.5, 149.8, 167...</td>\n",
              "    </tr>\n",
              "  </tbody>\n",
              "</table>\n",
              "</div>\n",
              "      <button class=\"colab-df-convert\" onclick=\"convertToInteractive('df-f60dd3c1-7421-4999-ab49-78aa68f73f2f')\"\n",
              "              title=\"Convert this dataframe to an interactive table.\"\n",
              "              style=\"display:none;\">\n",
              "        \n",
              "  <svg xmlns=\"http://www.w3.org/2000/svg\" height=\"24px\"viewBox=\"0 0 24 24\"\n",
              "       width=\"24px\">\n",
              "    <path d=\"M0 0h24v24H0V0z\" fill=\"none\"/>\n",
              "    <path d=\"M18.56 5.44l.94 2.06.94-2.06 2.06-.94-2.06-.94-.94-2.06-.94 2.06-2.06.94zm-11 1L8.5 8.5l.94-2.06 2.06-.94-2.06-.94L8.5 2.5l-.94 2.06-2.06.94zm10 10l.94 2.06.94-2.06 2.06-.94-2.06-.94-.94-2.06-.94 2.06-2.06.94z\"/><path d=\"M17.41 7.96l-1.37-1.37c-.4-.4-.92-.59-1.43-.59-.52 0-1.04.2-1.43.59L10.3 9.45l-7.72 7.72c-.78.78-.78 2.05 0 2.83L4 21.41c.39.39.9.59 1.41.59.51 0 1.02-.2 1.41-.59l7.78-7.78 2.81-2.81c.8-.78.8-2.07 0-2.86zM5.41 20L4 18.59l7.72-7.72 1.47 1.35L5.41 20z\"/>\n",
              "  </svg>\n",
              "      </button>\n",
              "      \n",
              "  <style>\n",
              "    .colab-df-container {\n",
              "      display:flex;\n",
              "      flex-wrap:wrap;\n",
              "      gap: 12px;\n",
              "    }\n",
              "\n",
              "    .colab-df-convert {\n",
              "      background-color: #E8F0FE;\n",
              "      border: none;\n",
              "      border-radius: 50%;\n",
              "      cursor: pointer;\n",
              "      display: none;\n",
              "      fill: #1967D2;\n",
              "      height: 32px;\n",
              "      padding: 0 0 0 0;\n",
              "      width: 32px;\n",
              "    }\n",
              "\n",
              "    .colab-df-convert:hover {\n",
              "      background-color: #E2EBFA;\n",
              "      box-shadow: 0px 1px 2px rgba(60, 64, 67, 0.3), 0px 1px 3px 1px rgba(60, 64, 67, 0.15);\n",
              "      fill: #174EA6;\n",
              "    }\n",
              "\n",
              "    [theme=dark] .colab-df-convert {\n",
              "      background-color: #3B4455;\n",
              "      fill: #D2E3FC;\n",
              "    }\n",
              "\n",
              "    [theme=dark] .colab-df-convert:hover {\n",
              "      background-color: #434B5C;\n",
              "      box-shadow: 0px 1px 3px 1px rgba(0, 0, 0, 0.15);\n",
              "      filter: drop-shadow(0px 1px 2px rgba(0, 0, 0, 0.3));\n",
              "      fill: #FFFFFF;\n",
              "    }\n",
              "  </style>\n",
              "\n",
              "      <script>\n",
              "        const buttonEl =\n",
              "          document.querySelector('#df-f60dd3c1-7421-4999-ab49-78aa68f73f2f button.colab-df-convert');\n",
              "        buttonEl.style.display =\n",
              "          google.colab.kernel.accessAllowed ? 'block' : 'none';\n",
              "\n",
              "        async function convertToInteractive(key) {\n",
              "          const element = document.querySelector('#df-f60dd3c1-7421-4999-ab49-78aa68f73f2f');\n",
              "          const dataTable =\n",
              "            await google.colab.kernel.invokeFunction('convertToInteractive',\n",
              "                                                     [key], {});\n",
              "          if (!dataTable) return;\n",
              "\n",
              "          const docLinkHtml = 'Like what you see? Visit the ' +\n",
              "            '<a target=\"_blank\" href=https://colab.research.google.com/notebooks/data_table.ipynb>data table notebook</a>'\n",
              "            + ' to learn more about interactive tables.';\n",
              "          element.innerHTML = '';\n",
              "          dataTable['output_type'] = 'display_data';\n",
              "          await google.colab.output.renderOutput(dataTable, element);\n",
              "          const docLink = document.createElement('div');\n",
              "          docLink.innerHTML = docLinkHtml;\n",
              "          element.appendChild(docLink);\n",
              "        }\n",
              "      </script>\n",
              "    </div>\n",
              "  </div>\n",
              "  "
            ]
          },
          "metadata": {},
          "execution_count": 8
        }
      ],
      "source": [
        "# Example after transformation\n",
        "mag_listed.head(2)"
      ]
    },
    {
      "cell_type": "code",
      "execution_count": null,
      "id": "365fa0e6",
      "metadata": {
        "pycharm": {
          "name": "#%%\n"
        },
        "id": "365fa0e6"
      },
      "outputs": [],
      "source": [
        "swepam_wanted_columns = ['proton_density', 'bulk_speed', 'ion_temperature', 'date']\n",
        "swepam_agg_grouped = swepam[swepam_wanted_columns].groupby(['date'])\n",
        "swepam_listed = swepam_agg_grouped[swepam_wanted_columns[:-1]].agg(lambda x : list(x.to_numpy()))\n",
        "swepam_listed.set_index(pd.DatetimeIndex(swepam_listed.index), inplace=True)"
      ]
    },
    {
      "cell_type": "code",
      "execution_count": null,
      "id": "7a1099d2",
      "metadata": {
        "pycharm": {
          "name": "#%%\n"
        },
        "id": "7a1099d2"
      },
      "outputs": [],
      "source": [
        "epam_wanted_columns = ['38-53', '175-315', '47-65', '112-187', '310-580',\n",
        "                       '761-1220', '060-1910', 'anis_ratio', 'date']\n",
        "epam_agg_grouped = epam[epam_wanted_columns].groupby(['date'])\n",
        "epam_listed = epam_agg_grouped[epam_wanted_columns[:-1]].agg(lambda x : list(x.to_numpy()))\n",
        "epam_listed.set_index(pd.DatetimeIndex(epam_listed.index), inplace=True)"
      ]
    },
    {
      "cell_type": "code",
      "execution_count": null,
      "id": "9e66c121",
      "metadata": {
        "pycharm": {
          "name": "#%%\n"
        },
        "id": "9e66c121"
      },
      "outputs": [],
      "source": [
        "sis_wanted_columns = ['> 10 MeV', '> 30 MeV', 'date']\n",
        "sis_agg_grouped = sis[sis_wanted_columns].groupby(['date'])\n",
        "sis_listed = sis_agg_grouped[sis_wanted_columns[:-1]].agg(lambda x : list(x.to_numpy()))\n",
        "sis_listed.set_index(pd.DatetimeIndex(sis_listed.index), inplace=True)"
      ]
    },
    {
      "cell_type": "markdown",
      "id": "c3d5399a",
      "metadata": {
        "pycharm": {
          "name": "#%% md\n"
        },
        "id": "c3d5399a"
      },
      "source": [
        "# SFA"
      ]
    },
    {
      "cell_type": "markdown",
      "id": "9537c04b",
      "metadata": {
        "pycharm": {
          "name": "#%% md\n"
        },
        "id": "9537c04b"
      },
      "source": [
        "SFA demands that timeseries that are being transformed have the same number of timestamps.\n",
        "\n",
        "SFA is done on two df because (sis, epam) are on 5min basis and (mag, swepam) are on a minute basis so they have different number of timestamps per day."
      ]
    },
    {
      "cell_type": "markdown",
      "id": "c2adfe4f",
      "metadata": {
        "pycharm": {
          "name": "#%% md\n"
        },
        "id": "c2adfe4f"
      },
      "source": [
        "### Adjust length of daily timeseries\n",
        "\n",
        "If timeseries happen to vary a bit in length due to some previous error, function slick_array will reduce their length to the length of the shortest"
      ]
    },
    {
      "cell_type": "code",
      "execution_count": null,
      "id": "2240840f",
      "metadata": {
        "pycharm": {
          "name": "#%%\n"
        },
        "id": "2240840f"
      },
      "outputs": [],
      "source": [
        "def slick_array(array):\n",
        "    listic = list(array)\n",
        "    min_size = min(list(map(len, listic)))\n",
        "    return np.array(list(map(lambda x: x[:min_size], listic)))"
      ]
    },
    {
      "cell_type": "markdown",
      "id": "008b3deb",
      "metadata": {
        "pycharm": {
          "name": "#%% md\n"
        },
        "id": "008b3deb"
      },
      "source": [
        "### Making an object required for transformation\n",
        "Each field in dataframe contains a list that represents a daily timeseries. Each list in one row needs to be turned to numpy.array and all of lists in one row need to be put in one numpy.array. For some reason I couldn't manage to do a more simple job :)"
      ]
    },
    {
      "cell_type": "code",
      "execution_count": null,
      "id": "1a731dba",
      "metadata": {
        "pycharm": {
          "name": "#%%\n"
        },
        "id": "1a731dba"
      },
      "outputs": [],
      "source": [
        "def list_to_numpy(listici_arg):\n",
        "    listici = slick_array(listici_arg)\n",
        "    res = np.array([listici[0]]).reshape(-1, 1)\n",
        "    for listic in listici[1:]:\n",
        "        res = np.concatenate((res, np.array([listic]).reshape(-1, 1)), axis = 1)\n",
        "    return res"
      ]
    },
    {
      "cell_type": "markdown",
      "id": "37e793b5",
      "metadata": {
        "pycharm": {
          "name": "#%% md\n"
        },
        "id": "37e793b5"
      },
      "source": [
        "### SFA transformation"
      ]
    },
    {
      "cell_type": "code",
      "execution_count": null,
      "id": "a2f05650",
      "metadata": {
        "pycharm": {
          "name": "#%%\n"
        },
        "id": "a2f05650"
      },
      "outputs": [],
      "source": [
        "def transform(array, num_coefs=3, num_bins=10):\n",
        "    x = list_to_numpy(array)\n",
        "    if x.shape[0] < num_bins:\n",
        "        return []\n",
        "    if x.shape[1] < num_coefs:\n",
        "        num_coefs=x.shape[1]\n",
        "    transformer = SymbolicFourierApproximation(n_coefs=num_coefs, n_bins=num_bins)    \n",
        "    transformed = transformer.fit_transform(x)\n",
        "    return transformed.flatten()"
      ]
    },
    {
      "cell_type": "code",
      "execution_count": null,
      "id": "cd853815",
      "metadata": {
        "pycharm": {
          "name": "#%%\n"
        },
        "colab": {
          "base_uri": "https://localhost:8080/",
          "height": 191
        },
        "id": "cd853815",
        "outputId": "54583258-c7aa-4890-8421-899155aa1259"
      },
      "outputs": [
        {
          "output_type": "execute_result",
          "data": {
            "text/plain": [
              "                                                     > 10 MeV  \\\n",
              "date                                                            \n",
              "2001-08-07  [0.831, 0.82, 0.821, 0.805, 0.809, 0.801, 0.80...   \n",
              "\n",
              "                                                     > 30 MeV  \\\n",
              "date                                                            \n",
              "2001-08-07  [0.587, 0.574, 0.576, 0.571, 0.574, 0.561, 0.5...   \n",
              "\n",
              "                                                        38-53  \\\n",
              "date                                                            \n",
              "2001-08-07  [694.0, 704.0, 797.0, 758.0, 650.0, 712.0, 724...   \n",
              "\n",
              "                                                      175-315  \\\n",
              "date                                                            \n",
              "2001-08-07  [11.6, 14.7, 13.4, 16.0, 16.2, 13.1, 14.9, 18....   \n",
              "\n",
              "                                                        47-65  \\\n",
              "date                                                            \n",
              "2001-08-07  [1130.0, 1210.0, 1560.0, 1490.0, 1360.0, 1110....   \n",
              "\n",
              "                                                      112-187  \\\n",
              "date                                                            \n",
              "2001-08-07  [123.0, 120.0, 131.0, 139.0, 133.0, 117.0, 126...   \n",
              "\n",
              "                                                      310-580  \\\n",
              "date                                                            \n",
              "2001-08-07  [6.65, 7.18, 7.67, 8.0, 7.18, 6.49, 6.26, 9.33...   \n",
              "\n",
              "                                                     761-1220  \\\n",
              "date                                                            \n",
              "2001-08-07  [0.633, 0.946, 0.889, 0.666, 0.903, 0.925, 0.6...   \n",
              "\n",
              "                                                     060-1910  \\\n",
              "date                                                            \n",
              "2001-08-07  [0.193, 0.252, 0.321, 0.234, 0.19, 0.257, 0.27...   \n",
              "\n",
              "                                                   anis_ratio  \n",
              "date                                                           \n",
              "2001-08-07  [0.9, 0.68, 1.38, 0.89, 0.43, 0.83, 0.94, 1.02...  "
            ],
            "text/html": [
              "\n",
              "  <div id=\"df-1661df7d-4877-40f3-9cbb-96b70584da19\">\n",
              "    <div class=\"colab-df-container\">\n",
              "      <div>\n",
              "<style scoped>\n",
              "    .dataframe tbody tr th:only-of-type {\n",
              "        vertical-align: middle;\n",
              "    }\n",
              "\n",
              "    .dataframe tbody tr th {\n",
              "        vertical-align: top;\n",
              "    }\n",
              "\n",
              "    .dataframe thead th {\n",
              "        text-align: right;\n",
              "    }\n",
              "</style>\n",
              "<table border=\"1\" class=\"dataframe\">\n",
              "  <thead>\n",
              "    <tr style=\"text-align: right;\">\n",
              "      <th></th>\n",
              "      <th>&gt; 10 MeV</th>\n",
              "      <th>&gt; 30 MeV</th>\n",
              "      <th>38-53</th>\n",
              "      <th>175-315</th>\n",
              "      <th>47-65</th>\n",
              "      <th>112-187</th>\n",
              "      <th>310-580</th>\n",
              "      <th>761-1220</th>\n",
              "      <th>060-1910</th>\n",
              "      <th>anis_ratio</th>\n",
              "    </tr>\n",
              "    <tr>\n",
              "      <th>date</th>\n",
              "      <th></th>\n",
              "      <th></th>\n",
              "      <th></th>\n",
              "      <th></th>\n",
              "      <th></th>\n",
              "      <th></th>\n",
              "      <th></th>\n",
              "      <th></th>\n",
              "      <th></th>\n",
              "      <th></th>\n",
              "    </tr>\n",
              "  </thead>\n",
              "  <tbody>\n",
              "    <tr>\n",
              "      <th>2001-08-07</th>\n",
              "      <td>[0.831, 0.82, 0.821, 0.805, 0.809, 0.801, 0.80...</td>\n",
              "      <td>[0.587, 0.574, 0.576, 0.571, 0.574, 0.561, 0.5...</td>\n",
              "      <td>[694.0, 704.0, 797.0, 758.0, 650.0, 712.0, 724...</td>\n",
              "      <td>[11.6, 14.7, 13.4, 16.0, 16.2, 13.1, 14.9, 18....</td>\n",
              "      <td>[1130.0, 1210.0, 1560.0, 1490.0, 1360.0, 1110....</td>\n",
              "      <td>[123.0, 120.0, 131.0, 139.0, 133.0, 117.0, 126...</td>\n",
              "      <td>[6.65, 7.18, 7.67, 8.0, 7.18, 6.49, 6.26, 9.33...</td>\n",
              "      <td>[0.633, 0.946, 0.889, 0.666, 0.903, 0.925, 0.6...</td>\n",
              "      <td>[0.193, 0.252, 0.321, 0.234, 0.19, 0.257, 0.27...</td>\n",
              "      <td>[0.9, 0.68, 1.38, 0.89, 0.43, 0.83, 0.94, 1.02...</td>\n",
              "    </tr>\n",
              "  </tbody>\n",
              "</table>\n",
              "</div>\n",
              "      <button class=\"colab-df-convert\" onclick=\"convertToInteractive('df-1661df7d-4877-40f3-9cbb-96b70584da19')\"\n",
              "              title=\"Convert this dataframe to an interactive table.\"\n",
              "              style=\"display:none;\">\n",
              "        \n",
              "  <svg xmlns=\"http://www.w3.org/2000/svg\" height=\"24px\"viewBox=\"0 0 24 24\"\n",
              "       width=\"24px\">\n",
              "    <path d=\"M0 0h24v24H0V0z\" fill=\"none\"/>\n",
              "    <path d=\"M18.56 5.44l.94 2.06.94-2.06 2.06-.94-2.06-.94-.94-2.06-.94 2.06-2.06.94zm-11 1L8.5 8.5l.94-2.06 2.06-.94-2.06-.94L8.5 2.5l-.94 2.06-2.06.94zm10 10l.94 2.06.94-2.06 2.06-.94-2.06-.94-.94-2.06-.94 2.06-2.06.94z\"/><path d=\"M17.41 7.96l-1.37-1.37c-.4-.4-.92-.59-1.43-.59-.52 0-1.04.2-1.43.59L10.3 9.45l-7.72 7.72c-.78.78-.78 2.05 0 2.83L4 21.41c.39.39.9.59 1.41.59.51 0 1.02-.2 1.41-.59l7.78-7.78 2.81-2.81c.8-.78.8-2.07 0-2.86zM5.41 20L4 18.59l7.72-7.72 1.47 1.35L5.41 20z\"/>\n",
              "  </svg>\n",
              "      </button>\n",
              "      \n",
              "  <style>\n",
              "    .colab-df-container {\n",
              "      display:flex;\n",
              "      flex-wrap:wrap;\n",
              "      gap: 12px;\n",
              "    }\n",
              "\n",
              "    .colab-df-convert {\n",
              "      background-color: #E8F0FE;\n",
              "      border: none;\n",
              "      border-radius: 50%;\n",
              "      cursor: pointer;\n",
              "      display: none;\n",
              "      fill: #1967D2;\n",
              "      height: 32px;\n",
              "      padding: 0 0 0 0;\n",
              "      width: 32px;\n",
              "    }\n",
              "\n",
              "    .colab-df-convert:hover {\n",
              "      background-color: #E2EBFA;\n",
              "      box-shadow: 0px 1px 2px rgba(60, 64, 67, 0.3), 0px 1px 3px 1px rgba(60, 64, 67, 0.15);\n",
              "      fill: #174EA6;\n",
              "    }\n",
              "\n",
              "    [theme=dark] .colab-df-convert {\n",
              "      background-color: #3B4455;\n",
              "      fill: #D2E3FC;\n",
              "    }\n",
              "\n",
              "    [theme=dark] .colab-df-convert:hover {\n",
              "      background-color: #434B5C;\n",
              "      box-shadow: 0px 1px 3px 1px rgba(0, 0, 0, 0.15);\n",
              "      filter: drop-shadow(0px 1px 2px rgba(0, 0, 0, 0.3));\n",
              "      fill: #FFFFFF;\n",
              "    }\n",
              "  </style>\n",
              "\n",
              "      <script>\n",
              "        const buttonEl =\n",
              "          document.querySelector('#df-1661df7d-4877-40f3-9cbb-96b70584da19 button.colab-df-convert');\n",
              "        buttonEl.style.display =\n",
              "          google.colab.kernel.accessAllowed ? 'block' : 'none';\n",
              "\n",
              "        async function convertToInteractive(key) {\n",
              "          const element = document.querySelector('#df-1661df7d-4877-40f3-9cbb-96b70584da19');\n",
              "          const dataTable =\n",
              "            await google.colab.kernel.invokeFunction('convertToInteractive',\n",
              "                                                     [key], {});\n",
              "          if (!dataTable) return;\n",
              "\n",
              "          const docLinkHtml = 'Like what you see? Visit the ' +\n",
              "            '<a target=\"_blank\" href=https://colab.research.google.com/notebooks/data_table.ipynb>data table notebook</a>'\n",
              "            + ' to learn more about interactive tables.';\n",
              "          element.innerHTML = '';\n",
              "          dataTable['output_type'] = 'display_data';\n",
              "          await google.colab.output.renderOutput(dataTable, element);\n",
              "          const docLink = document.createElement('div');\n",
              "          docLink.innerHTML = docLinkHtml;\n",
              "          element.appendChild(docLink);\n",
              "        }\n",
              "      </script>\n",
              "    </div>\n",
              "  </div>\n",
              "  "
            ]
          },
          "metadata": {},
          "execution_count": 15
        }
      ],
      "source": [
        "resManji = pd.concat([sis_listed, epam_listed], axis=1, join=\"inner\")\n",
        "resVeci = pd.concat([mag_listed, swepam_listed], axis=1, join=\"inner\")\n",
        "# Example before transformation\n",
        "resManji.head(1)"
      ]
    },
    {
      "cell_type": "code",
      "execution_count": null,
      "id": "c68590c5",
      "metadata": {
        "pycharm": {
          "name": "#%%\n"
        },
        "colab": {
          "base_uri": "https://localhost:8080/"
        },
        "id": "c68590c5",
        "outputId": "a0246ce5-5c26-4554-c329-314a7ca680c9"
      },
      "outputs": [
        {
          "output_type": "stream",
          "name": "stdout",
          "text": [
            "#1 Transforming smaller set...\n",
            "#1 Transforming smaller set DONE\n",
            "#1 Transforming bigger set...\n",
            "#1 Transforming bigger set DONE\n"
          ]
        },
        {
          "output_type": "execute_result",
          "data": {
            "text/plain": [
              "date\n",
              "2001-08-07    [e, a, a, e, a, a, e, a, a, e, a, a, e, a, a, ...\n",
              "2001-08-08    [d, b, b, d, a, b, e, b, a, e, a, a, e, c, a, ...\n",
              "2001-08-09    [b, a, d, b, b, d, a, a, e, a, a, e, c, a, c, ...\n",
              "2001-08-10    [a, e, b, a, e, b, a, e, b, a, e, b, a, e, b, ...\n",
              "2001-08-11    [a, e, e, a, e, e, a, e, e, a, e, e, a, e, e, ...\n",
              "dtype: object"
            ]
          },
          "metadata": {},
          "execution_count": 16
        }
      ],
      "source": [
        "print(\"#1 Transforming smaller set...\")\n",
        "resManji_transformed_1 = resManji.apply(transform, axis=1, args=(3,5))\n",
        "print(\"#1 Transforming smaller set DONE\")\n",
        "\n",
        "print(\"#1 Transforming bigger set...\")\n",
        "resVeci_transformed_1 = resVeci.apply(transform, axis=1, args=(3,5))\n",
        "print(\"#1 Transforming bigger set DONE\")\n",
        "\n",
        "# Example after transformation\n",
        "resManji_transformed_1.head()"
      ]
    },
    {
      "cell_type": "code",
      "execution_count": null,
      "id": "7a5d664b",
      "metadata": {
        "colab": {
          "base_uri": "https://localhost:8080/"
        },
        "id": "7a5d664b",
        "outputId": "7d57799b-2d04-4820-c730-26777f3bded5"
      },
      "outputs": [
        {
          "output_type": "stream",
          "name": "stdout",
          "text": [
            "#2 Transforming smaller set...\n",
            "#2 Transforming smaller set DONE\n",
            "#2 Transforming bigger set...\n",
            "#2 Transforming bigger set DONE\n"
          ]
        }
      ],
      "source": [
        "print(\"#2 Transforming smaller set...\")\n",
        "resManji_transformed_2 = resManji.apply(transform, axis=1, args=(3,7))\n",
        "print(\"#2 Transforming smaller set DONE\")\n",
        "\n",
        "print(\"#2 Transforming bigger set...\")\n",
        "resVeci_transformed_2 = resVeci.apply(transform, axis=1, args=(3,7))\n",
        "print(\"#2 Transforming bigger set DONE\")"
      ]
    },
    {
      "cell_type": "markdown",
      "id": "38b4d422",
      "metadata": {
        "pycharm": {
          "name": "#%% md\n"
        },
        "id": "38b4d422"
      },
      "source": [
        "### Joining two dfs\n",
        "Join both transformed dfs and join their lists into one"
      ]
    },
    {
      "cell_type": "code",
      "execution_count": null,
      "id": "3cfb5533",
      "metadata": {
        "pycharm": {
          "name": "#%%\n"
        },
        "id": "3cfb5533"
      },
      "outputs": [],
      "source": [
        "def flatten_row(row):\n",
        "    return np.concatenate((row[0], row[1]))"
      ]
    },
    {
      "cell_type": "code",
      "execution_count": null,
      "id": "794618aa",
      "metadata": {
        "pycharm": {
          "name": "#%%\n"
        },
        "colab": {
          "base_uri": "https://localhost:8080/"
        },
        "id": "794618aa",
        "outputId": "0a76c715-03d7-44a7-ff4c-99d8dfb09074"
      },
      "outputs": [
        {
          "output_type": "execute_result",
          "data": {
            "text/plain": [
              "date\n",
              "2001-08-07    [e, a, a, e, a, a, e, a, a, e, a, a, e, a, a, ...\n",
              "2001-08-08    [d, b, b, d, a, b, e, b, a, e, a, a, e, c, a, ...\n",
              "2001-08-09    [b, a, d, b, b, d, a, a, e, a, a, e, c, a, c, ...\n",
              "dtype: object"
            ]
          },
          "metadata": {},
          "execution_count": 19
        }
      ],
      "source": [
        "res_1 = pd.concat([resManji_transformed_1, resVeci_transformed_1], axis=1, join=\"inner\").apply(flatten_row, axis=1)\n",
        "res_1.head(3)"
      ]
    },
    {
      "cell_type": "code",
      "execution_count": null,
      "id": "9a747fea",
      "metadata": {
        "colab": {
          "base_uri": "https://localhost:8080/"
        },
        "id": "9a747fea",
        "outputId": "991f9d8b-5d84-48e1-866d-9b5b97ee401f"
      },
      "outputs": [
        {
          "output_type": "execute_result",
          "data": {
            "text/plain": [
              "date\n",
              "2001-08-07    [g, a, a, g, a, a, g, a, a, g, a, a, g, a, a, ...\n",
              "2001-08-08    [f, b, b, f, b, c, g, c, a, g, b, a, g, d, a, ...\n",
              "2001-08-09    [c, b, e, b, c, f, a, a, g, a, a, g, d, a, d, ...\n",
              "dtype: object"
            ]
          },
          "metadata": {},
          "execution_count": 20
        }
      ],
      "source": [
        "res_2 = pd.concat([resManji_transformed_2, resVeci_transformed_2], axis=1, join=\"inner\").apply(flatten_row, axis=1)\n",
        "res_2.head(3)"
      ]
    },
    {
      "cell_type": "markdown",
      "id": "69b48650",
      "metadata": {
        "pycharm": {
          "name": "#%% md\n"
        },
        "id": "69b48650"
      },
      "source": [
        "# Adding class label"
      ]
    },
    {
      "cell_type": "markdown",
      "id": "924e374d",
      "metadata": {
        "pycharm": {
          "name": "#%% md\n"
        },
        "id": "924e374d"
      },
      "source": [
        "### Loading flood dates"
      ]
    },
    {
      "cell_type": "code",
      "execution_count": null,
      "id": "6b1001e9",
      "metadata": {
        "pycharm": {
          "name": "#%%\n"
        },
        "colab": {
          "base_uri": "https://localhost:8080/"
        },
        "id": "6b1001e9",
        "outputId": "e5de2c88-f5d3-492a-f080-8374a653fd5f"
      },
      "outputs": [
        {
          "output_type": "stream",
          "name": "stdout",
          "text": [
            "============= Processing floods set..\n",
            "============= Processing floods set DONE\n"
          ]
        }
      ],
      "source": [
        "print(\"============= Processing floods set..\")\n",
        "floods = pd.read_csv(\"floods.csv\", index_col=\"date\").drop([\"Unnamed: 0\"], axis =1)\n",
        "floods.set_index(pd.DatetimeIndex(floods.index), inplace=True)\n",
        "floods_new = pd.read_csv(\"floodphenomena.csv\")\n",
        "floods_new = floods_new[(floods_new[\"StartDate\"].notna()) | (floods_new[\"EndDate\"].notna())]\n",
        "floods_new[\"StartDateTime\"] = pd.to_datetime(floods_new[\"StartDate\"], infer_datetime_format=True)\n",
        "floods_new[\"StartDate\"] = floods_new[\"StartDateTime\"].dt.date\n",
        "floods_new[\"EndDateTime\"] = pd.to_datetime(floods_new[\"EndDate\"], infer_datetime_format=True)\n",
        "floods_new[\"EndDate\"] = floods_new[\"EndDateTime\"].dt.date\n",
        "floods_new = floods_new[floods_new[\"StartDate\"] >= datetime.strptime(\"2001-01-01\", \"%Y-%m-%d\").date()]\n",
        "flood_dates = pd.concat([floods_new[\"StartDateTime\"], floods[floods[\"flood\"]].index.to_series()], axis = 0)\n",
        "print(\"============= Processing floods set DONE\")"
      ]
    },
    {
      "cell_type": "markdown",
      "id": "05f6ea14",
      "metadata": {
        "pycharm": {
          "name": "#%% md\n"
        },
        "id": "05f6ea14"
      },
      "source": [
        "### Adding class according to flood dates\n",
        "True  -> date from resulting aggregation is in flood dates\n",
        "\n",
        "False -> otherwise\n",
        "\n",
        "Also, join lists into one string"
      ]
    },
    {
      "cell_type": "code",
      "execution_count": null,
      "id": "2911d89c",
      "metadata": {
        "pycharm": {
          "name": "#%%\n"
        },
        "colab": {
          "base_uri": "https://localhost:8080/"
        },
        "id": "2911d89c",
        "outputId": "dd2fd4d6-5fcd-44da-8a16-8557309788f8"
      },
      "outputs": [
        {
          "output_type": "stream",
          "name": "stdout",
          "text": [
            "Making df 1 ...\n",
            "Making df 1 DONE\n"
          ]
        }
      ],
      "source": [
        "print(\"Making df 1 ...\")\n",
        "df_1 = pd.DataFrame(columns=[\"data\", \"class\"], index=res_1.index)\n",
        "df_1[\"data\"] = res_1.apply(lambda x: \"\".join(x))\n",
        "df_1[\"class\"] = res_1.index.isin(flood_dates)\n",
        "df_1.head(3)\n",
        "print(\"Making df 1 DONE\")"
      ]
    },
    {
      "cell_type": "code",
      "execution_count": null,
      "id": "60859969",
      "metadata": {
        "colab": {
          "base_uri": "https://localhost:8080/"
        },
        "id": "60859969",
        "outputId": "ad7f0610-715a-48b2-8f0c-b0929a720974"
      },
      "outputs": [
        {
          "output_type": "stream",
          "name": "stdout",
          "text": [
            "Making df 2 ...\n",
            "Making df 2 DONE\n"
          ]
        }
      ],
      "source": [
        "print(\"Making df 2 ...\")\n",
        "df_2 = pd.DataFrame(columns=[\"data\", \"class\"], index=res_2.index)\n",
        "df_2[\"data\"] = res_2.apply(lambda x: \"\".join(x))\n",
        "df_2[\"class\"] = res_2.index.isin(flood_dates)\n",
        "df_2.head(3)\n",
        "print(\"Making df 2 DONE\")"
      ]
    },
    {
      "cell_type": "code",
      "execution_count": null,
      "id": "4e8f4247",
      "metadata": {
        "pycharm": {
          "name": "#%%\n"
        },
        "colab": {
          "base_uri": "https://localhost:8080/"
        },
        "id": "4e8f4247",
        "outputId": "77af50c5-aba0-4d88-bf96-480a362cc73f"
      },
      "outputs": [
        {
          "output_type": "stream",
          "name": "stdout",
          "text": [
            "Saving df1 ...\n",
            "Saving df1 DONE\n"
          ]
        }
      ],
      "source": [
        "print(\"Saving df1 ...\")\n",
        "df_1.to_csv(\"sfa_1.csv\")\n",
        "print(\"Saving df1 DONE\")"
      ]
    },
    {
      "cell_type": "code",
      "execution_count": null,
      "id": "1207eed3",
      "metadata": {
        "pycharm": {
          "name": "#%%\n"
        },
        "colab": {
          "base_uri": "https://localhost:8080/"
        },
        "id": "1207eed3",
        "outputId": "14509c7c-d95a-4a72-b6f0-df325a2d52f5"
      },
      "outputs": [
        {
          "output_type": "stream",
          "name": "stdout",
          "text": [
            "Saving df2 ...\n",
            "Saving df2 DONE\n"
          ]
        }
      ],
      "source": [
        "print(\"Saving df2 ...\")\n",
        "df_2.to_csv(\"sfa_2.csv\")\n",
        "print(\"Saving df2 DONE\")"
      ]
    },
    {
      "cell_type": "code",
      "source": [
        "time_period = pd.date_range(start='2001-08-07', end='2015-12-31')"
      ],
      "metadata": {
        "id": "WE1RLpT6gkCc"
      },
      "id": "WE1RLpT6gkCc",
      "execution_count": null,
      "outputs": []
    },
    {
      "cell_type": "code",
      "source": [
        "df_1 = df_1.reset_index()\n",
        "df_1"
      ],
      "metadata": {
        "id": "R3cavZjdgyAU",
        "colab": {
          "base_uri": "https://localhost:8080/",
          "height": 424
        },
        "outputId": "33cc287a-cf77-4ef5-b270-bba2174c2619"
      },
      "id": "R3cavZjdgyAU",
      "execution_count": null,
      "outputs": [
        {
          "output_type": "execute_result",
          "data": {
            "text/plain": [
              "           date                                               data  class\n",
              "0    2001-08-07  eaaeaaeaaeaaeaaeaaeaaeaaeaaeaaeaaeaaeaaeaaeaae...  False\n",
              "1    2001-08-08  dbbdabebaeaaecadabcbcdbbcadeaaecadbbedadabdcbb...  False\n",
              "2    2001-08-09  badbbdaaeaaecaccacbadcacdbbcaccbcbadabeaaebadc...  False\n",
              "3    2001-08-10  aebaebaebaebaebaecaedaedaedaedaecaecaecaecaeca...  False\n",
              "4    2001-08-11  aeeaeeaeeaeeaeeaeeaeeaeeaeeaeeaeeaeeaeeaeeaeea...  False\n",
              "...         ...                                                ...    ...\n",
              "7446 2022-04-28  aedbecadeadeaeebddadeaeebedaeeaeeaeebddadeaeeb...  False\n",
              "7447 2022-04-29  adeaceadeadeadeadeadebddaceaceaddaceadeadeaddb...  False\n",
              "7448 2022-04-30  cbbcbcbdcbccbccbdccccbccbdcbdcbdcbdcbdcbdcbdcb...  False\n",
              "7449 2022-05-01  ebaebaebaeaaebaeaaeaaebaebaebaebaecaebaecaecae...  False\n",
              "7450 2022-05-02  eeaeeaeeaeaaeaaeaaeeaeaaeaaeaaeaaecaeeaeeaebae...  False\n",
              "\n",
              "[7451 rows x 3 columns]"
            ],
            "text/html": [
              "\n",
              "  <div id=\"df-7dbfdfa7-7417-46af-a6c7-daf3a2295c1b\">\n",
              "    <div class=\"colab-df-container\">\n",
              "      <div>\n",
              "<style scoped>\n",
              "    .dataframe tbody tr th:only-of-type {\n",
              "        vertical-align: middle;\n",
              "    }\n",
              "\n",
              "    .dataframe tbody tr th {\n",
              "        vertical-align: top;\n",
              "    }\n",
              "\n",
              "    .dataframe thead th {\n",
              "        text-align: right;\n",
              "    }\n",
              "</style>\n",
              "<table border=\"1\" class=\"dataframe\">\n",
              "  <thead>\n",
              "    <tr style=\"text-align: right;\">\n",
              "      <th></th>\n",
              "      <th>date</th>\n",
              "      <th>data</th>\n",
              "      <th>class</th>\n",
              "    </tr>\n",
              "  </thead>\n",
              "  <tbody>\n",
              "    <tr>\n",
              "      <th>0</th>\n",
              "      <td>2001-08-07</td>\n",
              "      <td>eaaeaaeaaeaaeaaeaaeaaeaaeaaeaaeaaeaaeaaeaaeaae...</td>\n",
              "      <td>False</td>\n",
              "    </tr>\n",
              "    <tr>\n",
              "      <th>1</th>\n",
              "      <td>2001-08-08</td>\n",
              "      <td>dbbdabebaeaaecadabcbcdbbcadeaaecadbbedadabdcbb...</td>\n",
              "      <td>False</td>\n",
              "    </tr>\n",
              "    <tr>\n",
              "      <th>2</th>\n",
              "      <td>2001-08-09</td>\n",
              "      <td>badbbdaaeaaecaccacbadcacdbbcaccbcbadabeaaebadc...</td>\n",
              "      <td>False</td>\n",
              "    </tr>\n",
              "    <tr>\n",
              "      <th>3</th>\n",
              "      <td>2001-08-10</td>\n",
              "      <td>aebaebaebaebaebaecaedaedaedaedaecaecaecaecaeca...</td>\n",
              "      <td>False</td>\n",
              "    </tr>\n",
              "    <tr>\n",
              "      <th>4</th>\n",
              "      <td>2001-08-11</td>\n",
              "      <td>aeeaeeaeeaeeaeeaeeaeeaeeaeeaeeaeeaeeaeeaeeaeea...</td>\n",
              "      <td>False</td>\n",
              "    </tr>\n",
              "    <tr>\n",
              "      <th>...</th>\n",
              "      <td>...</td>\n",
              "      <td>...</td>\n",
              "      <td>...</td>\n",
              "    </tr>\n",
              "    <tr>\n",
              "      <th>7446</th>\n",
              "      <td>2022-04-28</td>\n",
              "      <td>aedbecadeadeaeebddadeaeebedaeeaeeaeebddadeaeeb...</td>\n",
              "      <td>False</td>\n",
              "    </tr>\n",
              "    <tr>\n",
              "      <th>7447</th>\n",
              "      <td>2022-04-29</td>\n",
              "      <td>adeaceadeadeadeadeadebddaceaceaddaceadeadeaddb...</td>\n",
              "      <td>False</td>\n",
              "    </tr>\n",
              "    <tr>\n",
              "      <th>7448</th>\n",
              "      <td>2022-04-30</td>\n",
              "      <td>cbbcbcbdcbccbccbdccccbccbdcbdcbdcbdcbdcbdcbdcb...</td>\n",
              "      <td>False</td>\n",
              "    </tr>\n",
              "    <tr>\n",
              "      <th>7449</th>\n",
              "      <td>2022-05-01</td>\n",
              "      <td>ebaebaebaeaaebaeaaeaaebaebaebaebaecaebaecaecae...</td>\n",
              "      <td>False</td>\n",
              "    </tr>\n",
              "    <tr>\n",
              "      <th>7450</th>\n",
              "      <td>2022-05-02</td>\n",
              "      <td>eeaeeaeeaeaaeaaeaaeeaeaaeaaeaaeaaecaeeaeeaebae...</td>\n",
              "      <td>False</td>\n",
              "    </tr>\n",
              "  </tbody>\n",
              "</table>\n",
              "<p>7451 rows × 3 columns</p>\n",
              "</div>\n",
              "      <button class=\"colab-df-convert\" onclick=\"convertToInteractive('df-7dbfdfa7-7417-46af-a6c7-daf3a2295c1b')\"\n",
              "              title=\"Convert this dataframe to an interactive table.\"\n",
              "              style=\"display:none;\">\n",
              "        \n",
              "  <svg xmlns=\"http://www.w3.org/2000/svg\" height=\"24px\"viewBox=\"0 0 24 24\"\n",
              "       width=\"24px\">\n",
              "    <path d=\"M0 0h24v24H0V0z\" fill=\"none\"/>\n",
              "    <path d=\"M18.56 5.44l.94 2.06.94-2.06 2.06-.94-2.06-.94-.94-2.06-.94 2.06-2.06.94zm-11 1L8.5 8.5l.94-2.06 2.06-.94-2.06-.94L8.5 2.5l-.94 2.06-2.06.94zm10 10l.94 2.06.94-2.06 2.06-.94-2.06-.94-.94-2.06-.94 2.06-2.06.94z\"/><path d=\"M17.41 7.96l-1.37-1.37c-.4-.4-.92-.59-1.43-.59-.52 0-1.04.2-1.43.59L10.3 9.45l-7.72 7.72c-.78.78-.78 2.05 0 2.83L4 21.41c.39.39.9.59 1.41.59.51 0 1.02-.2 1.41-.59l7.78-7.78 2.81-2.81c.8-.78.8-2.07 0-2.86zM5.41 20L4 18.59l7.72-7.72 1.47 1.35L5.41 20z\"/>\n",
              "  </svg>\n",
              "      </button>\n",
              "      \n",
              "  <style>\n",
              "    .colab-df-container {\n",
              "      display:flex;\n",
              "      flex-wrap:wrap;\n",
              "      gap: 12px;\n",
              "    }\n",
              "\n",
              "    .colab-df-convert {\n",
              "      background-color: #E8F0FE;\n",
              "      border: none;\n",
              "      border-radius: 50%;\n",
              "      cursor: pointer;\n",
              "      display: none;\n",
              "      fill: #1967D2;\n",
              "      height: 32px;\n",
              "      padding: 0 0 0 0;\n",
              "      width: 32px;\n",
              "    }\n",
              "\n",
              "    .colab-df-convert:hover {\n",
              "      background-color: #E2EBFA;\n",
              "      box-shadow: 0px 1px 2px rgba(60, 64, 67, 0.3), 0px 1px 3px 1px rgba(60, 64, 67, 0.15);\n",
              "      fill: #174EA6;\n",
              "    }\n",
              "\n",
              "    [theme=dark] .colab-df-convert {\n",
              "      background-color: #3B4455;\n",
              "      fill: #D2E3FC;\n",
              "    }\n",
              "\n",
              "    [theme=dark] .colab-df-convert:hover {\n",
              "      background-color: #434B5C;\n",
              "      box-shadow: 0px 1px 3px 1px rgba(0, 0, 0, 0.15);\n",
              "      filter: drop-shadow(0px 1px 2px rgba(0, 0, 0, 0.3));\n",
              "      fill: #FFFFFF;\n",
              "    }\n",
              "  </style>\n",
              "\n",
              "      <script>\n",
              "        const buttonEl =\n",
              "          document.querySelector('#df-7dbfdfa7-7417-46af-a6c7-daf3a2295c1b button.colab-df-convert');\n",
              "        buttonEl.style.display =\n",
              "          google.colab.kernel.accessAllowed ? 'block' : 'none';\n",
              "\n",
              "        async function convertToInteractive(key) {\n",
              "          const element = document.querySelector('#df-7dbfdfa7-7417-46af-a6c7-daf3a2295c1b');\n",
              "          const dataTable =\n",
              "            await google.colab.kernel.invokeFunction('convertToInteractive',\n",
              "                                                     [key], {});\n",
              "          if (!dataTable) return;\n",
              "\n",
              "          const docLinkHtml = 'Like what you see? Visit the ' +\n",
              "            '<a target=\"_blank\" href=https://colab.research.google.com/notebooks/data_table.ipynb>data table notebook</a>'\n",
              "            + ' to learn more about interactive tables.';\n",
              "          element.innerHTML = '';\n",
              "          dataTable['output_type'] = 'display_data';\n",
              "          await google.colab.output.renderOutput(dataTable, element);\n",
              "          const docLink = document.createElement('div');\n",
              "          docLink.innerHTML = docLinkHtml;\n",
              "          element.appendChild(docLink);\n",
              "        }\n",
              "      </script>\n",
              "    </div>\n",
              "  </div>\n",
              "  "
            ]
          },
          "metadata": {},
          "execution_count": 28
        }
      ]
    },
    {
      "cell_type": "code",
      "source": [
        "df_1['date'] = df_1['date'].astype('datetime64')\n",
        "df_1_2015 = df_1[df_1['date'].isin(time_period)]\n",
        "df_1_2015 = df_1_2015.set_index('date')\n",
        "df_1_2015"
      ],
      "metadata": {
        "colab": {
          "base_uri": "https://localhost:8080/",
          "height": 455
        },
        "id": "6YtVIo1kfDCX",
        "outputId": "d35eefbc-759d-425a-f519-f6f1ed0f317a"
      },
      "id": "6YtVIo1kfDCX",
      "execution_count": null,
      "outputs": [
        {
          "output_type": "execute_result",
          "data": {
            "text/plain": [
              "                                                         data  class\n",
              "date                                                                \n",
              "2001-08-07  eaaeaaeaaeaaeaaeaaeaaeaaeaaeaaeaaeaaeaaeaaeaae...  False\n",
              "2001-08-08  dbbdabebaeaaecadabcbcdbbcadeaaecadbbedadabdcbb...  False\n",
              "2001-08-09  badbbdaaeaaecaccacbadcacdbbcaccbcbadabeaaebadc...  False\n",
              "2001-08-10  aebaebaebaebaebaecaedaedaedaedaecaecaecaecaeca...  False\n",
              "2001-08-11  aeeaeeaeeaeeaeeaeeaeeaeeaeeaeeaeeaeeaeeaeeaeea...  False\n",
              "...                                                       ...    ...\n",
              "2015-12-27  baecbdcadcbdcbcbbddbcabebcddcbcdcbdeacebcdbbdb...  False\n",
              "2015-12-28  cbccadabebcdabebadbadaaecacbbdacecaccacabebadb...  False\n",
              "2015-12-29  eeaeeaeeaeeaeeaeeaeeaeeaeeaeeaeeaeeaeeaeeaeeae...  False\n",
              "2015-12-30  aeeaeeaeeaeeaeeaeeaeeaeeaeeaeeaeeaeeaeeaeeaeea...  False\n",
              "2015-12-31  eaaeaaeaaeaaeaaeaaeaaeaaeaaeaaeaaeaaeaaeaaeaae...  False\n",
              "\n",
              "[5156 rows x 2 columns]"
            ],
            "text/html": [
              "\n",
              "  <div id=\"df-6533813d-1260-4411-816e-0dcb7d19e112\">\n",
              "    <div class=\"colab-df-container\">\n",
              "      <div>\n",
              "<style scoped>\n",
              "    .dataframe tbody tr th:only-of-type {\n",
              "        vertical-align: middle;\n",
              "    }\n",
              "\n",
              "    .dataframe tbody tr th {\n",
              "        vertical-align: top;\n",
              "    }\n",
              "\n",
              "    .dataframe thead th {\n",
              "        text-align: right;\n",
              "    }\n",
              "</style>\n",
              "<table border=\"1\" class=\"dataframe\">\n",
              "  <thead>\n",
              "    <tr style=\"text-align: right;\">\n",
              "      <th></th>\n",
              "      <th>data</th>\n",
              "      <th>class</th>\n",
              "    </tr>\n",
              "    <tr>\n",
              "      <th>date</th>\n",
              "      <th></th>\n",
              "      <th></th>\n",
              "    </tr>\n",
              "  </thead>\n",
              "  <tbody>\n",
              "    <tr>\n",
              "      <th>2001-08-07</th>\n",
              "      <td>eaaeaaeaaeaaeaaeaaeaaeaaeaaeaaeaaeaaeaaeaaeaae...</td>\n",
              "      <td>False</td>\n",
              "    </tr>\n",
              "    <tr>\n",
              "      <th>2001-08-08</th>\n",
              "      <td>dbbdabebaeaaecadabcbcdbbcadeaaecadbbedadabdcbb...</td>\n",
              "      <td>False</td>\n",
              "    </tr>\n",
              "    <tr>\n",
              "      <th>2001-08-09</th>\n",
              "      <td>badbbdaaeaaecaccacbadcacdbbcaccbcbadabeaaebadc...</td>\n",
              "      <td>False</td>\n",
              "    </tr>\n",
              "    <tr>\n",
              "      <th>2001-08-10</th>\n",
              "      <td>aebaebaebaebaebaecaedaedaedaedaecaecaecaecaeca...</td>\n",
              "      <td>False</td>\n",
              "    </tr>\n",
              "    <tr>\n",
              "      <th>2001-08-11</th>\n",
              "      <td>aeeaeeaeeaeeaeeaeeaeeaeeaeeaeeaeeaeeaeeaeeaeea...</td>\n",
              "      <td>False</td>\n",
              "    </tr>\n",
              "    <tr>\n",
              "      <th>...</th>\n",
              "      <td>...</td>\n",
              "      <td>...</td>\n",
              "    </tr>\n",
              "    <tr>\n",
              "      <th>2015-12-27</th>\n",
              "      <td>baecbdcadcbdcbcbbddbcabebcddcbcdcbdeacebcdbbdb...</td>\n",
              "      <td>False</td>\n",
              "    </tr>\n",
              "    <tr>\n",
              "      <th>2015-12-28</th>\n",
              "      <td>cbccadabebcdabebadbadaaecacbbdacecaccacabebadb...</td>\n",
              "      <td>False</td>\n",
              "    </tr>\n",
              "    <tr>\n",
              "      <th>2015-12-29</th>\n",
              "      <td>eeaeeaeeaeeaeeaeeaeeaeeaeeaeeaeeaeeaeeaeeaeeae...</td>\n",
              "      <td>False</td>\n",
              "    </tr>\n",
              "    <tr>\n",
              "      <th>2015-12-30</th>\n",
              "      <td>aeeaeeaeeaeeaeeaeeaeeaeeaeeaeeaeeaeeaeeaeeaeea...</td>\n",
              "      <td>False</td>\n",
              "    </tr>\n",
              "    <tr>\n",
              "      <th>2015-12-31</th>\n",
              "      <td>eaaeaaeaaeaaeaaeaaeaaeaaeaaeaaeaaeaaeaaeaaeaae...</td>\n",
              "      <td>False</td>\n",
              "    </tr>\n",
              "  </tbody>\n",
              "</table>\n",
              "<p>5156 rows × 2 columns</p>\n",
              "</div>\n",
              "      <button class=\"colab-df-convert\" onclick=\"convertToInteractive('df-6533813d-1260-4411-816e-0dcb7d19e112')\"\n",
              "              title=\"Convert this dataframe to an interactive table.\"\n",
              "              style=\"display:none;\">\n",
              "        \n",
              "  <svg xmlns=\"http://www.w3.org/2000/svg\" height=\"24px\"viewBox=\"0 0 24 24\"\n",
              "       width=\"24px\">\n",
              "    <path d=\"M0 0h24v24H0V0z\" fill=\"none\"/>\n",
              "    <path d=\"M18.56 5.44l.94 2.06.94-2.06 2.06-.94-2.06-.94-.94-2.06-.94 2.06-2.06.94zm-11 1L8.5 8.5l.94-2.06 2.06-.94-2.06-.94L8.5 2.5l-.94 2.06-2.06.94zm10 10l.94 2.06.94-2.06 2.06-.94-2.06-.94-.94-2.06-.94 2.06-2.06.94z\"/><path d=\"M17.41 7.96l-1.37-1.37c-.4-.4-.92-.59-1.43-.59-.52 0-1.04.2-1.43.59L10.3 9.45l-7.72 7.72c-.78.78-.78 2.05 0 2.83L4 21.41c.39.39.9.59 1.41.59.51 0 1.02-.2 1.41-.59l7.78-7.78 2.81-2.81c.8-.78.8-2.07 0-2.86zM5.41 20L4 18.59l7.72-7.72 1.47 1.35L5.41 20z\"/>\n",
              "  </svg>\n",
              "      </button>\n",
              "      \n",
              "  <style>\n",
              "    .colab-df-container {\n",
              "      display:flex;\n",
              "      flex-wrap:wrap;\n",
              "      gap: 12px;\n",
              "    }\n",
              "\n",
              "    .colab-df-convert {\n",
              "      background-color: #E8F0FE;\n",
              "      border: none;\n",
              "      border-radius: 50%;\n",
              "      cursor: pointer;\n",
              "      display: none;\n",
              "      fill: #1967D2;\n",
              "      height: 32px;\n",
              "      padding: 0 0 0 0;\n",
              "      width: 32px;\n",
              "    }\n",
              "\n",
              "    .colab-df-convert:hover {\n",
              "      background-color: #E2EBFA;\n",
              "      box-shadow: 0px 1px 2px rgba(60, 64, 67, 0.3), 0px 1px 3px 1px rgba(60, 64, 67, 0.15);\n",
              "      fill: #174EA6;\n",
              "    }\n",
              "\n",
              "    [theme=dark] .colab-df-convert {\n",
              "      background-color: #3B4455;\n",
              "      fill: #D2E3FC;\n",
              "    }\n",
              "\n",
              "    [theme=dark] .colab-df-convert:hover {\n",
              "      background-color: #434B5C;\n",
              "      box-shadow: 0px 1px 3px 1px rgba(0, 0, 0, 0.15);\n",
              "      filter: drop-shadow(0px 1px 2px rgba(0, 0, 0, 0.3));\n",
              "      fill: #FFFFFF;\n",
              "    }\n",
              "  </style>\n",
              "\n",
              "      <script>\n",
              "        const buttonEl =\n",
              "          document.querySelector('#df-6533813d-1260-4411-816e-0dcb7d19e112 button.colab-df-convert');\n",
              "        buttonEl.style.display =\n",
              "          google.colab.kernel.accessAllowed ? 'block' : 'none';\n",
              "\n",
              "        async function convertToInteractive(key) {\n",
              "          const element = document.querySelector('#df-6533813d-1260-4411-816e-0dcb7d19e112');\n",
              "          const dataTable =\n",
              "            await google.colab.kernel.invokeFunction('convertToInteractive',\n",
              "                                                     [key], {});\n",
              "          if (!dataTable) return;\n",
              "\n",
              "          const docLinkHtml = 'Like what you see? Visit the ' +\n",
              "            '<a target=\"_blank\" href=https://colab.research.google.com/notebooks/data_table.ipynb>data table notebook</a>'\n",
              "            + ' to learn more about interactive tables.';\n",
              "          element.innerHTML = '';\n",
              "          dataTable['output_type'] = 'display_data';\n",
              "          await google.colab.output.renderOutput(dataTable, element);\n",
              "          const docLink = document.createElement('div');\n",
              "          docLink.innerHTML = docLinkHtml;\n",
              "          element.appendChild(docLink);\n",
              "        }\n",
              "      </script>\n",
              "    </div>\n",
              "  </div>\n",
              "  "
            ]
          },
          "metadata": {},
          "execution_count": 29
        }
      ]
    },
    {
      "cell_type": "code",
      "source": [
        "row_num_df1 = df_1_2015.shape[0]\n",
        "row_num_df1"
      ],
      "metadata": {
        "id": "pMvBRM_nSYR6",
        "colab": {
          "base_uri": "https://localhost:8080/"
        },
        "outputId": "4e2ffa0a-b537-4812-d8e5-0bd580cec9cb"
      },
      "id": "pMvBRM_nSYR6",
      "execution_count": null,
      "outputs": [
        {
          "output_type": "execute_result",
          "data": {
            "text/plain": [
              "5156"
            ]
          },
          "metadata": {},
          "execution_count": 30
        }
      ]
    },
    {
      "cell_type": "code",
      "source": [
        "import math"
      ],
      "metadata": {
        "id": "HLWa3-pQWtSY"
      },
      "id": "HLWa3-pQWtSY",
      "execution_count": null,
      "outputs": []
    },
    {
      "cell_type": "code",
      "source": [
        "df1_train_row_num = math.floor(row_num_df1*0.8)\n",
        "df1_valid_row_num = math.floor(row_num_df1*0.1)\n",
        "df1_test_row_num  = math.floor(row_num_df1*0.1)"
      ],
      "metadata": {
        "id": "z5fCTqvqWQQL"
      },
      "id": "z5fCTqvqWQQL",
      "execution_count": null,
      "outputs": []
    },
    {
      "cell_type": "code",
      "source": [
        "df1_train = df_1_2015.iloc[:df1_train_row_num+1, :]\n",
        "df1_valid = df_1_2015.iloc[df1_train_row_num+1:df1_train_row_num+df1_valid_row_num+1, :]\n",
        "df1_test  = df_1_2015.iloc[df1_train_row_num+df1_valid_row_num+1:, :]"
      ],
      "metadata": {
        "id": "wQDw6b5jW1wd"
      },
      "id": "wQDw6b5jW1wd",
      "execution_count": null,
      "outputs": []
    },
    {
      "cell_type": "code",
      "source": [
        "df1_train.to_csv(\"sfa_1_train.csv\") \n",
        "df1_valid.to_csv(\"sfa_1_valid.csv\")\n",
        "df1_test.to_csv(\"sfa_1_test.csv\") "
      ],
      "metadata": {
        "id": "77zMPgG7jZDL"
      },
      "id": "77zMPgG7jZDL",
      "execution_count": null,
      "outputs": []
    },
    {
      "cell_type": "code",
      "source": [],
      "metadata": {
        "id": "SFB7QMjrjZFo"
      },
      "id": "SFB7QMjrjZFo",
      "execution_count": null,
      "outputs": []
    },
    {
      "cell_type": "code",
      "source": [],
      "metadata": {
        "id": "hafdFs_sjZIJ"
      },
      "id": "hafdFs_sjZIJ",
      "execution_count": null,
      "outputs": []
    },
    {
      "cell_type": "code",
      "source": [],
      "metadata": {
        "id": "_VGt0BGwkP7E"
      },
      "id": "_VGt0BGwkP7E",
      "execution_count": null,
      "outputs": []
    },
    {
      "cell_type": "code",
      "source": [],
      "metadata": {
        "id": "ozrhaC18kP-C"
      },
      "id": "ozrhaC18kP-C",
      "execution_count": null,
      "outputs": []
    },
    {
      "cell_type": "code",
      "source": [
        "df_2 = df_2.reset_index()\n",
        "df_2"
      ],
      "metadata": {
        "colab": {
          "base_uri": "https://localhost:8080/",
          "height": 424
        },
        "id": "1wWx0KwpkQJk",
        "outputId": "f1235543-b6ae-43b0-8f69-d956379d64a3"
      },
      "id": "1wWx0KwpkQJk",
      "execution_count": null,
      "outputs": [
        {
          "output_type": "execute_result",
          "data": {
            "text/plain": [
              "           date                                               data  class\n",
              "0    2001-08-07  gaagaagaagaagaagaagaagaagaagaagaagaagaagbafabf...  False\n",
              "1    2001-08-08  fbbfbcgcagbagdaebcdcdfcbdaefabfebeccfeafbbfebc...  False\n",
              "2    2001-08-09  cbebcfaagaagdaddadcafdaeeccdbdccdbbfbbfbagcaed...  False\n",
              "3    2001-08-10  agbagcagcagcagcagdageageagfagfagdagdagcagcagda...  False\n",
              "4    2001-08-11  aggaggaggaggaggaggaggaggaggaggaggaggaggaggagga...  False\n",
              "...         ...                                                ...    ...\n",
              "7446 2022-04-28  bgfcgdafgafgagfbffaegaggbgeafgafgaggbffafgaggb...  False\n",
              "7447 2022-04-29  affaegaegafgafgafgaegceeadgaegbefbdgaegaegbefb...  False\n",
              "7448 2022-04-30  dbcdcdcedcddcddcedcedcddceecfdcfdcedcedcfdcedc...  False\n",
              "7449 2022-05-01  gcagcagbagbagbagaagabgbbgcagcafcbgdafbbfdbgdaf...  False\n",
              "7450 2022-05-02  ggaggaggagaagaagaaggagaagaagaagbafdbggaggagcag...  False\n",
              "\n",
              "[7451 rows x 3 columns]"
            ],
            "text/html": [
              "\n",
              "  <div id=\"df-7ba829ca-a84d-4d4d-86d8-1763ac60d3d6\">\n",
              "    <div class=\"colab-df-container\">\n",
              "      <div>\n",
              "<style scoped>\n",
              "    .dataframe tbody tr th:only-of-type {\n",
              "        vertical-align: middle;\n",
              "    }\n",
              "\n",
              "    .dataframe tbody tr th {\n",
              "        vertical-align: top;\n",
              "    }\n",
              "\n",
              "    .dataframe thead th {\n",
              "        text-align: right;\n",
              "    }\n",
              "</style>\n",
              "<table border=\"1\" class=\"dataframe\">\n",
              "  <thead>\n",
              "    <tr style=\"text-align: right;\">\n",
              "      <th></th>\n",
              "      <th>date</th>\n",
              "      <th>data</th>\n",
              "      <th>class</th>\n",
              "    </tr>\n",
              "  </thead>\n",
              "  <tbody>\n",
              "    <tr>\n",
              "      <th>0</th>\n",
              "      <td>2001-08-07</td>\n",
              "      <td>gaagaagaagaagaagaagaagaagaagaagaagaagaagbafabf...</td>\n",
              "      <td>False</td>\n",
              "    </tr>\n",
              "    <tr>\n",
              "      <th>1</th>\n",
              "      <td>2001-08-08</td>\n",
              "      <td>fbbfbcgcagbagdaebcdcdfcbdaefabfebeccfeafbbfebc...</td>\n",
              "      <td>False</td>\n",
              "    </tr>\n",
              "    <tr>\n",
              "      <th>2</th>\n",
              "      <td>2001-08-09</td>\n",
              "      <td>cbebcfaagaagdaddadcafdaeeccdbdccdbbfbbfbagcaed...</td>\n",
              "      <td>False</td>\n",
              "    </tr>\n",
              "    <tr>\n",
              "      <th>3</th>\n",
              "      <td>2001-08-10</td>\n",
              "      <td>agbagcagcagcagcagdageageagfagfagdagdagcagcagda...</td>\n",
              "      <td>False</td>\n",
              "    </tr>\n",
              "    <tr>\n",
              "      <th>4</th>\n",
              "      <td>2001-08-11</td>\n",
              "      <td>aggaggaggaggaggaggaggaggaggaggaggaggaggaggagga...</td>\n",
              "      <td>False</td>\n",
              "    </tr>\n",
              "    <tr>\n",
              "      <th>...</th>\n",
              "      <td>...</td>\n",
              "      <td>...</td>\n",
              "      <td>...</td>\n",
              "    </tr>\n",
              "    <tr>\n",
              "      <th>7446</th>\n",
              "      <td>2022-04-28</td>\n",
              "      <td>bgfcgdafgafgagfbffaegaggbgeafgafgaggbffafgaggb...</td>\n",
              "      <td>False</td>\n",
              "    </tr>\n",
              "    <tr>\n",
              "      <th>7447</th>\n",
              "      <td>2022-04-29</td>\n",
              "      <td>affaegaegafgafgafgaegceeadgaegbefbdgaegaegbefb...</td>\n",
              "      <td>False</td>\n",
              "    </tr>\n",
              "    <tr>\n",
              "      <th>7448</th>\n",
              "      <td>2022-04-30</td>\n",
              "      <td>dbcdcdcedcddcddcedcedcddceecfdcfdcedcedcfdcedc...</td>\n",
              "      <td>False</td>\n",
              "    </tr>\n",
              "    <tr>\n",
              "      <th>7449</th>\n",
              "      <td>2022-05-01</td>\n",
              "      <td>gcagcagbagbagbagaagabgbbgcagcafcbgdafbbfdbgdaf...</td>\n",
              "      <td>False</td>\n",
              "    </tr>\n",
              "    <tr>\n",
              "      <th>7450</th>\n",
              "      <td>2022-05-02</td>\n",
              "      <td>ggaggaggagaagaagaaggagaagaagaagbafdbggaggagcag...</td>\n",
              "      <td>False</td>\n",
              "    </tr>\n",
              "  </tbody>\n",
              "</table>\n",
              "<p>7451 rows × 3 columns</p>\n",
              "</div>\n",
              "      <button class=\"colab-df-convert\" onclick=\"convertToInteractive('df-7ba829ca-a84d-4d4d-86d8-1763ac60d3d6')\"\n",
              "              title=\"Convert this dataframe to an interactive table.\"\n",
              "              style=\"display:none;\">\n",
              "        \n",
              "  <svg xmlns=\"http://www.w3.org/2000/svg\" height=\"24px\"viewBox=\"0 0 24 24\"\n",
              "       width=\"24px\">\n",
              "    <path d=\"M0 0h24v24H0V0z\" fill=\"none\"/>\n",
              "    <path d=\"M18.56 5.44l.94 2.06.94-2.06 2.06-.94-2.06-.94-.94-2.06-.94 2.06-2.06.94zm-11 1L8.5 8.5l.94-2.06 2.06-.94-2.06-.94L8.5 2.5l-.94 2.06-2.06.94zm10 10l.94 2.06.94-2.06 2.06-.94-2.06-.94-.94-2.06-.94 2.06-2.06.94z\"/><path d=\"M17.41 7.96l-1.37-1.37c-.4-.4-.92-.59-1.43-.59-.52 0-1.04.2-1.43.59L10.3 9.45l-7.72 7.72c-.78.78-.78 2.05 0 2.83L4 21.41c.39.39.9.59 1.41.59.51 0 1.02-.2 1.41-.59l7.78-7.78 2.81-2.81c.8-.78.8-2.07 0-2.86zM5.41 20L4 18.59l7.72-7.72 1.47 1.35L5.41 20z\"/>\n",
              "  </svg>\n",
              "      </button>\n",
              "      \n",
              "  <style>\n",
              "    .colab-df-container {\n",
              "      display:flex;\n",
              "      flex-wrap:wrap;\n",
              "      gap: 12px;\n",
              "    }\n",
              "\n",
              "    .colab-df-convert {\n",
              "      background-color: #E8F0FE;\n",
              "      border: none;\n",
              "      border-radius: 50%;\n",
              "      cursor: pointer;\n",
              "      display: none;\n",
              "      fill: #1967D2;\n",
              "      height: 32px;\n",
              "      padding: 0 0 0 0;\n",
              "      width: 32px;\n",
              "    }\n",
              "\n",
              "    .colab-df-convert:hover {\n",
              "      background-color: #E2EBFA;\n",
              "      box-shadow: 0px 1px 2px rgba(60, 64, 67, 0.3), 0px 1px 3px 1px rgba(60, 64, 67, 0.15);\n",
              "      fill: #174EA6;\n",
              "    }\n",
              "\n",
              "    [theme=dark] .colab-df-convert {\n",
              "      background-color: #3B4455;\n",
              "      fill: #D2E3FC;\n",
              "    }\n",
              "\n",
              "    [theme=dark] .colab-df-convert:hover {\n",
              "      background-color: #434B5C;\n",
              "      box-shadow: 0px 1px 3px 1px rgba(0, 0, 0, 0.15);\n",
              "      filter: drop-shadow(0px 1px 2px rgba(0, 0, 0, 0.3));\n",
              "      fill: #FFFFFF;\n",
              "    }\n",
              "  </style>\n",
              "\n",
              "      <script>\n",
              "        const buttonEl =\n",
              "          document.querySelector('#df-7ba829ca-a84d-4d4d-86d8-1763ac60d3d6 button.colab-df-convert');\n",
              "        buttonEl.style.display =\n",
              "          google.colab.kernel.accessAllowed ? 'block' : 'none';\n",
              "\n",
              "        async function convertToInteractive(key) {\n",
              "          const element = document.querySelector('#df-7ba829ca-a84d-4d4d-86d8-1763ac60d3d6');\n",
              "          const dataTable =\n",
              "            await google.colab.kernel.invokeFunction('convertToInteractive',\n",
              "                                                     [key], {});\n",
              "          if (!dataTable) return;\n",
              "\n",
              "          const docLinkHtml = 'Like what you see? Visit the ' +\n",
              "            '<a target=\"_blank\" href=https://colab.research.google.com/notebooks/data_table.ipynb>data table notebook</a>'\n",
              "            + ' to learn more about interactive tables.';\n",
              "          element.innerHTML = '';\n",
              "          dataTable['output_type'] = 'display_data';\n",
              "          await google.colab.output.renderOutput(dataTable, element);\n",
              "          const docLink = document.createElement('div');\n",
              "          docLink.innerHTML = docLinkHtml;\n",
              "          element.appendChild(docLink);\n",
              "        }\n",
              "      </script>\n",
              "    </div>\n",
              "  </div>\n",
              "  "
            ]
          },
          "metadata": {},
          "execution_count": 42
        }
      ]
    },
    {
      "cell_type": "code",
      "source": [
        "df_2['date'] = df_2['date'].astype('datetime64')\n",
        "df_2_2015 = df_2[df_2['date'].isin(time_period)]\n",
        "df_2_2015 = df_2_2015.set_index('date')\n",
        "df_2_2015"
      ],
      "metadata": {
        "colab": {
          "base_uri": "https://localhost:8080/",
          "height": 455
        },
        "id": "W_bmC3WrkT0l",
        "outputId": "80f797f8-7cf8-4118-f3d9-667198c0563c"
      },
      "id": "W_bmC3WrkT0l",
      "execution_count": null,
      "outputs": [
        {
          "output_type": "execute_result",
          "data": {
            "text/plain": [
              "                                                         data  class\n",
              "date                                                                \n",
              "2001-08-07  gaagaagaagaagaagaagaagaagaagaagaagaagaagbafabf...  False\n",
              "2001-08-08  fbbfbcgcagbagdaebcdcdfcbdaefabfebeccfeafbbfebc...  False\n",
              "2001-08-09  cbebcfaagaagdaddadcafdaeeccdbdccdbbfbbfbagcaed...  False\n",
              "2001-08-10  agbagcagcagcagcagdageageagfagfagdagdagcagcagda...  False\n",
              "2001-08-11  aggaggaggaggaggaggaggaggaggaggaggaggaggaggagga...  False\n",
              "...                                                       ...    ...\n",
              "2015-12-27  cbfdbedbecbfdbeccfebdbcgcdfedcdedbegadgbdfbbfc...  False\n",
              "2015-12-28  dbecaeacgbcfacgcbecbebbgdadcbebcgdaddadacgcafb...  False\n",
              "2015-12-29  ggafgbggaggafgafgbfgbfgbfgafgbfgafgbfgbggaggbg...  False\n",
              "2015-12-30  aggaggaggaggaggaggaggaggaggaggaggaggaggaggagga...  False\n",
              "2015-12-31  gaagaagaagaagaagaagaagaagaagaagaagaagaagaagaag...  False\n",
              "\n",
              "[5156 rows x 2 columns]"
            ],
            "text/html": [
              "\n",
              "  <div id=\"df-826fed0b-32c6-433a-ab02-3559dde74937\">\n",
              "    <div class=\"colab-df-container\">\n",
              "      <div>\n",
              "<style scoped>\n",
              "    .dataframe tbody tr th:only-of-type {\n",
              "        vertical-align: middle;\n",
              "    }\n",
              "\n",
              "    .dataframe tbody tr th {\n",
              "        vertical-align: top;\n",
              "    }\n",
              "\n",
              "    .dataframe thead th {\n",
              "        text-align: right;\n",
              "    }\n",
              "</style>\n",
              "<table border=\"1\" class=\"dataframe\">\n",
              "  <thead>\n",
              "    <tr style=\"text-align: right;\">\n",
              "      <th></th>\n",
              "      <th>data</th>\n",
              "      <th>class</th>\n",
              "    </tr>\n",
              "    <tr>\n",
              "      <th>date</th>\n",
              "      <th></th>\n",
              "      <th></th>\n",
              "    </tr>\n",
              "  </thead>\n",
              "  <tbody>\n",
              "    <tr>\n",
              "      <th>2001-08-07</th>\n",
              "      <td>gaagaagaagaagaagaagaagaagaagaagaagaagaagbafabf...</td>\n",
              "      <td>False</td>\n",
              "    </tr>\n",
              "    <tr>\n",
              "      <th>2001-08-08</th>\n",
              "      <td>fbbfbcgcagbagdaebcdcdfcbdaefabfebeccfeafbbfebc...</td>\n",
              "      <td>False</td>\n",
              "    </tr>\n",
              "    <tr>\n",
              "      <th>2001-08-09</th>\n",
              "      <td>cbebcfaagaagdaddadcafdaeeccdbdccdbbfbbfbagcaed...</td>\n",
              "      <td>False</td>\n",
              "    </tr>\n",
              "    <tr>\n",
              "      <th>2001-08-10</th>\n",
              "      <td>agbagcagcagcagcagdageageagfagfagdagdagcagcagda...</td>\n",
              "      <td>False</td>\n",
              "    </tr>\n",
              "    <tr>\n",
              "      <th>2001-08-11</th>\n",
              "      <td>aggaggaggaggaggaggaggaggaggaggaggaggaggaggagga...</td>\n",
              "      <td>False</td>\n",
              "    </tr>\n",
              "    <tr>\n",
              "      <th>...</th>\n",
              "      <td>...</td>\n",
              "      <td>...</td>\n",
              "    </tr>\n",
              "    <tr>\n",
              "      <th>2015-12-27</th>\n",
              "      <td>cbfdbedbecbfdbeccfebdbcgcdfedcdedbegadgbdfbbfc...</td>\n",
              "      <td>False</td>\n",
              "    </tr>\n",
              "    <tr>\n",
              "      <th>2015-12-28</th>\n",
              "      <td>dbecaeacgbcfacgcbecbebbgdadcbebcgdaddadacgcafb...</td>\n",
              "      <td>False</td>\n",
              "    </tr>\n",
              "    <tr>\n",
              "      <th>2015-12-29</th>\n",
              "      <td>ggafgbggaggafgafgbfgbfgbfgafgbfgafgbfgbggaggbg...</td>\n",
              "      <td>False</td>\n",
              "    </tr>\n",
              "    <tr>\n",
              "      <th>2015-12-30</th>\n",
              "      <td>aggaggaggaggaggaggaggaggaggaggaggaggaggaggagga...</td>\n",
              "      <td>False</td>\n",
              "    </tr>\n",
              "    <tr>\n",
              "      <th>2015-12-31</th>\n",
              "      <td>gaagaagaagaagaagaagaagaagaagaagaagaagaagaagaag...</td>\n",
              "      <td>False</td>\n",
              "    </tr>\n",
              "  </tbody>\n",
              "</table>\n",
              "<p>5156 rows × 2 columns</p>\n",
              "</div>\n",
              "      <button class=\"colab-df-convert\" onclick=\"convertToInteractive('df-826fed0b-32c6-433a-ab02-3559dde74937')\"\n",
              "              title=\"Convert this dataframe to an interactive table.\"\n",
              "              style=\"display:none;\">\n",
              "        \n",
              "  <svg xmlns=\"http://www.w3.org/2000/svg\" height=\"24px\"viewBox=\"0 0 24 24\"\n",
              "       width=\"24px\">\n",
              "    <path d=\"M0 0h24v24H0V0z\" fill=\"none\"/>\n",
              "    <path d=\"M18.56 5.44l.94 2.06.94-2.06 2.06-.94-2.06-.94-.94-2.06-.94 2.06-2.06.94zm-11 1L8.5 8.5l.94-2.06 2.06-.94-2.06-.94L8.5 2.5l-.94 2.06-2.06.94zm10 10l.94 2.06.94-2.06 2.06-.94-2.06-.94-.94-2.06-.94 2.06-2.06.94z\"/><path d=\"M17.41 7.96l-1.37-1.37c-.4-.4-.92-.59-1.43-.59-.52 0-1.04.2-1.43.59L10.3 9.45l-7.72 7.72c-.78.78-.78 2.05 0 2.83L4 21.41c.39.39.9.59 1.41.59.51 0 1.02-.2 1.41-.59l7.78-7.78 2.81-2.81c.8-.78.8-2.07 0-2.86zM5.41 20L4 18.59l7.72-7.72 1.47 1.35L5.41 20z\"/>\n",
              "  </svg>\n",
              "      </button>\n",
              "      \n",
              "  <style>\n",
              "    .colab-df-container {\n",
              "      display:flex;\n",
              "      flex-wrap:wrap;\n",
              "      gap: 12px;\n",
              "    }\n",
              "\n",
              "    .colab-df-convert {\n",
              "      background-color: #E8F0FE;\n",
              "      border: none;\n",
              "      border-radius: 50%;\n",
              "      cursor: pointer;\n",
              "      display: none;\n",
              "      fill: #1967D2;\n",
              "      height: 32px;\n",
              "      padding: 0 0 0 0;\n",
              "      width: 32px;\n",
              "    }\n",
              "\n",
              "    .colab-df-convert:hover {\n",
              "      background-color: #E2EBFA;\n",
              "      box-shadow: 0px 1px 2px rgba(60, 64, 67, 0.3), 0px 1px 3px 1px rgba(60, 64, 67, 0.15);\n",
              "      fill: #174EA6;\n",
              "    }\n",
              "\n",
              "    [theme=dark] .colab-df-convert {\n",
              "      background-color: #3B4455;\n",
              "      fill: #D2E3FC;\n",
              "    }\n",
              "\n",
              "    [theme=dark] .colab-df-convert:hover {\n",
              "      background-color: #434B5C;\n",
              "      box-shadow: 0px 1px 3px 1px rgba(0, 0, 0, 0.15);\n",
              "      filter: drop-shadow(0px 1px 2px rgba(0, 0, 0, 0.3));\n",
              "      fill: #FFFFFF;\n",
              "    }\n",
              "  </style>\n",
              "\n",
              "      <script>\n",
              "        const buttonEl =\n",
              "          document.querySelector('#df-826fed0b-32c6-433a-ab02-3559dde74937 button.colab-df-convert');\n",
              "        buttonEl.style.display =\n",
              "          google.colab.kernel.accessAllowed ? 'block' : 'none';\n",
              "\n",
              "        async function convertToInteractive(key) {\n",
              "          const element = document.querySelector('#df-826fed0b-32c6-433a-ab02-3559dde74937');\n",
              "          const dataTable =\n",
              "            await google.colab.kernel.invokeFunction('convertToInteractive',\n",
              "                                                     [key], {});\n",
              "          if (!dataTable) return;\n",
              "\n",
              "          const docLinkHtml = 'Like what you see? Visit the ' +\n",
              "            '<a target=\"_blank\" href=https://colab.research.google.com/notebooks/data_table.ipynb>data table notebook</a>'\n",
              "            + ' to learn more about interactive tables.';\n",
              "          element.innerHTML = '';\n",
              "          dataTable['output_type'] = 'display_data';\n",
              "          await google.colab.output.renderOutput(dataTable, element);\n",
              "          const docLink = document.createElement('div');\n",
              "          docLink.innerHTML = docLinkHtml;\n",
              "          element.appendChild(docLink);\n",
              "        }\n",
              "      </script>\n",
              "    </div>\n",
              "  </div>\n",
              "  "
            ]
          },
          "metadata": {},
          "execution_count": 43
        }
      ]
    },
    {
      "cell_type": "code",
      "source": [],
      "metadata": {
        "id": "DlmcjCWokYuc"
      },
      "id": "DlmcjCWokYuc",
      "execution_count": null,
      "outputs": []
    },
    {
      "cell_type": "code",
      "source": [],
      "metadata": {
        "id": "wPmoP5rckYxG"
      },
      "id": "wPmoP5rckYxG",
      "execution_count": null,
      "outputs": []
    },
    {
      "cell_type": "code",
      "source": [],
      "metadata": {
        "id": "EIh2QdxckY0D"
      },
      "id": "EIh2QdxckY0D",
      "execution_count": null,
      "outputs": []
    },
    {
      "cell_type": "code",
      "source": [
        "row_num_df2 = df_2_2015.shape[0]\n",
        "row_num_df2"
      ],
      "metadata": {
        "colab": {
          "base_uri": "https://localhost:8080/"
        },
        "id": "yX818ezTavc4",
        "outputId": "df166d08-6d7e-411b-af3d-f69cb354b8aa"
      },
      "id": "yX818ezTavc4",
      "execution_count": null,
      "outputs": [
        {
          "output_type": "execute_result",
          "data": {
            "text/plain": [
              "5156"
            ]
          },
          "metadata": {},
          "execution_count": 44
        }
      ]
    },
    {
      "cell_type": "code",
      "source": [
        "df2_train_row_num = math.floor(row_num_df2*0.8)\n",
        "df2_valid_row_num = math.floor(row_num_df2*0.1)\n",
        "df2_test_row_num  = math.floor(row_num_df2*0.1)"
      ],
      "metadata": {
        "id": "KMa__IOhbU7c"
      },
      "id": "KMa__IOhbU7c",
      "execution_count": null,
      "outputs": []
    },
    {
      "cell_type": "code",
      "source": [
        "df2_train = df_2_2015.iloc[:df2_train_row_num+1, :]\n",
        "df2_valid = df_2_2015.iloc[df2_train_row_num+1:df2_train_row_num+df2_valid_row_num+1, :]\n",
        "df2_test =  df_2_2015.iloc[df2_train_row_num+df2_valid_row_num+1:, :]"
      ],
      "metadata": {
        "id": "NRDSWUpgbfUd"
      },
      "id": "NRDSWUpgbfUd",
      "execution_count": null,
      "outputs": []
    },
    {
      "cell_type": "code",
      "source": [
        "df2_test"
      ],
      "metadata": {
        "colab": {
          "base_uri": "https://localhost:8080/",
          "height": 455
        },
        "id": "0QGmf6f9eFFn",
        "outputId": "d108f7a1-bb09-4b9a-9e03-fc11cb5745c4"
      },
      "id": "0QGmf6f9eFFn",
      "execution_count": null,
      "outputs": [
        {
          "output_type": "execute_result",
          "data": {
            "text/plain": [
              "                                                         data  class\n",
              "date                                                                \n",
              "2014-08-03  bgfafgafgcceafgfdbdbeceedddaegaggagfadgbagdbdg...  False\n",
              "2014-08-04  gaafaccafebdgaagaagaagaagabagggaabbgbbggaagaag...  False\n",
              "2014-08-05  ceebeeddbddcbfedebddcaggaggcgdagfbfeaggcfeaffa...  False\n",
              "2014-08-06  aggagfaggaggbgfaggaggaggaggbfgagfcfeafgaggbgfa...  False\n",
              "2014-08-07  edcfcbeddagfaggaggagfaggbffceeeecbffbffdddedca...  False\n",
              "...                                                       ...    ...\n",
              "2015-12-27  cbfdbedbecbfdbeccfebdbcgcdfedcdedbegadgbdfbbfc...  False\n",
              "2015-12-28  dbecaeacgbcfacgcbecbebbgdadcbebcgdaddadacgcafb...  False\n",
              "2015-12-29  ggafgbggaggafgafgbfgbfgbfgafgbfgafgbfgbggaggbg...  False\n",
              "2015-12-30  aggaggaggaggaggaggaggaggaggaggaggaggaggaggagga...  False\n",
              "2015-12-31  gaagaagaagaagaagaagaagaagaagaagaagaagaagaagaag...  False\n",
              "\n",
              "[516 rows x 2 columns]"
            ],
            "text/html": [
              "\n",
              "  <div id=\"df-739ef326-e80f-40bf-8842-6d5aeffefc02\">\n",
              "    <div class=\"colab-df-container\">\n",
              "      <div>\n",
              "<style scoped>\n",
              "    .dataframe tbody tr th:only-of-type {\n",
              "        vertical-align: middle;\n",
              "    }\n",
              "\n",
              "    .dataframe tbody tr th {\n",
              "        vertical-align: top;\n",
              "    }\n",
              "\n",
              "    .dataframe thead th {\n",
              "        text-align: right;\n",
              "    }\n",
              "</style>\n",
              "<table border=\"1\" class=\"dataframe\">\n",
              "  <thead>\n",
              "    <tr style=\"text-align: right;\">\n",
              "      <th></th>\n",
              "      <th>data</th>\n",
              "      <th>class</th>\n",
              "    </tr>\n",
              "    <tr>\n",
              "      <th>date</th>\n",
              "      <th></th>\n",
              "      <th></th>\n",
              "    </tr>\n",
              "  </thead>\n",
              "  <tbody>\n",
              "    <tr>\n",
              "      <th>2014-08-03</th>\n",
              "      <td>bgfafgafgcceafgfdbdbeceedddaegaggagfadgbagdbdg...</td>\n",
              "      <td>False</td>\n",
              "    </tr>\n",
              "    <tr>\n",
              "      <th>2014-08-04</th>\n",
              "      <td>gaafaccafebdgaagaagaagaagabagggaabbgbbggaagaag...</td>\n",
              "      <td>False</td>\n",
              "    </tr>\n",
              "    <tr>\n",
              "      <th>2014-08-05</th>\n",
              "      <td>ceebeeddbddcbfedebddcaggaggcgdagfbfeaggcfeaffa...</td>\n",
              "      <td>False</td>\n",
              "    </tr>\n",
              "    <tr>\n",
              "      <th>2014-08-06</th>\n",
              "      <td>aggagfaggaggbgfaggaggaggaggbfgagfcfeafgaggbgfa...</td>\n",
              "      <td>False</td>\n",
              "    </tr>\n",
              "    <tr>\n",
              "      <th>2014-08-07</th>\n",
              "      <td>edcfcbeddagfaggaggagfaggbffceeeecbffbffdddedca...</td>\n",
              "      <td>False</td>\n",
              "    </tr>\n",
              "    <tr>\n",
              "      <th>...</th>\n",
              "      <td>...</td>\n",
              "      <td>...</td>\n",
              "    </tr>\n",
              "    <tr>\n",
              "      <th>2015-12-27</th>\n",
              "      <td>cbfdbedbecbfdbeccfebdbcgcdfedcdedbegadgbdfbbfc...</td>\n",
              "      <td>False</td>\n",
              "    </tr>\n",
              "    <tr>\n",
              "      <th>2015-12-28</th>\n",
              "      <td>dbecaeacgbcfacgcbecbebbgdadcbebcgdaddadacgcafb...</td>\n",
              "      <td>False</td>\n",
              "    </tr>\n",
              "    <tr>\n",
              "      <th>2015-12-29</th>\n",
              "      <td>ggafgbggaggafgafgbfgbfgbfgafgbfgafgbfgbggaggbg...</td>\n",
              "      <td>False</td>\n",
              "    </tr>\n",
              "    <tr>\n",
              "      <th>2015-12-30</th>\n",
              "      <td>aggaggaggaggaggaggaggaggaggaggaggaggaggaggagga...</td>\n",
              "      <td>False</td>\n",
              "    </tr>\n",
              "    <tr>\n",
              "      <th>2015-12-31</th>\n",
              "      <td>gaagaagaagaagaagaagaagaagaagaagaagaagaagaagaag...</td>\n",
              "      <td>False</td>\n",
              "    </tr>\n",
              "  </tbody>\n",
              "</table>\n",
              "<p>516 rows × 2 columns</p>\n",
              "</div>\n",
              "      <button class=\"colab-df-convert\" onclick=\"convertToInteractive('df-739ef326-e80f-40bf-8842-6d5aeffefc02')\"\n",
              "              title=\"Convert this dataframe to an interactive table.\"\n",
              "              style=\"display:none;\">\n",
              "        \n",
              "  <svg xmlns=\"http://www.w3.org/2000/svg\" height=\"24px\"viewBox=\"0 0 24 24\"\n",
              "       width=\"24px\">\n",
              "    <path d=\"M0 0h24v24H0V0z\" fill=\"none\"/>\n",
              "    <path d=\"M18.56 5.44l.94 2.06.94-2.06 2.06-.94-2.06-.94-.94-2.06-.94 2.06-2.06.94zm-11 1L8.5 8.5l.94-2.06 2.06-.94-2.06-.94L8.5 2.5l-.94 2.06-2.06.94zm10 10l.94 2.06.94-2.06 2.06-.94-2.06-.94-.94-2.06-.94 2.06-2.06.94z\"/><path d=\"M17.41 7.96l-1.37-1.37c-.4-.4-.92-.59-1.43-.59-.52 0-1.04.2-1.43.59L10.3 9.45l-7.72 7.72c-.78.78-.78 2.05 0 2.83L4 21.41c.39.39.9.59 1.41.59.51 0 1.02-.2 1.41-.59l7.78-7.78 2.81-2.81c.8-.78.8-2.07 0-2.86zM5.41 20L4 18.59l7.72-7.72 1.47 1.35L5.41 20z\"/>\n",
              "  </svg>\n",
              "      </button>\n",
              "      \n",
              "  <style>\n",
              "    .colab-df-container {\n",
              "      display:flex;\n",
              "      flex-wrap:wrap;\n",
              "      gap: 12px;\n",
              "    }\n",
              "\n",
              "    .colab-df-convert {\n",
              "      background-color: #E8F0FE;\n",
              "      border: none;\n",
              "      border-radius: 50%;\n",
              "      cursor: pointer;\n",
              "      display: none;\n",
              "      fill: #1967D2;\n",
              "      height: 32px;\n",
              "      padding: 0 0 0 0;\n",
              "      width: 32px;\n",
              "    }\n",
              "\n",
              "    .colab-df-convert:hover {\n",
              "      background-color: #E2EBFA;\n",
              "      box-shadow: 0px 1px 2px rgba(60, 64, 67, 0.3), 0px 1px 3px 1px rgba(60, 64, 67, 0.15);\n",
              "      fill: #174EA6;\n",
              "    }\n",
              "\n",
              "    [theme=dark] .colab-df-convert {\n",
              "      background-color: #3B4455;\n",
              "      fill: #D2E3FC;\n",
              "    }\n",
              "\n",
              "    [theme=dark] .colab-df-convert:hover {\n",
              "      background-color: #434B5C;\n",
              "      box-shadow: 0px 1px 3px 1px rgba(0, 0, 0, 0.15);\n",
              "      filter: drop-shadow(0px 1px 2px rgba(0, 0, 0, 0.3));\n",
              "      fill: #FFFFFF;\n",
              "    }\n",
              "  </style>\n",
              "\n",
              "      <script>\n",
              "        const buttonEl =\n",
              "          document.querySelector('#df-739ef326-e80f-40bf-8842-6d5aeffefc02 button.colab-df-convert');\n",
              "        buttonEl.style.display =\n",
              "          google.colab.kernel.accessAllowed ? 'block' : 'none';\n",
              "\n",
              "        async function convertToInteractive(key) {\n",
              "          const element = document.querySelector('#df-739ef326-e80f-40bf-8842-6d5aeffefc02');\n",
              "          const dataTable =\n",
              "            await google.colab.kernel.invokeFunction('convertToInteractive',\n",
              "                                                     [key], {});\n",
              "          if (!dataTable) return;\n",
              "\n",
              "          const docLinkHtml = 'Like what you see? Visit the ' +\n",
              "            '<a target=\"_blank\" href=https://colab.research.google.com/notebooks/data_table.ipynb>data table notebook</a>'\n",
              "            + ' to learn more about interactive tables.';\n",
              "          element.innerHTML = '';\n",
              "          dataTable['output_type'] = 'display_data';\n",
              "          await google.colab.output.renderOutput(dataTable, element);\n",
              "          const docLink = document.createElement('div');\n",
              "          docLink.innerHTML = docLinkHtml;\n",
              "          element.appendChild(docLink);\n",
              "        }\n",
              "      </script>\n",
              "    </div>\n",
              "  </div>\n",
              "  "
            ]
          },
          "metadata": {},
          "execution_count": 49
        }
      ]
    },
    {
      "cell_type": "code",
      "source": [
        "df2_train.to_csv(\"sfa_2_train.csv\") \n",
        "df2_valid.to_csv(\"sfa_2_valid.csv\")\n",
        "df2_test.to_csv(\"sfa_2_test.csv\")  "
      ],
      "metadata": {
        "id": "vhMGIZkbd0FZ"
      },
      "id": "vhMGIZkbd0FZ",
      "execution_count": null,
      "outputs": []
    },
    {
      "cell_type": "code",
      "source": [],
      "metadata": {
        "id": "FjeDbzZBlXl3"
      },
      "id": "FjeDbzZBlXl3",
      "execution_count": null,
      "outputs": []
    },
    {
      "cell_type": "code",
      "source": [
        "! cp sfa_1_train.csv /content/drive/MyDrive/NI_results/sfa_sets/"
      ],
      "metadata": {
        "id": "fhSU8m26lCf7"
      },
      "id": "fhSU8m26lCf7",
      "execution_count": null,
      "outputs": []
    },
    {
      "cell_type": "code",
      "source": [
        "! cp sfa_1_valid.csv /content/drive/MyDrive/NI_results/sfa_sets/"
      ],
      "metadata": {
        "id": "feShfCgQld55"
      },
      "id": "feShfCgQld55",
      "execution_count": null,
      "outputs": []
    },
    {
      "cell_type": "code",
      "source": [
        "! cp sfa_1_test.csv /content/drive/MyDrive/NI_results/sfa_sets/"
      ],
      "metadata": {
        "id": "p1Pvqn84ld00"
      },
      "id": "p1Pvqn84ld00",
      "execution_count": null,
      "outputs": []
    },
    {
      "cell_type": "code",
      "source": [],
      "metadata": {
        "id": "jKOEwxJtl-5F"
      },
      "id": "jKOEwxJtl-5F",
      "execution_count": null,
      "outputs": []
    },
    {
      "cell_type": "code",
      "source": [],
      "metadata": {
        "id": "JZLz_z2il-8r"
      },
      "id": "JZLz_z2il-8r",
      "execution_count": null,
      "outputs": []
    },
    {
      "cell_type": "code",
      "source": [
        "! cp sfa_2_train.csv /content/drive/MyDrive/NI_results/sfa_sets/"
      ],
      "metadata": {
        "id": "FyMmYUMploUc"
      },
      "id": "FyMmYUMploUc",
      "execution_count": null,
      "outputs": []
    },
    {
      "cell_type": "code",
      "source": [
        "! cp sfa_2_valid.csv /content/drive/MyDrive/NI_results/sfa_sets/"
      ],
      "metadata": {
        "id": "E25N1Mmlloeg"
      },
      "id": "E25N1Mmlloeg",
      "execution_count": null,
      "outputs": []
    },
    {
      "cell_type": "code",
      "source": [
        "! cp sfa_2_test.csv /content/drive/MyDrive/NI_results/sfa_sets/"
      ],
      "metadata": {
        "id": "CRt8QYEglonF"
      },
      "id": "CRt8QYEglonF",
      "execution_count": null,
      "outputs": []
    }
  ],
  "metadata": {
    "kernelspec": {
      "display_name": "Python 3 (ipykernel)",
      "language": "python",
      "name": "python3"
    },
    "language_info": {
      "codemirror_mode": {
        "name": "ipython",
        "version": 3
      },
      "file_extension": ".py",
      "mimetype": "text/x-python",
      "name": "python",
      "nbconvert_exporter": "python",
      "pygments_lexer": "ipython3",
      "version": "3.9.12"
    },
    "colab": {
      "provenance": [],
      "collapsed_sections": []
    }
  },
  "nbformat": 4,
  "nbformat_minor": 5
}