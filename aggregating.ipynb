{
 "cells": [
  {
   "cell_type": "code",
   "execution_count": 1,
   "id": "98b21a95",
   "metadata": {},
   "outputs": [],
   "source": [
    "import sklearn\n",
    "import numpy as np\n",
    "import pandas as pd\n",
    "import datetime\n",
    "from pyts.approximation import SymbolicFourierApproximation\n",
    "from datetime import datetime"
   ]
  },
  {
   "cell_type": "markdown",
   "id": "68fd2ecb",
   "metadata": {},
   "source": [
    "# Loading data and adding date column"
   ]
  },
  {
   "cell_type": "code",
   "execution_count": 2,
   "id": "0d2aaa41",
   "metadata": {},
   "outputs": [],
   "source": [
    "epam = pd.read_csv('epam_clean.csv')\n",
    "epam.drop(axis=1, columns=['Unnamed: 0'], inplace=True)\n",
    "epam['timestamp'] =  pd.to_datetime(epam.datetime, format='%Y-%m-%d %H:%M:%S')\n",
    "epam['date'] = epam.timestamp.dt.date\n",
    "\n",
    "swepam = pd.read_csv('swepam_clean.csv')\n",
    "swepam.drop(axis=1, columns=['Unnamed: 0'], inplace=True)\n",
    "swepam['timestamp'] =  pd.to_datetime(swepam.datetime, format='%Y-%m-%d %H:%M:%S')\n",
    "swepam['date'] = swepam.timestamp.dt.date\n",
    "\n",
    "mag = pd.read_csv('mag_clean.csv')\n",
    "mag.drop(axis=1, columns=['Unnamed: 0'], inplace=True)\n",
    "mag['timestamp'] =  pd.to_datetime(mag.datetime, format='%Y-%m-%d %H:%M:%S')\n",
    "mag['date'] = mag.timestamp.dt.date\n",
    "\n",
    "sis = pd.read_csv('sis_clean.csv')\n",
    "sis.drop(axis=1, columns=['Unnamed: 0'], inplace=True)\n",
    "sis['timestamp'] =  pd.to_datetime(sis.datetime, format='%Y-%m-%d %H:%M:%S')\n",
    "sis['date'] = sis.timestamp.dt.date"
   ]
  },
  {
   "cell_type": "markdown",
   "id": "404d3c1e",
   "metadata": {},
   "source": [
    "# Aggregating by date using SFA"
   ]
  },
  {
   "cell_type": "markdown",
   "id": "730d180b",
   "metadata": {},
   "source": [
    "### Putting all column values in one list per day"
   ]
  },
  {
   "cell_type": "code",
   "execution_count": 3,
   "id": "3c49f8f4",
   "metadata": {},
   "outputs": [
    {
     "data": {
      "text/html": [
       "<div>\n",
       "<style scoped>\n",
       "    .dataframe tbody tr th:only-of-type {\n",
       "        vertical-align: middle;\n",
       "    }\n",
       "\n",
       "    .dataframe tbody tr th {\n",
       "        vertical-align: top;\n",
       "    }\n",
       "\n",
       "    .dataframe thead th {\n",
       "        text-align: right;\n",
       "    }\n",
       "</style>\n",
       "<table border=\"1\" class=\"dataframe\">\n",
       "  <thead>\n",
       "    <tr style=\"text-align: right;\">\n",
       "      <th></th>\n",
       "      <th>Bx</th>\n",
       "      <th>By</th>\n",
       "      <th>Bz</th>\n",
       "      <th>Bt</th>\n",
       "      <th>Lat.</th>\n",
       "      <th>Long.</th>\n",
       "      <th>datetime</th>\n",
       "      <th>timestamp</th>\n",
       "      <th>date</th>\n",
       "    </tr>\n",
       "  </thead>\n",
       "  <tbody>\n",
       "    <tr>\n",
       "      <th>0</th>\n",
       "      <td>-6.2</td>\n",
       "      <td>-3.1</td>\n",
       "      <td>-0.1</td>\n",
       "      <td>6.9</td>\n",
       "      <td>-0.6</td>\n",
       "      <td>206.5</td>\n",
       "      <td>2001-08-07 00:00:00</td>\n",
       "      <td>2001-08-07 00:00:00</td>\n",
       "      <td>2001-08-07</td>\n",
       "    </tr>\n",
       "    <tr>\n",
       "      <th>1</th>\n",
       "      <td>-6.3</td>\n",
       "      <td>-3.3</td>\n",
       "      <td>-0.3</td>\n",
       "      <td>7.1</td>\n",
       "      <td>-2.7</td>\n",
       "      <td>207.8</td>\n",
       "      <td>2001-08-07 00:01:00</td>\n",
       "      <td>2001-08-07 00:01:00</td>\n",
       "      <td>2001-08-07</td>\n",
       "    </tr>\n",
       "  </tbody>\n",
       "</table>\n",
       "</div>"
      ],
      "text/plain": [
       "    Bx   By   Bz   Bt  Lat.  Long.             datetime           timestamp  \\\n",
       "0 -6.2 -3.1 -0.1  6.9  -0.6  206.5  2001-08-07 00:00:00 2001-08-07 00:00:00   \n",
       "1 -6.3 -3.3 -0.3  7.1  -2.7  207.8  2001-08-07 00:01:00 2001-08-07 00:01:00   \n",
       "\n",
       "         date  \n",
       "0  2001-08-07  \n",
       "1  2001-08-07  "
      ]
     },
     "execution_count": 3,
     "metadata": {},
     "output_type": "execute_result"
    }
   ],
   "source": [
    "# Example before transformation\n",
    "mag.head(2)"
   ]
  },
  {
   "cell_type": "code",
   "execution_count": 4,
   "id": "c3e2396f",
   "metadata": {},
   "outputs": [],
   "source": [
    "mag_wanted_columns = ['Bx', 'By', 'Bz', 'Bt', 'Lat.', 'Long.', 'date']\n",
    "mag_agg_grouped = mag[mag_wanted_columns].groupby(['date'])\n",
    "mag_listed = mag_agg_grouped[mag_wanted_columns[:-1]].agg(lambda x : list(x.to_numpy()))\n",
    "mag_listed.set_index(pd.DatetimeIndex(mag_listed.index), inplace=True)"
   ]
  },
  {
   "cell_type": "code",
   "execution_count": 5,
   "id": "38709733",
   "metadata": {},
   "outputs": [
    {
     "data": {
      "text/html": [
       "<div>\n",
       "<style scoped>\n",
       "    .dataframe tbody tr th:only-of-type {\n",
       "        vertical-align: middle;\n",
       "    }\n",
       "\n",
       "    .dataframe tbody tr th {\n",
       "        vertical-align: top;\n",
       "    }\n",
       "\n",
       "    .dataframe thead th {\n",
       "        text-align: right;\n",
       "    }\n",
       "</style>\n",
       "<table border=\"1\" class=\"dataframe\">\n",
       "  <thead>\n",
       "    <tr style=\"text-align: right;\">\n",
       "      <th></th>\n",
       "      <th>Bx</th>\n",
       "      <th>By</th>\n",
       "      <th>Bz</th>\n",
       "      <th>Bt</th>\n",
       "      <th>Lat.</th>\n",
       "      <th>Long.</th>\n",
       "    </tr>\n",
       "    <tr>\n",
       "      <th>date</th>\n",
       "      <th></th>\n",
       "      <th></th>\n",
       "      <th></th>\n",
       "      <th></th>\n",
       "      <th></th>\n",
       "      <th></th>\n",
       "    </tr>\n",
       "  </thead>\n",
       "  <tbody>\n",
       "    <tr>\n",
       "      <th>2001-08-07</th>\n",
       "      <td>[-6.2, -6.3, -6.2, -6.1, -6.1, -6.1, -6.5, -6....</td>\n",
       "      <td>[-3.1, -3.3, -3.1, -3.4, -3.5, -3.5, -3.0, -3....</td>\n",
       "      <td>[-0.1, -0.3, -0.6, -0.6, -0.4, 0.0, -0.3, 0.0,...</td>\n",
       "      <td>[6.9, 7.1, 6.9, 7.0, 7.0, 7.0, 7.2, 7.2, 7.0, ...</td>\n",
       "      <td>[-0.6, -2.7, -4.7, -4.8, -3.1, 0.2, -2.3, -0.4...</td>\n",
       "      <td>[206.5, 207.8, 206.5, 209.2, 210.0, 209.8, 204...</td>\n",
       "    </tr>\n",
       "    <tr>\n",
       "      <th>2001-08-08</th>\n",
       "      <td>[-5.8, -5.3, -5.1, -5.4, -5.1, -5.6, -6.6, -6....</td>\n",
       "      <td>[1.5, 2.3, 2.6, 2.7, 3.0, 3.2, 1.5, 2.5, 3.3, ...</td>\n",
       "      <td>[-2.6, -2.8, -2.7, -1.8, -1.1, 0.6, -0.2, -0.9...</td>\n",
       "      <td>[6.5, 6.4, 6.3, 6.3, 6.1, 6.5, 6.7, 6.7, 6.5, ...</td>\n",
       "      <td>[-23.6, -26.2, -25.1, -16.5, -10.2, 5.1, -1.5,...</td>\n",
       "      <td>[165.8, 156.9, 152.8, 153.6, 149.5, 149.8, 167...</td>\n",
       "    </tr>\n",
       "  </tbody>\n",
       "</table>\n",
       "</div>"
      ],
      "text/plain": [
       "                                                           Bx  \\\n",
       "date                                                            \n",
       "2001-08-07  [-6.2, -6.3, -6.2, -6.1, -6.1, -6.1, -6.5, -6....   \n",
       "2001-08-08  [-5.8, -5.3, -5.1, -5.4, -5.1, -5.6, -6.6, -6....   \n",
       "\n",
       "                                                           By  \\\n",
       "date                                                            \n",
       "2001-08-07  [-3.1, -3.3, -3.1, -3.4, -3.5, -3.5, -3.0, -3....   \n",
       "2001-08-08  [1.5, 2.3, 2.6, 2.7, 3.0, 3.2, 1.5, 2.5, 3.3, ...   \n",
       "\n",
       "                                                           Bz  \\\n",
       "date                                                            \n",
       "2001-08-07  [-0.1, -0.3, -0.6, -0.6, -0.4, 0.0, -0.3, 0.0,...   \n",
       "2001-08-08  [-2.6, -2.8, -2.7, -1.8, -1.1, 0.6, -0.2, -0.9...   \n",
       "\n",
       "                                                           Bt  \\\n",
       "date                                                            \n",
       "2001-08-07  [6.9, 7.1, 6.9, 7.0, 7.0, 7.0, 7.2, 7.2, 7.0, ...   \n",
       "2001-08-08  [6.5, 6.4, 6.3, 6.3, 6.1, 6.5, 6.7, 6.7, 6.5, ...   \n",
       "\n",
       "                                                         Lat.  \\\n",
       "date                                                            \n",
       "2001-08-07  [-0.6, -2.7, -4.7, -4.8, -3.1, 0.2, -2.3, -0.4...   \n",
       "2001-08-08  [-23.6, -26.2, -25.1, -16.5, -10.2, 5.1, -1.5,...   \n",
       "\n",
       "                                                        Long.  \n",
       "date                                                           \n",
       "2001-08-07  [206.5, 207.8, 206.5, 209.2, 210.0, 209.8, 204...  \n",
       "2001-08-08  [165.8, 156.9, 152.8, 153.6, 149.5, 149.8, 167...  "
      ]
     },
     "execution_count": 5,
     "metadata": {},
     "output_type": "execute_result"
    }
   ],
   "source": [
    "# Example after transformation\n",
    "mag_listed.head(2)"
   ]
  },
  {
   "cell_type": "code",
   "execution_count": 6,
   "id": "365fa0e6",
   "metadata": {},
   "outputs": [],
   "source": [
    "swepam_wanted_columns = ['proton_density', 'bulk_speed', 'ion_temperature', 'date']\n",
    "swepam_agg_grouped = swepam[swepam_wanted_columns].groupby(['date'])\n",
    "swepam_listed = swepam_agg_grouped[swepam_wanted_columns[:-1]].agg(lambda x : list(x.to_numpy()))\n",
    "swepam_listed.set_index(pd.DatetimeIndex(swepam_listed.index), inplace=True)"
   ]
  },
  {
   "cell_type": "code",
   "execution_count": 7,
   "id": "7a1099d2",
   "metadata": {},
   "outputs": [],
   "source": [
    "epam_wanted_columns = ['38-53', '175-315', '47-65', '112-187', '310-580',\n",
    "                       '761-1220', '060-1910', 'anis_ratio', 'date']\n",
    "epam_agg_grouped = epam[epam_wanted_columns].groupby(['date'])\n",
    "epam_listed = epam_agg_grouped[epam_wanted_columns[:-1]].agg(lambda x : list(x.to_numpy()))\n",
    "epam_listed.set_index(pd.DatetimeIndex(epam_listed.index), inplace=True)"
   ]
  },
  {
   "cell_type": "code",
   "execution_count": 8,
   "id": "9e66c121",
   "metadata": {},
   "outputs": [],
   "source": [
    "sis_wanted_columns = ['> 10 MeV', '> 30 MeV', 'date']\n",
    "sis_agg_grouped = sis[sis_wanted_columns].groupby(['date'])\n",
    "sis_listed = sis_agg_grouped[sis_wanted_columns[:-1]].agg(lambda x : list(x.to_numpy()))\n",
    "sis_listed.set_index(pd.DatetimeIndex(sis_listed.index), inplace=True)"
   ]
  },
  {
   "cell_type": "markdown",
   "id": "c3d5399a",
   "metadata": {},
   "source": [
    "# SFA"
   ]
  },
  {
   "cell_type": "markdown",
   "id": "9537c04b",
   "metadata": {},
   "source": [
    "SFA demands that timeseries that are being transformed have the same number of timestamps.\n",
    "\n",
    "SFA is done on two df because (sis, epam) are on 5min basis and (mag, swepam) are on a minute basis so they have different number of timestamps per day."
   ]
  },
  {
   "cell_type": "markdown",
   "id": "c2adfe4f",
   "metadata": {},
   "source": [
    "### Adjust length of daily timeseries\n",
    "\n",
    "If timeseries happen to vary a bit in length due to some previous error, function slick_array will reduce their length to the length of the shortest"
   ]
  },
  {
   "cell_type": "code",
   "execution_count": 9,
   "id": "2240840f",
   "metadata": {},
   "outputs": [],
   "source": [
    "def slick_array(array):\n",
    "    listic = list(array)\n",
    "    min_size = min(list(map(len, listic)))\n",
    "    return np.array(list(map(lambda x: x[:min_size], listic)))"
   ]
  },
  {
   "cell_type": "markdown",
   "id": "008b3deb",
   "metadata": {},
   "source": [
    "### Making an object required for transformation\n",
    "Each field in dataframe contains a list that represents a daily timeseries. Each list in one row needs to be turned to numpy.array and all of lists in one row need to be put in one numpy.array. For some reason I couldn't manage to do a more simple job :)"
   ]
  },
  {
   "cell_type": "code",
   "execution_count": 10,
   "id": "1a731dba",
   "metadata": {},
   "outputs": [],
   "source": [
    "def list_to_numpy(listici_arg):\n",
    "    listici = slick_array(listici_arg)\n",
    "    res = np.array([listici[0]]).reshape(-1, 1)\n",
    "    for listic in listici[1:]:\n",
    "        res = np.concatenate((res, np.array([listic]).reshape(-1, 1)), axis = 1)\n",
    "    return res"
   ]
  },
  {
   "cell_type": "markdown",
   "id": "37e793b5",
   "metadata": {},
   "source": [
    "### SFA transformation"
   ]
  },
  {
   "cell_type": "code",
   "execution_count": 11,
   "id": "a2f05650",
   "metadata": {},
   "outputs": [],
   "source": [
    "def transform(array, num_coefs=3, num_bins=10):\n",
    "    x = list_to_numpy(array)\n",
    "    if x.shape[0] < num_bins:\n",
    "        return []\n",
    "    if x.shape[1] < num_coefs:\n",
    "        num_coefs=x.shape[1]\n",
    "    transformer = SymbolicFourierApproximation(n_coefs=num_coefs, n_bins=num_bins)    \n",
    "    transformed = transformer.fit_transform(x)\n",
    "    return transformed.flatten()"
   ]
  },
  {
   "cell_type": "code",
   "execution_count": 12,
   "id": "cd853815",
   "metadata": {},
   "outputs": [
    {
     "data": {
      "text/html": [
       "<div>\n",
       "<style scoped>\n",
       "    .dataframe tbody tr th:only-of-type {\n",
       "        vertical-align: middle;\n",
       "    }\n",
       "\n",
       "    .dataframe tbody tr th {\n",
       "        vertical-align: top;\n",
       "    }\n",
       "\n",
       "    .dataframe thead th {\n",
       "        text-align: right;\n",
       "    }\n",
       "</style>\n",
       "<table border=\"1\" class=\"dataframe\">\n",
       "  <thead>\n",
       "    <tr style=\"text-align: right;\">\n",
       "      <th></th>\n",
       "      <th>&gt; 10 MeV</th>\n",
       "      <th>&gt; 30 MeV</th>\n",
       "      <th>38-53</th>\n",
       "      <th>175-315</th>\n",
       "      <th>47-65</th>\n",
       "      <th>112-187</th>\n",
       "      <th>310-580</th>\n",
       "      <th>761-1220</th>\n",
       "      <th>060-1910</th>\n",
       "      <th>anis_ratio</th>\n",
       "    </tr>\n",
       "    <tr>\n",
       "      <th>date</th>\n",
       "      <th></th>\n",
       "      <th></th>\n",
       "      <th></th>\n",
       "      <th></th>\n",
       "      <th></th>\n",
       "      <th></th>\n",
       "      <th></th>\n",
       "      <th></th>\n",
       "      <th></th>\n",
       "      <th></th>\n",
       "    </tr>\n",
       "  </thead>\n",
       "  <tbody>\n",
       "    <tr>\n",
       "      <th>2001-08-07</th>\n",
       "      <td>[0.831, 0.82, 0.821, 0.805, 0.809, 0.801, 0.80...</td>\n",
       "      <td>[0.587, 0.574, 0.576, 0.571, 0.574, 0.561, 0.5...</td>\n",
       "      <td>[694.0, 704.0, 797.0, 758.0, 650.0, 712.0, 724...</td>\n",
       "      <td>[11.6, 14.7, 13.4, 16.0, 16.2, 13.1, 14.9, 18....</td>\n",
       "      <td>[1130.0, 1210.0, 1560.0, 1490.0, 1360.0, 1110....</td>\n",
       "      <td>[123.0, 120.0, 131.0, 139.0, 133.0, 117.0, 126...</td>\n",
       "      <td>[6.65, 7.18, 7.67, 8.0, 7.18, 6.49, 6.26, 9.33...</td>\n",
       "      <td>[0.633, 0.946, 0.889, 0.666, 0.903, 0.925, 0.6...</td>\n",
       "      <td>[0.193, 0.252, 0.321, 0.234, 0.19, 0.257, 0.27...</td>\n",
       "      <td>[0.9, 0.68, 1.38, 0.89, 0.43, 0.83, 0.94, 1.02...</td>\n",
       "    </tr>\n",
       "  </tbody>\n",
       "</table>\n",
       "</div>"
      ],
      "text/plain": [
       "                                                     > 10 MeV  \\\n",
       "date                                                            \n",
       "2001-08-07  [0.831, 0.82, 0.821, 0.805, 0.809, 0.801, 0.80...   \n",
       "\n",
       "                                                     > 30 MeV  \\\n",
       "date                                                            \n",
       "2001-08-07  [0.587, 0.574, 0.576, 0.571, 0.574, 0.561, 0.5...   \n",
       "\n",
       "                                                        38-53  \\\n",
       "date                                                            \n",
       "2001-08-07  [694.0, 704.0, 797.0, 758.0, 650.0, 712.0, 724...   \n",
       "\n",
       "                                                      175-315  \\\n",
       "date                                                            \n",
       "2001-08-07  [11.6, 14.7, 13.4, 16.0, 16.2, 13.1, 14.9, 18....   \n",
       "\n",
       "                                                        47-65  \\\n",
       "date                                                            \n",
       "2001-08-07  [1130.0, 1210.0, 1560.0, 1490.0, 1360.0, 1110....   \n",
       "\n",
       "                                                      112-187  \\\n",
       "date                                                            \n",
       "2001-08-07  [123.0, 120.0, 131.0, 139.0, 133.0, 117.0, 126...   \n",
       "\n",
       "                                                      310-580  \\\n",
       "date                                                            \n",
       "2001-08-07  [6.65, 7.18, 7.67, 8.0, 7.18, 6.49, 6.26, 9.33...   \n",
       "\n",
       "                                                     761-1220  \\\n",
       "date                                                            \n",
       "2001-08-07  [0.633, 0.946, 0.889, 0.666, 0.903, 0.925, 0.6...   \n",
       "\n",
       "                                                     060-1910  \\\n",
       "date                                                            \n",
       "2001-08-07  [0.193, 0.252, 0.321, 0.234, 0.19, 0.257, 0.27...   \n",
       "\n",
       "                                                   anis_ratio  \n",
       "date                                                           \n",
       "2001-08-07  [0.9, 0.68, 1.38, 0.89, 0.43, 0.83, 0.94, 1.02...  "
      ]
     },
     "execution_count": 12,
     "metadata": {},
     "output_type": "execute_result"
    }
   ],
   "source": [
    "resManji = pd.concat([sis_listed, epam_listed], axis=1, join=\"inner\")\n",
    "resVeci = pd.concat([mag_listed, swepam_listed], axis=1, join=\"inner\")\n",
    "# Example before transformation\n",
    "resManji.head(1)"
   ]
  },
  {
   "cell_type": "code",
   "execution_count": 13,
   "id": "c68590c5",
   "metadata": {},
   "outputs": [
    {
     "data": {
      "text/plain": [
       "date\n",
       "2001-08-07    [i, a, b, j, a, a, j, a, a, j, a, a, j, a, a, ...\n",
       "2001-08-08    [h, c, c, h, b, d, j, d, a, j, b, b, j, e, a, ...\n",
       "2001-08-09    [d, b, g, c, d, h, b, a, j, a, a, j, e, b, f, ...\n",
       "2001-08-10    [b, j, c, a, j, d, b, j, d, b, j, d, b, j, d, ...\n",
       "2001-08-11    [a, j, j, a, j, j, a, j, j, a, j, j, a, j, j, ...\n",
       "dtype: object"
      ]
     },
     "execution_count": 13,
     "metadata": {},
     "output_type": "execute_result"
    }
   ],
   "source": [
    "resManji_transformed = resManji.apply(transform, axis=1)\n",
    "resVeci_transformed = resVeci.apply(transform, axis=1)\n",
    "# Example after transformation\n",
    "resManji_transformed.head()"
   ]
  },
  {
   "cell_type": "markdown",
   "id": "38b4d422",
   "metadata": {},
   "source": [
    "### Joining two dfs\n",
    "Join both transformed dfs and join their lists into one"
   ]
  },
  {
   "cell_type": "code",
   "execution_count": 14,
   "id": "3cfb5533",
   "metadata": {},
   "outputs": [],
   "source": [
    "def flatten_row(row):\n",
    "    return np.concatenate((row[0], row[1]))"
   ]
  },
  {
   "cell_type": "code",
   "execution_count": 15,
   "id": "794618aa",
   "metadata": {},
   "outputs": [
    {
     "data": {
      "text/plain": [
       "date\n",
       "2001-08-07    [i, a, b, j, a, a, j, a, a, j, a, a, j, a, a, ...\n",
       "2001-08-08    [h, c, c, h, b, d, j, d, a, j, b, b, j, e, a, ...\n",
       "2001-08-09    [d, b, g, c, d, h, b, a, j, a, a, j, e, b, f, ...\n",
       "dtype: object"
      ]
     },
     "execution_count": 15,
     "metadata": {},
     "output_type": "execute_result"
    }
   ],
   "source": [
    "res = pd.concat([resManji_transformed, resVeci_transformed], axis=1, join=\"inner\").apply(flatten_row, axis=1)\n",
    "res.head(3)"
   ]
  },
  {
   "cell_type": "markdown",
   "id": "69b48650",
   "metadata": {},
   "source": [
    "# Adding class label"
   ]
  },
  {
   "cell_type": "markdown",
   "id": "924e374d",
   "metadata": {},
   "source": [
    "### Loading flood dates"
   ]
  },
  {
   "cell_type": "code",
   "execution_count": 16,
   "id": "6b1001e9",
   "metadata": {},
   "outputs": [],
   "source": [
    "floods = pd.read_csv(\"floods.csv\", index_col=\"date\").drop([\"Unnamed: 0\"], axis =1)\n",
    "floods.set_index(pd.DatetimeIndex(floods.index), inplace=True)\n",
    "floods_new = pd.read_csv(\"floodphenomena.csv\")\n",
    "floods_new = floods_new[(floods_new[\"StartDate\"].notna()) | (floods_new[\"EndDate\"].notna())]\n",
    "floods_new[\"StartDateTime\"] = pd.to_datetime(floods_new[\"StartDate\"], infer_datetime_format=True)\n",
    "floods_new[\"StartDate\"] = floods_new[\"StartDateTime\"].dt.date\n",
    "floods_new[\"EndDateTime\"] = pd.to_datetime(floods_new[\"EndDate\"], infer_datetime_format=True)\n",
    "floods_new[\"EndDate\"] = floods_new[\"EndDateTime\"].dt.date\n",
    "floods_new = floods_new[floods_new[\"StartDate\"] >= datetime.strptime(\"2001-01-01\", \"%Y-%m-%d\").date()]\n",
    "flood_dates = pd.concat([floods_new[\"StartDateTime\"], floods[floods[\"flood\"]].index.to_series()], axis = 0)"
   ]
  },
  {
   "cell_type": "markdown",
   "id": "05f6ea14",
   "metadata": {},
   "source": [
    "### Adding class according to flood dates\n",
    "True  -> date from resulting aggregation is in flood dates\n",
    "\n",
    "False -> otherwise\n",
    "\n",
    "Also, join lists into one string"
   ]
  },
  {
   "cell_type": "code",
   "execution_count": 17,
   "id": "2911d89c",
   "metadata": {},
   "outputs": [
    {
     "data": {
      "text/html": [
       "<div>\n",
       "<style scoped>\n",
       "    .dataframe tbody tr th:only-of-type {\n",
       "        vertical-align: middle;\n",
       "    }\n",
       "\n",
       "    .dataframe tbody tr th {\n",
       "        vertical-align: top;\n",
       "    }\n",
       "\n",
       "    .dataframe thead th {\n",
       "        text-align: right;\n",
       "    }\n",
       "</style>\n",
       "<table border=\"1\" class=\"dataframe\">\n",
       "  <thead>\n",
       "    <tr style=\"text-align: right;\">\n",
       "      <th></th>\n",
       "      <th>data</th>\n",
       "      <th>class</th>\n",
       "    </tr>\n",
       "    <tr>\n",
       "      <th>date</th>\n",
       "      <th></th>\n",
       "      <th></th>\n",
       "    </tr>\n",
       "  </thead>\n",
       "  <tbody>\n",
       "    <tr>\n",
       "      <th>2001-08-07</th>\n",
       "      <td>iabjaajaajaajaaibbjabjaajaajaajaajaaiabibbibbi...</td>\n",
       "      <td>False</td>\n",
       "    </tr>\n",
       "    <tr>\n",
       "      <th>2001-08-08</th>\n",
       "      <td>hcchbdjdajbbjeagbdfdehdcfbgibbifbgddigbhbchfcd...</td>\n",
       "      <td>False</td>\n",
       "    </tr>\n",
       "    <tr>\n",
       "      <th>2001-08-09</th>\n",
       "      <td>dbgcdhbajaajebffafdahebfgddfbeedfcbhbcibajdahe...</td>\n",
       "      <td>False</td>\n",
       "    </tr>\n",
       "  </tbody>\n",
       "</table>\n",
       "</div>"
      ],
      "text/plain": [
       "                                                         data  class\n",
       "date                                                                \n",
       "2001-08-07  iabjaajaajaajaaibbjabjaajaajaajaajaaiabibbibbi...  False\n",
       "2001-08-08  hcchbdjdajbbjeagbdfdehdcfbgibbifbgddigbhbchfcd...  False\n",
       "2001-08-09  dbgcdhbajaajebffafdahebfgddfbeedfcbhbcibajdahe...  False"
      ]
     },
     "execution_count": 17,
     "metadata": {},
     "output_type": "execute_result"
    }
   ],
   "source": [
    "df = pd.DataFrame(columns=[\"data\", \"class\"], index=res.index)\n",
    "df[\"data\"] = res.apply(lambda x: \"\".join(x))\n",
    "df[\"class\"] = res.index.isin(flood_dates)\n",
    "df.head(3)"
   ]
  },
  {
   "cell_type": "code",
   "execution_count": 18,
   "id": "4e8f4247",
   "metadata": {},
   "outputs": [],
   "source": [
    "df.to_csv(\"sfa.csv\")"
   ]
  },
  {
   "cell_type": "code",
   "execution_count": null,
   "id": "1207eed3",
   "metadata": {},
   "outputs": [],
   "source": []
  }
 ],
 "metadata": {
  "kernelspec": {
   "display_name": "Python 3 (ipykernel)",
   "language": "python",
   "name": "python3"
  },
  "language_info": {
   "codemirror_mode": {
    "name": "ipython",
    "version": 3
   },
   "file_extension": ".py",
   "mimetype": "text/x-python",
   "name": "python",
   "nbconvert_exporter": "python",
   "pygments_lexer": "ipython3",
   "version": "3.9.12"
  }
 },
 "nbformat": 4,
 "nbformat_minor": 5
}
