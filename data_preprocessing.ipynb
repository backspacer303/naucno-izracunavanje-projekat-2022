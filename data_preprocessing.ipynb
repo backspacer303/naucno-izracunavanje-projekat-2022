{
 "cells": [
  {
   "cell_type": "markdown",
   "metadata": {
    "id": "QGJv9EhD2LR3",
    "pycharm": {
     "name": "#%% md\n"
    }
   },
   "source": [
    "# Datasets"
   ]
  },
  {
   "cell_type": "code",
   "execution_count": 1,
   "metadata": {
    "id": "0abVW4b92LR7",
    "pycharm": {
     "name": "#%%\n"
    }
   },
   "outputs": [],
   "source": [
    "import numpy as np\n",
    "import pandas as pd\n",
    "import pyts\n",
    "import altair as alt"
   ]
  },
  {
   "cell_type": "markdown",
   "metadata": {
    "id": "tmAZb-Tu2LR-",
    "pycharm": {
     "name": "#%% md\n"
    }
   },
   "source": [
    "## Real-Time Solar Wind Data\n",
    "---\n",
    "Real-Time Solar Wind (RTSW) data from the Advanced Composition Explorer (ACE) spacecraft are made available by the Space Weather Prediction Center (SWPC). Data is available [here](https://sohoftp.nascom.nasa.gov/sdb/goes/ace/daily/).\n",
    "\n",
    "##### ACE RTSW Instruments:\n",
    "- **MAG**    - Magnetometer\n",
    "- **SWEPAM** - Solar Wind Electron Proton Alpha Monitor\n",
    "- **EPAM**   - Electron Proton and Alpha Monitor\n",
    "- **SIS**    - Solar Isotope Spectrometer\n",
    "\n",
    "##### Average Intervals:\n",
    "- **MAG**    - *1-min and 1-hour*\n",
    "- **SWEPAM** - *1-min and 1-hour*\n",
    "- **EPAM**   - *5-min and 1-hour*\n",
    "- **SIS**    - *5-min and 1-hour*"
   ]
  },
  {
   "cell_type": "markdown",
   "metadata": {
    "id": "KpKCSfU72LSB",
    "pycharm": {
     "name": "#%% md\n"
    }
   },
   "source": [
    "### Electron Proton and Alpha Monitor\n",
    "---\n",
    "\n",
    "|Description                            | Format   |    Units         |     min/max|\n",
    "|---------------------------------------|----------|------------------|----------|                         \n",
    "|Differential electron flux 38-53 keV|    Float|  p/(cm2-sec-ster-MeV)|   0.00/1.0E8|\n",
    "|Differential electron flux 175-315 keV|  Float|  p/(cm2-sec-ster-MeV)|   0.00/1.0E7|\n",
    "|Differential proton flux 47-68 keV|      Float|  p/(cm2-sec-ster-MeV)|   0.00/1.0E8|\n",
    "|Differential proton flux 115-195 keV|    Float|  p/(cm2-sec-ster-MeV)|   0.00/1.0E7|\n",
    "|Differential proton flux 310-580 keV|    Float|  p/(cm2-sec-ster-MeV)|   0.00/1.0E7|\n",
    "|Differential proton flux 1060-1900 keV|  Float|  p/(cm2-sec-ster-MeV)|   0.00/1.0E6|\n",
    "|FP6p (761-1220 keV proton flux)    |     Float|  p/(cm2-sec-ster-MeV)|   0.00/1.0E7|\n",
    "|Anisotropy Index                    |    Float|     Dimensionless    |    0.0/2.0|\n",
    "\n"
   ]
  },
  {
   "cell_type": "code",
   "execution_count": 2,
   "metadata": {
    "colab": {
     "base_uri": "https://localhost:8080/"
    },
    "id": "nlfjMby12LSB",
    "outputId": "8ec017c0-4ba3-4a62-ca70-e3ee52e53f86",
    "pycharm": {
     "name": "#%%\n"
    }
   },
   "outputs": [
    {
     "data": {
      "text/plain": [
       "(1962946, 10)"
      ]
     },
     "execution_count": 2,
     "metadata": {},
     "output_type": "execute_result"
    }
   ],
   "source": [
    "epam = pd.read_csv(\"data/epam_clean.csv\")\n",
    "epam.shape"
   ]
  },
  {
   "cell_type": "code",
   "execution_count": 3,
   "metadata": {
    "colab": {
     "base_uri": "https://localhost:8080/",
     "height": 206
    },
    "id": "HyqZ_LbS2LSD",
    "outputId": "cae00027-09af-44fa-dc08-6cd515ed48ce",
    "pycharm": {
     "name": "#%%\n"
    }
   },
   "outputs": [
    {
     "data": {
      "text/html": [
       "<div>\n",
       "<style scoped>\n",
       "    .dataframe tbody tr th:only-of-type {\n",
       "        vertical-align: middle;\n",
       "    }\n",
       "\n",
       "    .dataframe tbody tr th {\n",
       "        vertical-align: top;\n",
       "    }\n",
       "\n",
       "    .dataframe thead th {\n",
       "        text-align: right;\n",
       "    }\n",
       "</style>\n",
       "<table border=\"1\" class=\"dataframe\">\n",
       "  <thead>\n",
       "    <tr style=\"text-align: right;\">\n",
       "      <th></th>\n",
       "      <th>Unnamed: 0</th>\n",
       "      <th>38-53</th>\n",
       "      <th>175-315</th>\n",
       "      <th>47-65</th>\n",
       "      <th>112-187</th>\n",
       "      <th>310-580</th>\n",
       "      <th>761-1220</th>\n",
       "      <th>060-1910</th>\n",
       "      <th>anis_ratio</th>\n",
       "      <th>datetime</th>\n",
       "    </tr>\n",
       "  </thead>\n",
       "  <tbody>\n",
       "    <tr>\n",
       "      <th>0</th>\n",
       "      <td>0</td>\n",
       "      <td>694.0</td>\n",
       "      <td>11.6</td>\n",
       "      <td>1130.0</td>\n",
       "      <td>123.0</td>\n",
       "      <td>6.65</td>\n",
       "      <td>0.633</td>\n",
       "      <td>0.193</td>\n",
       "      <td>0.90</td>\n",
       "      <td>2001-08-07 00:10:00</td>\n",
       "    </tr>\n",
       "    <tr>\n",
       "      <th>1</th>\n",
       "      <td>1</td>\n",
       "      <td>704.0</td>\n",
       "      <td>14.7</td>\n",
       "      <td>1210.0</td>\n",
       "      <td>120.0</td>\n",
       "      <td>7.18</td>\n",
       "      <td>0.946</td>\n",
       "      <td>0.252</td>\n",
       "      <td>0.68</td>\n",
       "      <td>2001-08-07 00:15:00</td>\n",
       "    </tr>\n",
       "    <tr>\n",
       "      <th>2</th>\n",
       "      <td>2</td>\n",
       "      <td>797.0</td>\n",
       "      <td>13.4</td>\n",
       "      <td>1560.0</td>\n",
       "      <td>131.0</td>\n",
       "      <td>7.67</td>\n",
       "      <td>0.889</td>\n",
       "      <td>0.321</td>\n",
       "      <td>1.38</td>\n",
       "      <td>2001-08-07 00:20:00</td>\n",
       "    </tr>\n",
       "    <tr>\n",
       "      <th>3</th>\n",
       "      <td>3</td>\n",
       "      <td>758.0</td>\n",
       "      <td>16.0</td>\n",
       "      <td>1490.0</td>\n",
       "      <td>139.0</td>\n",
       "      <td>8.00</td>\n",
       "      <td>0.666</td>\n",
       "      <td>0.234</td>\n",
       "      <td>0.89</td>\n",
       "      <td>2001-08-07 00:25:00</td>\n",
       "    </tr>\n",
       "    <tr>\n",
       "      <th>4</th>\n",
       "      <td>4</td>\n",
       "      <td>650.0</td>\n",
       "      <td>16.2</td>\n",
       "      <td>1360.0</td>\n",
       "      <td>133.0</td>\n",
       "      <td>7.18</td>\n",
       "      <td>0.903</td>\n",
       "      <td>0.190</td>\n",
       "      <td>0.43</td>\n",
       "      <td>2001-08-07 00:30:00</td>\n",
       "    </tr>\n",
       "  </tbody>\n",
       "</table>\n",
       "</div>"
      ],
      "text/plain": [
       "   Unnamed: 0  38-53  175-315   47-65  112-187  310-580  761-1220  060-1910  \\\n",
       "0           0  694.0     11.6  1130.0    123.0     6.65     0.633     0.193   \n",
       "1           1  704.0     14.7  1210.0    120.0     7.18     0.946     0.252   \n",
       "2           2  797.0     13.4  1560.0    131.0     7.67     0.889     0.321   \n",
       "3           3  758.0     16.0  1490.0    139.0     8.00     0.666     0.234   \n",
       "4           4  650.0     16.2  1360.0    133.0     7.18     0.903     0.190   \n",
       "\n",
       "   anis_ratio             datetime  \n",
       "0        0.90  2001-08-07 00:10:00  \n",
       "1        0.68  2001-08-07 00:15:00  \n",
       "2        1.38  2001-08-07 00:20:00  \n",
       "3        0.89  2001-08-07 00:25:00  \n",
       "4        0.43  2001-08-07 00:30:00  "
      ]
     },
     "execution_count": 3,
     "metadata": {},
     "output_type": "execute_result"
    }
   ],
   "source": [
    "epam.head(5)"
   ]
  },
  {
   "cell_type": "code",
   "execution_count": 4,
   "metadata": {
    "colab": {
     "base_uri": "https://localhost:8080/",
     "height": 206
    },
    "id": "tvg4vRCs2LSE",
    "outputId": "81aa4263-8de2-438d-8841-364adbc12285",
    "pycharm": {
     "name": "#%%\n"
    }
   },
   "outputs": [
    {
     "data": {
      "text/html": [
       "<div>\n",
       "<style scoped>\n",
       "    .dataframe tbody tr th:only-of-type {\n",
       "        vertical-align: middle;\n",
       "    }\n",
       "\n",
       "    .dataframe tbody tr th {\n",
       "        vertical-align: top;\n",
       "    }\n",
       "\n",
       "    .dataframe thead th {\n",
       "        text-align: right;\n",
       "    }\n",
       "</style>\n",
       "<table border=\"1\" class=\"dataframe\">\n",
       "  <thead>\n",
       "    <tr style=\"text-align: right;\">\n",
       "      <th></th>\n",
       "      <th>38-53</th>\n",
       "      <th>175-315</th>\n",
       "      <th>47-65</th>\n",
       "      <th>112-187</th>\n",
       "      <th>310-580</th>\n",
       "      <th>761-1220</th>\n",
       "      <th>060-1910</th>\n",
       "      <th>anis_ratio</th>\n",
       "      <th>timestamp</th>\n",
       "      <th>date</th>\n",
       "    </tr>\n",
       "  </thead>\n",
       "  <tbody>\n",
       "    <tr>\n",
       "      <th>0</th>\n",
       "      <td>694.0</td>\n",
       "      <td>11.6</td>\n",
       "      <td>1130.0</td>\n",
       "      <td>123.0</td>\n",
       "      <td>6.65</td>\n",
       "      <td>0.633</td>\n",
       "      <td>0.193</td>\n",
       "      <td>0.90</td>\n",
       "      <td>2001-08-07 00:10:00</td>\n",
       "      <td>2001-08-07</td>\n",
       "    </tr>\n",
       "    <tr>\n",
       "      <th>1</th>\n",
       "      <td>704.0</td>\n",
       "      <td>14.7</td>\n",
       "      <td>1210.0</td>\n",
       "      <td>120.0</td>\n",
       "      <td>7.18</td>\n",
       "      <td>0.946</td>\n",
       "      <td>0.252</td>\n",
       "      <td>0.68</td>\n",
       "      <td>2001-08-07 00:15:00</td>\n",
       "      <td>2001-08-07</td>\n",
       "    </tr>\n",
       "    <tr>\n",
       "      <th>2</th>\n",
       "      <td>797.0</td>\n",
       "      <td>13.4</td>\n",
       "      <td>1560.0</td>\n",
       "      <td>131.0</td>\n",
       "      <td>7.67</td>\n",
       "      <td>0.889</td>\n",
       "      <td>0.321</td>\n",
       "      <td>1.38</td>\n",
       "      <td>2001-08-07 00:20:00</td>\n",
       "      <td>2001-08-07</td>\n",
       "    </tr>\n",
       "    <tr>\n",
       "      <th>3</th>\n",
       "      <td>758.0</td>\n",
       "      <td>16.0</td>\n",
       "      <td>1490.0</td>\n",
       "      <td>139.0</td>\n",
       "      <td>8.00</td>\n",
       "      <td>0.666</td>\n",
       "      <td>0.234</td>\n",
       "      <td>0.89</td>\n",
       "      <td>2001-08-07 00:25:00</td>\n",
       "      <td>2001-08-07</td>\n",
       "    </tr>\n",
       "    <tr>\n",
       "      <th>4</th>\n",
       "      <td>650.0</td>\n",
       "      <td>16.2</td>\n",
       "      <td>1360.0</td>\n",
       "      <td>133.0</td>\n",
       "      <td>7.18</td>\n",
       "      <td>0.903</td>\n",
       "      <td>0.190</td>\n",
       "      <td>0.43</td>\n",
       "      <td>2001-08-07 00:30:00</td>\n",
       "      <td>2001-08-07</td>\n",
       "    </tr>\n",
       "  </tbody>\n",
       "</table>\n",
       "</div>"
      ],
      "text/plain": [
       "   38-53  175-315   47-65  112-187  310-580  761-1220  060-1910  anis_ratio  \\\n",
       "0  694.0     11.6  1130.0    123.0     6.65     0.633     0.193        0.90   \n",
       "1  704.0     14.7  1210.0    120.0     7.18     0.946     0.252        0.68   \n",
       "2  797.0     13.4  1560.0    131.0     7.67     0.889     0.321        1.38   \n",
       "3  758.0     16.0  1490.0    139.0     8.00     0.666     0.234        0.89   \n",
       "4  650.0     16.2  1360.0    133.0     7.18     0.903     0.190        0.43   \n",
       "\n",
       "            timestamp       date  \n",
       "0 2001-08-07 00:10:00 2001-08-07  \n",
       "1 2001-08-07 00:15:00 2001-08-07  \n",
       "2 2001-08-07 00:20:00 2001-08-07  \n",
       "3 2001-08-07 00:25:00 2001-08-07  \n",
       "4 2001-08-07 00:30:00 2001-08-07  "
      ]
     },
     "execution_count": 4,
     "metadata": {},
     "output_type": "execute_result"
    }
   ],
   "source": [
    "epam.drop(axis=1, columns=['Unnamed: 0'], inplace=True)\n",
    "epam['timestamp'] = pd.to_datetime(epam.datetime, format='%Y-%m-%d %H:%M:%S')\n",
    "epam['date'] = epam.timestamp.dt.date\n",
    "epam['date'] = epam['date'].astype('datetime64')\n",
    "epam.drop(axis=1, columns=['datetime'], inplace=True)\n",
    "epam.head(5)"
   ]
  },
  {
   "cell_type": "markdown",
   "metadata": {
    "id": "IroM5DGY2LSG",
    "pycharm": {
     "name": "#%% md\n"
    }
   },
   "source": [
    " ### Solar Wind Electron Proton Alpha Monitor\n",
    " ---\n",
    " \n",
    "|Description|                                   Format|    Units|         min/max|  \n",
    "|-----------|------------------------------------------|---------|----------------|\n",
    "|Solar wind proton density|                      Float|     p/cc|       0.0 /  200.0|\n",
    "|Solar wind bulk speed     |                     Float|    km/s |   200.0 / 2000.0|\n",
    "|Solar wind ion temperature |                    Float| degrees K|  1.00E4 / 1.00E7|\n",
    "\n",
    " "
   ]
  },
  {
   "cell_type": "code",
   "execution_count": 5,
   "metadata": {
    "colab": {
     "base_uri": "https://localhost:8080/"
    },
    "id": "WioEwJkk2LSH",
    "outputId": "05d288a5-56e6-4f33-f758-bd7472a55c02",
    "pycharm": {
     "name": "#%%\n"
    }
   },
   "outputs": [
    {
     "data": {
      "text/plain": [
       "(8506059, 5)"
      ]
     },
     "execution_count": 5,
     "metadata": {},
     "output_type": "execute_result"
    }
   ],
   "source": [
    "swepam = pd.read_csv('data/swepam_clean.csv')\n",
    "swepam.shape"
   ]
  },
  {
   "cell_type": "code",
   "execution_count": 6,
   "metadata": {
    "colab": {
     "base_uri": "https://localhost:8080/",
     "height": 206
    },
    "id": "EPXSW1z72LSJ",
    "outputId": "168d88d8-45cf-4aaa-852b-76dfd9ea7180",
    "pycharm": {
     "name": "#%%\n"
    }
   },
   "outputs": [
    {
     "data": {
      "text/html": [
       "<div>\n",
       "<style scoped>\n",
       "    .dataframe tbody tr th:only-of-type {\n",
       "        vertical-align: middle;\n",
       "    }\n",
       "\n",
       "    .dataframe tbody tr th {\n",
       "        vertical-align: top;\n",
       "    }\n",
       "\n",
       "    .dataframe thead th {\n",
       "        text-align: right;\n",
       "    }\n",
       "</style>\n",
       "<table border=\"1\" class=\"dataframe\">\n",
       "  <thead>\n",
       "    <tr style=\"text-align: right;\">\n",
       "      <th></th>\n",
       "      <th>Unnamed: 0</th>\n",
       "      <th>proton_density</th>\n",
       "      <th>bulk_speed</th>\n",
       "      <th>ion_temperature</th>\n",
       "      <th>datetime</th>\n",
       "    </tr>\n",
       "  </thead>\n",
       "  <tbody>\n",
       "    <tr>\n",
       "      <th>0</th>\n",
       "      <td>0</td>\n",
       "      <td>3.2</td>\n",
       "      <td>443.1</td>\n",
       "      <td>68800.0</td>\n",
       "      <td>2001-08-07 00:02:00</td>\n",
       "    </tr>\n",
       "    <tr>\n",
       "      <th>1</th>\n",
       "      <td>1</td>\n",
       "      <td>3.2</td>\n",
       "      <td>443.5</td>\n",
       "      <td>64300.0</td>\n",
       "      <td>2001-08-07 00:03:00</td>\n",
       "    </tr>\n",
       "    <tr>\n",
       "      <th>2</th>\n",
       "      <td>2</td>\n",
       "      <td>3.2</td>\n",
       "      <td>446.1</td>\n",
       "      <td>71200.0</td>\n",
       "      <td>2001-08-07 00:04:00</td>\n",
       "    </tr>\n",
       "    <tr>\n",
       "      <th>3</th>\n",
       "      <td>3</td>\n",
       "      <td>3.3</td>\n",
       "      <td>446.3</td>\n",
       "      <td>68900.0</td>\n",
       "      <td>2001-08-07 00:05:00</td>\n",
       "    </tr>\n",
       "    <tr>\n",
       "      <th>4</th>\n",
       "      <td>4</td>\n",
       "      <td>3.3</td>\n",
       "      <td>446.3</td>\n",
       "      <td>68900.0</td>\n",
       "      <td>2001-08-07 00:06:00</td>\n",
       "    </tr>\n",
       "  </tbody>\n",
       "</table>\n",
       "</div>"
      ],
      "text/plain": [
       "   Unnamed: 0  proton_density  bulk_speed  ion_temperature  \\\n",
       "0           0             3.2       443.1          68800.0   \n",
       "1           1             3.2       443.5          64300.0   \n",
       "2           2             3.2       446.1          71200.0   \n",
       "3           3             3.3       446.3          68900.0   \n",
       "4           4             3.3       446.3          68900.0   \n",
       "\n",
       "              datetime  \n",
       "0  2001-08-07 00:02:00  \n",
       "1  2001-08-07 00:03:00  \n",
       "2  2001-08-07 00:04:00  \n",
       "3  2001-08-07 00:05:00  \n",
       "4  2001-08-07 00:06:00  "
      ]
     },
     "execution_count": 6,
     "metadata": {},
     "output_type": "execute_result"
    }
   ],
   "source": [
    "swepam.head(5)"
   ]
  },
  {
   "cell_type": "code",
   "execution_count": 7,
   "metadata": {
    "colab": {
     "base_uri": "https://localhost:8080/",
     "height": 206
    },
    "id": "by357Gr72LSK",
    "outputId": "788f87c4-4f64-499f-e2ae-3fa72ffc1028",
    "pycharm": {
     "name": "#%%\n"
    }
   },
   "outputs": [
    {
     "data": {
      "text/html": [
       "<div>\n",
       "<style scoped>\n",
       "    .dataframe tbody tr th:only-of-type {\n",
       "        vertical-align: middle;\n",
       "    }\n",
       "\n",
       "    .dataframe tbody tr th {\n",
       "        vertical-align: top;\n",
       "    }\n",
       "\n",
       "    .dataframe thead th {\n",
       "        text-align: right;\n",
       "    }\n",
       "</style>\n",
       "<table border=\"1\" class=\"dataframe\">\n",
       "  <thead>\n",
       "    <tr style=\"text-align: right;\">\n",
       "      <th></th>\n",
       "      <th>proton_density</th>\n",
       "      <th>bulk_speed</th>\n",
       "      <th>ion_temperature</th>\n",
       "      <th>timestamp</th>\n",
       "      <th>date</th>\n",
       "    </tr>\n",
       "  </thead>\n",
       "  <tbody>\n",
       "    <tr>\n",
       "      <th>0</th>\n",
       "      <td>3.2</td>\n",
       "      <td>443.1</td>\n",
       "      <td>68800.0</td>\n",
       "      <td>2001-08-07 00:02:00</td>\n",
       "      <td>2001-08-07</td>\n",
       "    </tr>\n",
       "    <tr>\n",
       "      <th>1</th>\n",
       "      <td>3.2</td>\n",
       "      <td>443.5</td>\n",
       "      <td>64300.0</td>\n",
       "      <td>2001-08-07 00:03:00</td>\n",
       "      <td>2001-08-07</td>\n",
       "    </tr>\n",
       "    <tr>\n",
       "      <th>2</th>\n",
       "      <td>3.2</td>\n",
       "      <td>446.1</td>\n",
       "      <td>71200.0</td>\n",
       "      <td>2001-08-07 00:04:00</td>\n",
       "      <td>2001-08-07</td>\n",
       "    </tr>\n",
       "    <tr>\n",
       "      <th>3</th>\n",
       "      <td>3.3</td>\n",
       "      <td>446.3</td>\n",
       "      <td>68900.0</td>\n",
       "      <td>2001-08-07 00:05:00</td>\n",
       "      <td>2001-08-07</td>\n",
       "    </tr>\n",
       "    <tr>\n",
       "      <th>4</th>\n",
       "      <td>3.3</td>\n",
       "      <td>446.3</td>\n",
       "      <td>68900.0</td>\n",
       "      <td>2001-08-07 00:06:00</td>\n",
       "      <td>2001-08-07</td>\n",
       "    </tr>\n",
       "  </tbody>\n",
       "</table>\n",
       "</div>"
      ],
      "text/plain": [
       "   proton_density  bulk_speed  ion_temperature           timestamp       date\n",
       "0             3.2       443.1          68800.0 2001-08-07 00:02:00 2001-08-07\n",
       "1             3.2       443.5          64300.0 2001-08-07 00:03:00 2001-08-07\n",
       "2             3.2       446.1          71200.0 2001-08-07 00:04:00 2001-08-07\n",
       "3             3.3       446.3          68900.0 2001-08-07 00:05:00 2001-08-07\n",
       "4             3.3       446.3          68900.0 2001-08-07 00:06:00 2001-08-07"
      ]
     },
     "execution_count": 7,
     "metadata": {},
     "output_type": "execute_result"
    }
   ],
   "source": [
    "swepam.drop(axis=1, columns=['Unnamed: 0'], inplace=True)\n",
    "swepam['timestamp'] = pd.to_datetime(swepam.datetime, format='%Y-%m-%d %H:%M:%S')\n",
    "swepam['date'] = swepam.timestamp.dt.date\n",
    "swepam['date'] = swepam['date'].astype('datetime64')\n",
    "swepam.drop(axis=1, columns=['datetime'], inplace=True)\n",
    "swepam.head(5)"
   ]
  },
  {
   "cell_type": "markdown",
   "metadata": {
    "id": "dWMY6yMC2LSL",
    "pycharm": {
     "name": "#%% md\n"
    }
   },
   "source": [
    "### Magnetometer\n",
    "---\n",
    "\n",
    "|Description|                             Format|       Units|          min/max|\n",
    "|-----------|-----------------------------------|------------|-----------------|\n",
    "|IMF X-component in GSM coordinates|       Float|         nT|        -200.0 / 200.0|\n",
    "|IMF Y-component in GSM coordinates|       Float|         nT|       -200.0 / 200.0|\n",
    "|IMF Z-component in GSM coordinates|       Float|         nT|        -200.0 / 200.0|\n",
    "|IMF component magnitude           |       Float|         nT|           0.0 / 200.0|\n",
    "|IMF latitude in GSM coordinates   |       Float|       degrees|      -90.0 / 90.0|\n",
    "|IMF longitude in GSM coordinates  |       Float|       degrees|        0.0 / 360.0|\n"
   ]
  },
  {
   "cell_type": "code",
   "execution_count": 8,
   "metadata": {
    "colab": {
     "base_uri": "https://localhost:8080/"
    },
    "id": "7CbJ-uiP2LSM",
    "outputId": "7f7ae09c-3dff-471f-994b-d86ca1c70729",
    "pycharm": {
     "name": "#%%\n"
    }
   },
   "outputs": [
    {
     "data": {
      "text/plain": [
       "(9993374, 8)"
      ]
     },
     "execution_count": 8,
     "metadata": {},
     "output_type": "execute_result"
    }
   ],
   "source": [
    "mag = pd.read_csv('data/mag_clean.csv')\n",
    "mag.shape"
   ]
  },
  {
   "cell_type": "code",
   "execution_count": 9,
   "metadata": {
    "colab": {
     "base_uri": "https://localhost:8080/",
     "height": 206
    },
    "id": "2MDmJ69S2LSM",
    "outputId": "698ea7fe-6687-4d36-e293-8456e980612c",
    "pycharm": {
     "name": "#%%\n"
    }
   },
   "outputs": [
    {
     "data": {
      "text/html": [
       "<div>\n",
       "<style scoped>\n",
       "    .dataframe tbody tr th:only-of-type {\n",
       "        vertical-align: middle;\n",
       "    }\n",
       "\n",
       "    .dataframe tbody tr th {\n",
       "        vertical-align: top;\n",
       "    }\n",
       "\n",
       "    .dataframe thead th {\n",
       "        text-align: right;\n",
       "    }\n",
       "</style>\n",
       "<table border=\"1\" class=\"dataframe\">\n",
       "  <thead>\n",
       "    <tr style=\"text-align: right;\">\n",
       "      <th></th>\n",
       "      <th>Unnamed: 0</th>\n",
       "      <th>Bx</th>\n",
       "      <th>By</th>\n",
       "      <th>Bz</th>\n",
       "      <th>Bt</th>\n",
       "      <th>Lat.</th>\n",
       "      <th>Long.</th>\n",
       "      <th>datetime</th>\n",
       "    </tr>\n",
       "  </thead>\n",
       "  <tbody>\n",
       "    <tr>\n",
       "      <th>0</th>\n",
       "      <td>0</td>\n",
       "      <td>-6.2</td>\n",
       "      <td>-3.1</td>\n",
       "      <td>-0.1</td>\n",
       "      <td>6.9</td>\n",
       "      <td>-0.6</td>\n",
       "      <td>206.5</td>\n",
       "      <td>2001-08-07 00:00:00</td>\n",
       "    </tr>\n",
       "    <tr>\n",
       "      <th>1</th>\n",
       "      <td>1</td>\n",
       "      <td>-6.3</td>\n",
       "      <td>-3.3</td>\n",
       "      <td>-0.3</td>\n",
       "      <td>7.1</td>\n",
       "      <td>-2.7</td>\n",
       "      <td>207.8</td>\n",
       "      <td>2001-08-07 00:01:00</td>\n",
       "    </tr>\n",
       "    <tr>\n",
       "      <th>2</th>\n",
       "      <td>2</td>\n",
       "      <td>-6.2</td>\n",
       "      <td>-3.1</td>\n",
       "      <td>-0.6</td>\n",
       "      <td>6.9</td>\n",
       "      <td>-4.7</td>\n",
       "      <td>206.5</td>\n",
       "      <td>2001-08-07 00:02:00</td>\n",
       "    </tr>\n",
       "    <tr>\n",
       "      <th>3</th>\n",
       "      <td>3</td>\n",
       "      <td>-6.1</td>\n",
       "      <td>-3.4</td>\n",
       "      <td>-0.6</td>\n",
       "      <td>7.0</td>\n",
       "      <td>-4.8</td>\n",
       "      <td>209.2</td>\n",
       "      <td>2001-08-07 00:03:00</td>\n",
       "    </tr>\n",
       "    <tr>\n",
       "      <th>4</th>\n",
       "      <td>4</td>\n",
       "      <td>-6.1</td>\n",
       "      <td>-3.5</td>\n",
       "      <td>-0.4</td>\n",
       "      <td>7.0</td>\n",
       "      <td>-3.1</td>\n",
       "      <td>210.0</td>\n",
       "      <td>2001-08-07 00:04:00</td>\n",
       "    </tr>\n",
       "  </tbody>\n",
       "</table>\n",
       "</div>"
      ],
      "text/plain": [
       "   Unnamed: 0   Bx   By   Bz   Bt  Lat.  Long.             datetime\n",
       "0           0 -6.2 -3.1 -0.1  6.9  -0.6  206.5  2001-08-07 00:00:00\n",
       "1           1 -6.3 -3.3 -0.3  7.1  -2.7  207.8  2001-08-07 00:01:00\n",
       "2           2 -6.2 -3.1 -0.6  6.9  -4.7  206.5  2001-08-07 00:02:00\n",
       "3           3 -6.1 -3.4 -0.6  7.0  -4.8  209.2  2001-08-07 00:03:00\n",
       "4           4 -6.1 -3.5 -0.4  7.0  -3.1  210.0  2001-08-07 00:04:00"
      ]
     },
     "execution_count": 9,
     "metadata": {},
     "output_type": "execute_result"
    }
   ],
   "source": [
    "mag.head(5)"
   ]
  },
  {
   "cell_type": "code",
   "execution_count": 10,
   "metadata": {
    "colab": {
     "base_uri": "https://localhost:8080/",
     "height": 206
    },
    "id": "wTzUVtIO2LSN",
    "outputId": "7de94f50-6c25-48f8-a044-1183da8c7245",
    "pycharm": {
     "name": "#%%\n"
    }
   },
   "outputs": [
    {
     "data": {
      "text/html": [
       "<div>\n",
       "<style scoped>\n",
       "    .dataframe tbody tr th:only-of-type {\n",
       "        vertical-align: middle;\n",
       "    }\n",
       "\n",
       "    .dataframe tbody tr th {\n",
       "        vertical-align: top;\n",
       "    }\n",
       "\n",
       "    .dataframe thead th {\n",
       "        text-align: right;\n",
       "    }\n",
       "</style>\n",
       "<table border=\"1\" class=\"dataframe\">\n",
       "  <thead>\n",
       "    <tr style=\"text-align: right;\">\n",
       "      <th></th>\n",
       "      <th>Bx</th>\n",
       "      <th>By</th>\n",
       "      <th>Bz</th>\n",
       "      <th>Bt</th>\n",
       "      <th>Lat.</th>\n",
       "      <th>Long.</th>\n",
       "      <th>timestamp</th>\n",
       "      <th>date</th>\n",
       "    </tr>\n",
       "  </thead>\n",
       "  <tbody>\n",
       "    <tr>\n",
       "      <th>0</th>\n",
       "      <td>-6.2</td>\n",
       "      <td>-3.1</td>\n",
       "      <td>-0.1</td>\n",
       "      <td>6.9</td>\n",
       "      <td>-0.6</td>\n",
       "      <td>206.5</td>\n",
       "      <td>2001-08-07 00:00:00</td>\n",
       "      <td>2001-08-07</td>\n",
       "    </tr>\n",
       "    <tr>\n",
       "      <th>1</th>\n",
       "      <td>-6.3</td>\n",
       "      <td>-3.3</td>\n",
       "      <td>-0.3</td>\n",
       "      <td>7.1</td>\n",
       "      <td>-2.7</td>\n",
       "      <td>207.8</td>\n",
       "      <td>2001-08-07 00:01:00</td>\n",
       "      <td>2001-08-07</td>\n",
       "    </tr>\n",
       "    <tr>\n",
       "      <th>2</th>\n",
       "      <td>-6.2</td>\n",
       "      <td>-3.1</td>\n",
       "      <td>-0.6</td>\n",
       "      <td>6.9</td>\n",
       "      <td>-4.7</td>\n",
       "      <td>206.5</td>\n",
       "      <td>2001-08-07 00:02:00</td>\n",
       "      <td>2001-08-07</td>\n",
       "    </tr>\n",
       "    <tr>\n",
       "      <th>3</th>\n",
       "      <td>-6.1</td>\n",
       "      <td>-3.4</td>\n",
       "      <td>-0.6</td>\n",
       "      <td>7.0</td>\n",
       "      <td>-4.8</td>\n",
       "      <td>209.2</td>\n",
       "      <td>2001-08-07 00:03:00</td>\n",
       "      <td>2001-08-07</td>\n",
       "    </tr>\n",
       "    <tr>\n",
       "      <th>4</th>\n",
       "      <td>-6.1</td>\n",
       "      <td>-3.5</td>\n",
       "      <td>-0.4</td>\n",
       "      <td>7.0</td>\n",
       "      <td>-3.1</td>\n",
       "      <td>210.0</td>\n",
       "      <td>2001-08-07 00:04:00</td>\n",
       "      <td>2001-08-07</td>\n",
       "    </tr>\n",
       "  </tbody>\n",
       "</table>\n",
       "</div>"
      ],
      "text/plain": [
       "    Bx   By   Bz   Bt  Lat.  Long.           timestamp       date\n",
       "0 -6.2 -3.1 -0.1  6.9  -0.6  206.5 2001-08-07 00:00:00 2001-08-07\n",
       "1 -6.3 -3.3 -0.3  7.1  -2.7  207.8 2001-08-07 00:01:00 2001-08-07\n",
       "2 -6.2 -3.1 -0.6  6.9  -4.7  206.5 2001-08-07 00:02:00 2001-08-07\n",
       "3 -6.1 -3.4 -0.6  7.0  -4.8  209.2 2001-08-07 00:03:00 2001-08-07\n",
       "4 -6.1 -3.5 -0.4  7.0  -3.1  210.0 2001-08-07 00:04:00 2001-08-07"
      ]
     },
     "execution_count": 10,
     "metadata": {},
     "output_type": "execute_result"
    }
   ],
   "source": [
    "mag.drop(axis=1, columns=['Unnamed: 0'], inplace=True)\n",
    "mag['timestamp'] = pd.to_datetime(mag.datetime, format='%Y-%m-%d %H:%M:%S')\n",
    "mag['date'] = mag.timestamp.dt.date\n",
    "mag['date'] = mag['date'].astype('datetime64')\n",
    "mag.drop(axis=1, columns=['datetime'], inplace=True)\n",
    "mag.head(5)"
   ]
  },
  {
   "cell_type": "markdown",
   "metadata": {
    "id": "Q10kjp2Z2LSN",
    "pycharm": {
     "name": "#%% md\n"
    }
   },
   "source": [
    "### Solar Isotope Spectrometer\n",
    "---\n",
    "\n",
    "|Description|                             Format|       Units|             min/max|\n",
    "|-----------|-----------------------------------|------------|--------------------|\n",
    "|Integral proton flux at >10 MeV|         Float|  p/(cm2-sec-ster)|     0.00 / 1.00E5|\n",
    "|Integral proton flux at >30 MeV|         Float|  p/(cm2-sec-ster)|    >0.00 / 1.00E5|"
   ]
  },
  {
   "cell_type": "code",
   "execution_count": 11,
   "metadata": {
    "colab": {
     "base_uri": "https://localhost:8080/"
    },
    "id": "bN6FWTbV2LSO",
    "outputId": "5bd7f9f3-c4ae-4ce5-fc0c-d04e869a0a08",
    "pycharm": {
     "name": "#%%\n"
    }
   },
   "outputs": [
    {
     "data": {
      "text/plain": [
       "(2009789, 4)"
      ]
     },
     "execution_count": 11,
     "metadata": {},
     "output_type": "execute_result"
    }
   ],
   "source": [
    "sis = pd.read_csv('data/sis_clean.csv')\n",
    "sis.shape"
   ]
  },
  {
   "cell_type": "code",
   "execution_count": 12,
   "metadata": {
    "colab": {
     "base_uri": "https://localhost:8080/",
     "height": 206
    },
    "id": "QlX-Df3L2LSQ",
    "outputId": "b78cc1db-40e5-466a-87ff-cc508d3289ed",
    "pycharm": {
     "name": "#%%\n"
    }
   },
   "outputs": [
    {
     "data": {
      "text/html": [
       "<div>\n",
       "<style scoped>\n",
       "    .dataframe tbody tr th:only-of-type {\n",
       "        vertical-align: middle;\n",
       "    }\n",
       "\n",
       "    .dataframe tbody tr th {\n",
       "        vertical-align: top;\n",
       "    }\n",
       "\n",
       "    .dataframe thead th {\n",
       "        text-align: right;\n",
       "    }\n",
       "</style>\n",
       "<table border=\"1\" class=\"dataframe\">\n",
       "  <thead>\n",
       "    <tr style=\"text-align: right;\">\n",
       "      <th></th>\n",
       "      <th>Unnamed: 0</th>\n",
       "      <th>&gt; 10 MeV</th>\n",
       "      <th>&gt; 30 MeV</th>\n",
       "      <th>datetime</th>\n",
       "    </tr>\n",
       "  </thead>\n",
       "  <tbody>\n",
       "    <tr>\n",
       "      <th>0</th>\n",
       "      <td>0</td>\n",
       "      <td>0.831</td>\n",
       "      <td>0.587</td>\n",
       "      <td>2001-08-07 00:20:00</td>\n",
       "    </tr>\n",
       "    <tr>\n",
       "      <th>1</th>\n",
       "      <td>1</td>\n",
       "      <td>0.820</td>\n",
       "      <td>0.574</td>\n",
       "      <td>2001-08-07 00:25:00</td>\n",
       "    </tr>\n",
       "    <tr>\n",
       "      <th>2</th>\n",
       "      <td>2</td>\n",
       "      <td>0.821</td>\n",
       "      <td>0.576</td>\n",
       "      <td>2001-08-07 00:30:00</td>\n",
       "    </tr>\n",
       "    <tr>\n",
       "      <th>3</th>\n",
       "      <td>3</td>\n",
       "      <td>0.805</td>\n",
       "      <td>0.571</td>\n",
       "      <td>2001-08-07 00:35:00</td>\n",
       "    </tr>\n",
       "    <tr>\n",
       "      <th>4</th>\n",
       "      <td>4</td>\n",
       "      <td>0.809</td>\n",
       "      <td>0.574</td>\n",
       "      <td>2001-08-07 00:40:00</td>\n",
       "    </tr>\n",
       "  </tbody>\n",
       "</table>\n",
       "</div>"
      ],
      "text/plain": [
       "   Unnamed: 0  > 10 MeV  > 30 MeV             datetime\n",
       "0           0     0.831     0.587  2001-08-07 00:20:00\n",
       "1           1     0.820     0.574  2001-08-07 00:25:00\n",
       "2           2     0.821     0.576  2001-08-07 00:30:00\n",
       "3           3     0.805     0.571  2001-08-07 00:35:00\n",
       "4           4     0.809     0.574  2001-08-07 00:40:00"
      ]
     },
     "execution_count": 12,
     "metadata": {},
     "output_type": "execute_result"
    }
   ],
   "source": [
    "sis.head(5)"
   ]
  },
  {
   "cell_type": "code",
   "execution_count": 13,
   "metadata": {
    "colab": {
     "base_uri": "https://localhost:8080/",
     "height": 206
    },
    "id": "KEUF8uzK2LSQ",
    "outputId": "252d8b37-0e39-45aa-e0b1-92eeb8b1c3a0",
    "pycharm": {
     "name": "#%%\n"
    }
   },
   "outputs": [
    {
     "data": {
      "text/html": [
       "<div>\n",
       "<style scoped>\n",
       "    .dataframe tbody tr th:only-of-type {\n",
       "        vertical-align: middle;\n",
       "    }\n",
       "\n",
       "    .dataframe tbody tr th {\n",
       "        vertical-align: top;\n",
       "    }\n",
       "\n",
       "    .dataframe thead th {\n",
       "        text-align: right;\n",
       "    }\n",
       "</style>\n",
       "<table border=\"1\" class=\"dataframe\">\n",
       "  <thead>\n",
       "    <tr style=\"text-align: right;\">\n",
       "      <th></th>\n",
       "      <th>&gt; 10 MeV</th>\n",
       "      <th>&gt; 30 MeV</th>\n",
       "      <th>timestamp</th>\n",
       "      <th>date</th>\n",
       "    </tr>\n",
       "  </thead>\n",
       "  <tbody>\n",
       "    <tr>\n",
       "      <th>0</th>\n",
       "      <td>0.831</td>\n",
       "      <td>0.587</td>\n",
       "      <td>2001-08-07 00:20:00</td>\n",
       "      <td>2001-08-07</td>\n",
       "    </tr>\n",
       "    <tr>\n",
       "      <th>1</th>\n",
       "      <td>0.820</td>\n",
       "      <td>0.574</td>\n",
       "      <td>2001-08-07 00:25:00</td>\n",
       "      <td>2001-08-07</td>\n",
       "    </tr>\n",
       "    <tr>\n",
       "      <th>2</th>\n",
       "      <td>0.821</td>\n",
       "      <td>0.576</td>\n",
       "      <td>2001-08-07 00:30:00</td>\n",
       "      <td>2001-08-07</td>\n",
       "    </tr>\n",
       "    <tr>\n",
       "      <th>3</th>\n",
       "      <td>0.805</td>\n",
       "      <td>0.571</td>\n",
       "      <td>2001-08-07 00:35:00</td>\n",
       "      <td>2001-08-07</td>\n",
       "    </tr>\n",
       "    <tr>\n",
       "      <th>4</th>\n",
       "      <td>0.809</td>\n",
       "      <td>0.574</td>\n",
       "      <td>2001-08-07 00:40:00</td>\n",
       "      <td>2001-08-07</td>\n",
       "    </tr>\n",
       "  </tbody>\n",
       "</table>\n",
       "</div>"
      ],
      "text/plain": [
       "   > 10 MeV  > 30 MeV           timestamp       date\n",
       "0     0.831     0.587 2001-08-07 00:20:00 2001-08-07\n",
       "1     0.820     0.574 2001-08-07 00:25:00 2001-08-07\n",
       "2     0.821     0.576 2001-08-07 00:30:00 2001-08-07\n",
       "3     0.805     0.571 2001-08-07 00:35:00 2001-08-07\n",
       "4     0.809     0.574 2001-08-07 00:40:00 2001-08-07"
      ]
     },
     "execution_count": 13,
     "metadata": {},
     "output_type": "execute_result"
    }
   ],
   "source": [
    "sis.drop(axis=1, columns=['Unnamed: 0'], inplace=True)\n",
    "sis['timestamp'] = pd.to_datetime(sis.datetime, format='%Y-%m-%d %H:%M:%S')\n",
    "sis['date'] = sis.timestamp.dt.date\n",
    "sis['date'] = sis['date'].astype('datetime64') \n",
    "sis.drop(axis=1, columns=['datetime'], inplace=True)\n",
    "sis.head(5)"
   ]
  },
  {
   "cell_type": "markdown",
   "metadata": {},
   "source": [
    "## Data visualization\n",
    "---\n",
    "We are visualizing mean daily value for each column in each dataset. Charts are interactive. They can be zoomed in or out and scrolled left and right."
   ]
  },
  {
   "cell_type": "code",
   "execution_count": 14,
   "metadata": {},
   "outputs": [],
   "source": [
    "# Split the data into two periods because the maximum number of values \n",
    "# that can be displayed using altair.Chart() is 5000. These two periods cover all data.\n",
    "period_1 = pd.date_range(start='2001-08-07', end='2014-12-31')\n",
    "period_2 = pd.date_range(start='2015-01-01', end='2022-05-02')"
   ]
  },
  {
   "cell_type": "markdown",
   "metadata": {},
   "source": [
    "### Electron Proton and Alpha Monitor data visualization\n",
    "---"
   ]
  },
  {
   "cell_type": "code",
   "execution_count": 15,
   "metadata": {},
   "outputs": [],
   "source": [
    "epam_mean = epam.groupby(['date']).mean().reset_index()"
   ]
  },
  {
   "cell_type": "code",
   "execution_count": 16,
   "metadata": {},
   "outputs": [],
   "source": [
    "epam_mean_split_1 = epam_mean[epam_mean['date'].isin(period_1)]\n",
    "epam_mean_split_2 = epam_mean[epam_mean['date'].isin(period_2)]"
   ]
  },
  {
   "cell_type": "markdown",
   "metadata": {},
   "source": [
    "#### Split 1 - 2001-2014"
   ]
  },
  {
   "cell_type": "code",
   "execution_count": 17,
   "metadata": {},
   "outputs": [],
   "source": [
    "chart1 = alt.Chart(epam_mean_split_1).mark_line().encode(\n",
    "  x='date:T',\n",
    "  y='38-53:Q',\n",
    ").interactive(bind_y=False)\n",
    "\n",
    "chart2 = alt.Chart(epam_mean_split_1).mark_line().encode(\n",
    "  x='date:T',\n",
    "  y='175-315:Q',\n",
    ").interactive(bind_y=False)\n",
    "\n",
    "chart3 = alt.Chart(epam_mean_split_1).mark_line().encode(\n",
    "  x='date:T',\n",
    "  y='47-65:Q',\n",
    ").interactive(bind_y=False)\n",
    "\n",
    "chart4 = alt.Chart(epam_mean_split_1).mark_line().encode(\n",
    "  x='date:T',\n",
    "  y='112-187:Q',\n",
    ").interactive(bind_y=False)\n",
    "\n",
    "chart5 = alt.Chart(epam_mean_split_1).mark_line().encode(\n",
    "  x='date:T',\n",
    "  y='310-580:Q',\n",
    ").interactive(bind_y=False)\n",
    "\n",
    "chart6 = alt.Chart(epam_mean_split_1).mark_line().encode(\n",
    "  x='date:T',\n",
    "  y='761-1220:Q',\n",
    ").interactive(bind_y=False)\n",
    "\n",
    "chart7 = alt.Chart(epam_mean_split_1).mark_line().encode(\n",
    "  x='date:T',\n",
    "  y='060-1910:Q',\n",
    ").interactive(bind_y=False)\n",
    "\n",
    "chart8 = alt.Chart(epam_mean_split_1).mark_line().encode(\n",
    "  x='date:T',\n",
    "  y='anis_ratio:Q',\n",
    ").interactive(bind_y=False)\n",
    "\n",
    "chart = alt.vconcat(chart1 | chart2 | chart3 | chart4, chart5 | chart6 | chart7 | chart8).properties(\n",
    "    title='Electron Proton and Alpha Monitor mean data visualization - split 1/2, 2001-2014  [charts are interactive: scroll to zoom, drag to slide]'\n",
    ").configure_title(\n",
    "    fontSize=30\n",
    ")\n",
    "chart.save('charts/epam_mean_chart_split_1.html')"
   ]
  },
  {
   "cell_type": "markdown",
   "metadata": {},
   "source": [
    "#### To view the chart, click here : [<span style=\"color:blue\">EPAM Chart Split 1</span>](charts/epam_mean_chart_split_1.html)\n",
    "> NOTE: If charts do not display on GitHub, download charts/ folder and open html pages in browser."
   ]
  },
  {
   "cell_type": "markdown",
   "metadata": {},
   "source": [
    "#### Split 2 - 2015-2022"
   ]
  },
  {
   "cell_type": "code",
   "execution_count": 18,
   "metadata": {},
   "outputs": [],
   "source": [
    "chart1 = alt.Chart(epam_mean_split_2).mark_line().encode(\n",
    "  x='date:T',\n",
    "  y='38-53:Q',\n",
    ").interactive(bind_y=False)\n",
    "\n",
    "chart2 = alt.Chart(epam_mean_split_2).mark_line().encode(\n",
    "  x='date:T',\n",
    "  y='175-315:Q',\n",
    ").interactive(bind_y=False)\n",
    "\n",
    "chart3 = alt.Chart(epam_mean_split_2).mark_line().encode(\n",
    "  x='date:T',\n",
    "  y='47-65:Q',\n",
    ").interactive(bind_y=False)\n",
    "\n",
    "chart4 = alt.Chart(epam_mean_split_2).mark_line().encode(\n",
    "  x='date:T',\n",
    "  y='112-187:Q',\n",
    ").interactive(bind_y=False)\n",
    "\n",
    "chart5 = alt.Chart(epam_mean_split_2).mark_line().encode(\n",
    "  x='date:T',\n",
    "  y='310-580:Q',\n",
    ").interactive(bind_y=False)\n",
    "\n",
    "chart6 = alt.Chart(epam_mean_split_2).mark_line().encode(\n",
    "  x='date:T',\n",
    "  y='761-1220:Q',\n",
    ").interactive(bind_y=False)\n",
    "\n",
    "chart7 = alt.Chart(epam_mean_split_2).mark_line().encode(\n",
    "  x='date:T',\n",
    "  y='060-1910:Q',\n",
    ").interactive(bind_y=False)\n",
    "\n",
    "chart8 = alt.Chart(epam_mean_split_2).mark_line().encode(\n",
    "  x='date:T',\n",
    "  y='anis_ratio:Q',\n",
    ").interactive(bind_y=False)\n",
    "\n",
    "chart = alt.vconcat(chart1 | chart2 | chart3 | chart4, chart5 | chart6 | chart7 | chart8).properties(\n",
    "    title='Electron Proton and Alpha Monitor mean data visualization - split 2/2, 2015-2022 [charts are interactive: scroll to zoom, drag to slide]' \n",
    ").configure_title(\n",
    "    fontSize=30\n",
    ")\n",
    "chart.save('charts/epam_mean_chart_split_2.html')"
   ]
  },
  {
   "cell_type": "markdown",
   "metadata": {},
   "source": [
    "#### To view the chart, click here : [<span style=\"color:blue\">EPAM Chart Split 2</span>](charts/epam_mean_chart_split_2.html)\n",
    "> NOTE: If charts do not display on GitHub, download charts/ folder and open html pages in browser."
   ]
  },
  {
   "cell_type": "markdown",
   "metadata": {},
   "source": [
    "### Solar Wind Electron Proton Alpha Monitor data visualization\n",
    "---"
   ]
  },
  {
   "cell_type": "code",
   "execution_count": 19,
   "metadata": {},
   "outputs": [],
   "source": [
    "swepam_mean = swepam.groupby(['date']).mean().reset_index()"
   ]
  },
  {
   "cell_type": "code",
   "execution_count": 20,
   "metadata": {},
   "outputs": [],
   "source": [
    "swepam_mean_split_1 = swepam_mean[swepam_mean['date'].isin(period_1)]\n",
    "swepam_mean_split_2 = swepam_mean[swepam_mean['date'].isin(period_2)]"
   ]
  },
  {
   "cell_type": "markdown",
   "metadata": {},
   "source": [
    "#### Split 1 - 2001-2014"
   ]
  },
  {
   "cell_type": "code",
   "execution_count": 21,
   "metadata": {},
   "outputs": [],
   "source": [
    "chart1 = alt.Chart(swepam_mean_split_1).mark_line().encode(\n",
    "  x='date:T',\n",
    "  y='proton_density:Q',\n",
    ").interactive(bind_y=False)\n",
    "\n",
    "chart2 = alt.Chart(swepam_mean_split_1).mark_line().encode(\n",
    "  x='date:T',\n",
    "  y='bulk_speed:Q',\n",
    ").interactive(bind_y=False)\n",
    "\n",
    "chart3 = alt.Chart(swepam_mean_split_1).mark_line().encode(\n",
    "  x='date:T',\n",
    "  y='ion_temperature:Q',\n",
    ").interactive(bind_y=False)\n",
    "\n",
    "chart = alt.vconcat(chart1 | chart2 , chart3).properties(\n",
    "    title='Solar Wind Electron Proton Alpha Monitor mean data visualization - split 1/2, 2001-2014 [charts are interactive: scroll to zoom, drag to slide]' \n",
    ").configure_title(\n",
    "    fontSize=30\n",
    ")\n",
    "chart.save('charts/swepam_mean_chart_split_1.html')"
   ]
  },
  {
   "cell_type": "markdown",
   "metadata": {},
   "source": [
    "#### To view the chart, click here : [<span style=\"color:blue\">SWEPAM Chart Split 1</span>](charts/swepam_mean_chart_split_1.html)\n",
    "> NOTE: If charts do not display on GitHub, download charts/ folder and open html pages in browser."
   ]
  },
  {
   "cell_type": "markdown",
   "metadata": {},
   "source": [
    "#### Split 2 - 2015-2022"
   ]
  },
  {
   "cell_type": "code",
   "execution_count": 22,
   "metadata": {},
   "outputs": [],
   "source": [
    "chart1 = alt.Chart(swepam_mean_split_2).mark_line().encode(\n",
    "  x='date:T',\n",
    "  y='proton_density:Q',\n",
    ").interactive(bind_y=False)\n",
    "\n",
    "chart2 = alt.Chart(swepam_mean_split_2).mark_line().encode(\n",
    "  x='date:T',\n",
    "  y='bulk_speed:Q',\n",
    ").interactive(bind_y=False)\n",
    "\n",
    "chart3 = alt.Chart(swepam_mean_split_2).mark_line().encode(\n",
    "  x='date:T',\n",
    "  y='ion_temperature:Q',\n",
    ").interactive(bind_y=False)\n",
    "\n",
    "chart = alt.vconcat(chart1 | chart2 , chart3).properties(\n",
    "    title='Solar Wind Electron Proton Alpha Monitor mean data visualization - split 2/2, 2015-2022 [charts are interactive: scroll to zoom, drag to slide]' \n",
    ").configure_title(\n",
    "    fontSize=30\n",
    ")\n",
    "chart.save('charts/swepam_mean_chart_split_2.html')"
   ]
  },
  {
   "cell_type": "markdown",
   "metadata": {},
   "source": [
    "#### To view the chart, click here : [<span style=\"color:blue\">SWEPAM Chart Split 2</span>](charts/swepam_mean_chart_split_2.html)\n",
    "> NOTE: If charts do not display on GitHub, download charts/ folder and open html pages in browser."
   ]
  },
  {
   "cell_type": "markdown",
   "metadata": {},
   "source": [
    "### Magnetometer data visualization\n",
    "---"
   ]
  },
  {
   "cell_type": "code",
   "execution_count": 23,
   "metadata": {},
   "outputs": [],
   "source": [
    "mag_mean = mag.groupby(['date']).mean().reset_index()"
   ]
  },
  {
   "cell_type": "code",
   "execution_count": 24,
   "metadata": {},
   "outputs": [],
   "source": [
    "mag_mean_split_1 = mag_mean[mag_mean['date'].isin(period_1)]\n",
    "mag_mean_split_2 = mag_mean[mag_mean['date'].isin(period_2)]"
   ]
  },
  {
   "cell_type": "markdown",
   "metadata": {},
   "source": [
    "#### Split 1 - 2001-2014"
   ]
  },
  {
   "cell_type": "code",
   "execution_count": 25,
   "metadata": {},
   "outputs": [],
   "source": [
    "chart1 = alt.Chart(mag_mean_split_1).mark_line().encode(\n",
    "  x='date:T',\n",
    "  y='Bx:Q',\n",
    ").interactive(bind_y=False)\n",
    "\n",
    "chart2 = alt.Chart(mag_mean_split_1).mark_line().encode(\n",
    "  x='date:T',\n",
    "  y='By:Q',\n",
    ").interactive(bind_y=False)\n",
    "\n",
    "chart3 = alt.Chart(mag_mean_split_1).mark_line().encode(\n",
    "  x='date:T',\n",
    "  y='Bz:Q',\n",
    ").interactive(bind_y=False)\n",
    "\n",
    "chart4 = alt.Chart(mag_mean_split_1).mark_line().encode(\n",
    "  x='date:T',\n",
    "  y='Bt:Q',\n",
    ").interactive(bind_y=False)\n",
    "\n",
    "chart5 = alt.Chart(mag_mean_split_1).mark_line().encode(\n",
    "  x='date:T',\n",
    "  y='Lat\\.:Q',\n",
    ").interactive(bind_y=False)\n",
    "\n",
    "chart6 = alt.Chart(mag_mean_split_1).mark_line().encode(\n",
    "  x='date:T',\n",
    "  y='Long\\.:Q',\n",
    ").interactive(bind_y=False)\n",
    "\n",
    "chart = alt.vconcat(chart1 | chart2 | chart3, chart4 | chart5 | chart6).properties(\n",
    "    title='Magnetometer mean data visualization - split 1/2, 2001-2014 [charts are interactive: scroll to zoom, drag to slide]' \n",
    ").configure_title(\n",
    "    fontSize=30\n",
    ")\n",
    "chart.save('charts/mag_mean_chart_split_1.html')"
   ]
  },
  {
   "cell_type": "markdown",
   "metadata": {},
   "source": [
    "#### To view the chart, click here : [<span style=\"color:blue\">MAG Chart Split 1</span>](charts/mag_mean_chart_split_1.html)\n",
    "> NOTE: If charts do not display on GitHub, download charts/ folder and open html pages in browser."
   ]
  },
  {
   "cell_type": "markdown",
   "metadata": {},
   "source": [
    "#### Split 2 - 2015-2022"
   ]
  },
  {
   "cell_type": "code",
   "execution_count": 26,
   "metadata": {},
   "outputs": [],
   "source": [
    "chart1 = alt.Chart(mag_mean_split_2).mark_line().encode(\n",
    "  x='date:T',\n",
    "  y='Bx:Q',\n",
    ").interactive(bind_y=False)\n",
    "\n",
    "chart2 = alt.Chart(mag_mean_split_2).mark_line().encode(\n",
    "  x='date:T',\n",
    "  y='By:Q',\n",
    ").interactive(bind_y=False)\n",
    "\n",
    "chart3 = alt.Chart(mag_mean_split_2).mark_line().encode(\n",
    "  x='date:T',\n",
    "  y='Bz:Q',\n",
    ").interactive(bind_y=False)\n",
    "\n",
    "chart4 = alt.Chart(mag_mean_split_2).mark_line().encode(\n",
    "  x='date:T',\n",
    "  y='Bt:Q',\n",
    ").interactive(bind_y=False)\n",
    "\n",
    "chart5 = alt.Chart(mag_mean_split_2).mark_line().encode(\n",
    "  x='date:T',\n",
    "  y='Lat\\.:Q',\n",
    ").interactive(bind_y=False)\n",
    "\n",
    "chart6 = alt.Chart(mag_mean_split_2).mark_line().encode(\n",
    "  x='date:T',\n",
    "  y='Long\\.:Q',\n",
    ").interactive(bind_y=False)\n",
    "\n",
    "chart = alt.vconcat(chart1 | chart2 | chart3, chart4 | chart5 | chart6).properties(\n",
    "    title='Magnetometer mean data visualization - split 2/2, 2015-2022 [charts are interactive: scroll to zoom, drag to slide]' \n",
    ").configure_title(\n",
    "    fontSize=30\n",
    ")\n",
    "chart.save('charts/mag_mean_chart_split_2.html')"
   ]
  },
  {
   "cell_type": "markdown",
   "metadata": {},
   "source": [
    "#### To view the chart, click here : [<span style=\"color:blue\">MAG Chart Split 2</span>](charts/mag_mean_chart_split_2.html)\n",
    "> NOTE: If charts do not display on GitHub, download charts/ folder and open html pages in browser."
   ]
  },
  {
   "cell_type": "markdown",
   "metadata": {},
   "source": [
    "### Solar Isotope Spectrometer data visualization\n",
    "---"
   ]
  },
  {
   "cell_type": "code",
   "execution_count": 27,
   "metadata": {},
   "outputs": [],
   "source": [
    "sis_mean = sis.groupby(['date']).mean().reset_index()"
   ]
  },
  {
   "cell_type": "code",
   "execution_count": 28,
   "metadata": {},
   "outputs": [],
   "source": [
    "sis_mean_split_1 = sis_mean[sis_mean['date'].isin(period_1)]\n",
    "sis_mean_split_2 = sis_mean[sis_mean['date'].isin(period_2)]"
   ]
  },
  {
   "cell_type": "markdown",
   "metadata": {},
   "source": [
    "#### Split 1 - 2001-2014"
   ]
  },
  {
   "cell_type": "code",
   "execution_count": 29,
   "metadata": {},
   "outputs": [],
   "source": [
    "chart1 = alt.Chart(sis_mean_split_1).mark_line().encode(\n",
    "  x='date:T',\n",
    "  y='> 10 MeV:Q',\n",
    ").interactive(bind_y=False)\n",
    "\n",
    "chart2 = alt.Chart(sis_mean_split_1).mark_line().encode(\n",
    "  x='date:T',\n",
    "  y='> 30 MeV:Q',\n",
    ").interactive(bind_y=False)\n",
    "\n",
    "chart = (chart1 | chart2).properties(\n",
    "    title='Solar Isotope Spectrometer mean data visualization - split 1/2, 2001-2014 [charts are interactive: scroll to zoom, drag to slide]' \n",
    ").configure_title(\n",
    "    fontSize=30\n",
    ")\n",
    "chart.save('charts/sis_mean_chart_split_1.html')"
   ]
  },
  {
   "cell_type": "markdown",
   "metadata": {},
   "source": [
    "#### To view the chart, click here : [<span style=\"color:blue\">SIS Chart Split 1</span>](charts/sis_mean_chart_split_1.html)\n",
    "> NOTE: If charts do not display on GitHub, download charts/ folder and open html pages in browser."
   ]
  },
  {
   "cell_type": "markdown",
   "metadata": {},
   "source": [
    "#### Split 2 - 2015-2022"
   ]
  },
  {
   "cell_type": "code",
   "execution_count": 30,
   "metadata": {},
   "outputs": [],
   "source": [
    "chart1 = alt.Chart(sis_mean_split_2).mark_line().encode(\n",
    "  x='date:T',\n",
    "  y='> 10 MeV:Q',\n",
    ").interactive(bind_y=False)\n",
    "\n",
    "chart2 = alt.Chart(sis_mean_split_2).mark_line().encode(\n",
    "  x='date:T',\n",
    "  y='> 30 MeV:Q',\n",
    ").interactive(bind_y=False)\n",
    "\n",
    "chart = (chart1 | chart2).properties(\n",
    "    title='Solar Isotope Spectrometer mean data visualization - split 2/2, 2015-2022 [charts are interactive: scroll to zoom, drag to slide]' \n",
    ").configure_title(\n",
    "    fontSize=30\n",
    ")\n",
    "chart.save('charts/sis_mean_chart_split_2.html')"
   ]
  },
  {
   "cell_type": "markdown",
   "metadata": {},
   "source": [
    "#### To view the chart, click here : [<span style=\"color:blue\">SIS Chart Split 2</span>](charts/sis_mean_chart_split_2.html)\n",
    "> NOTE: If charts do not display on GitHub, download charts/ folder and open html pages in browser."
   ]
  },
  {
   "cell_type": "markdown",
   "metadata": {},
   "source": [
    "## Datasets statistics "
   ]
  },
  {
   "cell_type": "markdown",
   "metadata": {},
   "source": [
    "### Electron Proton and Alpha Monitor\n",
    "---"
   ]
  },
  {
   "cell_type": "code",
   "execution_count": 31,
   "metadata": {},
   "outputs": [
    {
     "data": {
      "text/html": [
       "<div>\n",
       "<style scoped>\n",
       "    .dataframe tbody tr th:only-of-type {\n",
       "        vertical-align: middle;\n",
       "    }\n",
       "\n",
       "    .dataframe tbody tr th {\n",
       "        vertical-align: top;\n",
       "    }\n",
       "\n",
       "    .dataframe thead th {\n",
       "        text-align: right;\n",
       "    }\n",
       "</style>\n",
       "<table border=\"1\" class=\"dataframe\">\n",
       "  <thead>\n",
       "    <tr style=\"text-align: right;\">\n",
       "      <th></th>\n",
       "      <th>38-53</th>\n",
       "      <th>175-315</th>\n",
       "      <th>47-65</th>\n",
       "      <th>112-187</th>\n",
       "      <th>310-580</th>\n",
       "      <th>761-1220</th>\n",
       "      <th>060-1910</th>\n",
       "      <th>anis_ratio</th>\n",
       "    </tr>\n",
       "  </thead>\n",
       "  <tbody>\n",
       "    <tr>\n",
       "      <th>count</th>\n",
       "      <td>1.962946e+06</td>\n",
       "      <td>1.962946e+06</td>\n",
       "      <td>1.962946e+06</td>\n",
       "      <td>1.962946e+06</td>\n",
       "      <td>1.962946e+06</td>\n",
       "      <td>1.962946e+06</td>\n",
       "      <td>1.962946e+06</td>\n",
       "      <td>1.962946e+06</td>\n",
       "    </tr>\n",
       "    <tr>\n",
       "      <th>mean</th>\n",
       "      <td>1.520371e+04</td>\n",
       "      <td>6.261688e+02</td>\n",
       "      <td>1.361767e+04</td>\n",
       "      <td>2.815987e+03</td>\n",
       "      <td>3.192554e+02</td>\n",
       "      <td>1.138035e+02</td>\n",
       "      <td>4.525672e+01</td>\n",
       "      <td>-2.984247e-01</td>\n",
       "    </tr>\n",
       "    <tr>\n",
       "      <th>std</th>\n",
       "      <td>2.140501e+05</td>\n",
       "      <td>1.530765e+04</td>\n",
       "      <td>1.748178e+05</td>\n",
       "      <td>4.626019e+04</td>\n",
       "      <td>8.497807e+03</td>\n",
       "      <td>2.364054e+03</td>\n",
       "      <td>9.400059e+02</td>\n",
       "      <td>7.290152e-01</td>\n",
       "    </tr>\n",
       "    <tr>\n",
       "      <th>min</th>\n",
       "      <td>0.000000e+00</td>\n",
       "      <td>0.000000e+00</td>\n",
       "      <td>0.000000e+00</td>\n",
       "      <td>0.000000e+00</td>\n",
       "      <td>0.000000e+00</td>\n",
       "      <td>0.000000e+00</td>\n",
       "      <td>0.000000e+00</td>\n",
       "      <td>-1.000000e+00</td>\n",
       "    </tr>\n",
       "    <tr>\n",
       "      <th>25%</th>\n",
       "      <td>5.100000e+02</td>\n",
       "      <td>2.080000e+01</td>\n",
       "      <td>1.040000e+03</td>\n",
       "      <td>1.880000e+01</td>\n",
       "      <td>2.310000e+00</td>\n",
       "      <td>5.720000e-01</td>\n",
       "      <td>1.470000e-01</td>\n",
       "      <td>-1.000000e+00</td>\n",
       "    </tr>\n",
       "    <tr>\n",
       "      <th>50%</th>\n",
       "      <td>7.660000e+02</td>\n",
       "      <td>2.660000e+01</td>\n",
       "      <td>1.640000e+03</td>\n",
       "      <td>2.340000e+01</td>\n",
       "      <td>2.970000e+00</td>\n",
       "      <td>7.810000e-01</td>\n",
       "      <td>2.170000e-01</td>\n",
       "      <td>2.000000e-02</td>\n",
       "    </tr>\n",
       "    <tr>\n",
       "      <th>75%</th>\n",
       "      <td>1.330000e+03</td>\n",
       "      <td>3.210000e+01</td>\n",
       "      <td>2.870000e+03</td>\n",
       "      <td>7.910000e+01</td>\n",
       "      <td>9.920000e+00</td>\n",
       "      <td>2.680000e+00</td>\n",
       "      <td>8.020000e-01</td>\n",
       "      <td>3.200000e-01</td>\n",
       "    </tr>\n",
       "    <tr>\n",
       "      <th>max</th>\n",
       "      <td>5.790000e+07</td>\n",
       "      <td>4.460000e+06</td>\n",
       "      <td>2.070000e+07</td>\n",
       "      <td>8.730000e+06</td>\n",
       "      <td>6.050000e+06</td>\n",
       "      <td>1.600000e+06</td>\n",
       "      <td>5.140000e+05</td>\n",
       "      <td>2.000000e+00</td>\n",
       "    </tr>\n",
       "  </tbody>\n",
       "</table>\n",
       "</div>"
      ],
      "text/plain": [
       "              38-53       175-315         47-65       112-187       310-580  \\\n",
       "count  1.962946e+06  1.962946e+06  1.962946e+06  1.962946e+06  1.962946e+06   \n",
       "mean   1.520371e+04  6.261688e+02  1.361767e+04  2.815987e+03  3.192554e+02   \n",
       "std    2.140501e+05  1.530765e+04  1.748178e+05  4.626019e+04  8.497807e+03   \n",
       "min    0.000000e+00  0.000000e+00  0.000000e+00  0.000000e+00  0.000000e+00   \n",
       "25%    5.100000e+02  2.080000e+01  1.040000e+03  1.880000e+01  2.310000e+00   \n",
       "50%    7.660000e+02  2.660000e+01  1.640000e+03  2.340000e+01  2.970000e+00   \n",
       "75%    1.330000e+03  3.210000e+01  2.870000e+03  7.910000e+01  9.920000e+00   \n",
       "max    5.790000e+07  4.460000e+06  2.070000e+07  8.730000e+06  6.050000e+06   \n",
       "\n",
       "           761-1220      060-1910    anis_ratio  \n",
       "count  1.962946e+06  1.962946e+06  1.962946e+06  \n",
       "mean   1.138035e+02  4.525672e+01 -2.984247e-01  \n",
       "std    2.364054e+03  9.400059e+02  7.290152e-01  \n",
       "min    0.000000e+00  0.000000e+00 -1.000000e+00  \n",
       "25%    5.720000e-01  1.470000e-01 -1.000000e+00  \n",
       "50%    7.810000e-01  2.170000e-01  2.000000e-02  \n",
       "75%    2.680000e+00  8.020000e-01  3.200000e-01  \n",
       "max    1.600000e+06  5.140000e+05  2.000000e+00  "
      ]
     },
     "execution_count": 31,
     "metadata": {},
     "output_type": "execute_result"
    }
   ],
   "source": [
    "epam.describe()"
   ]
  },
  {
   "cell_type": "code",
   "execution_count": 32,
   "metadata": {},
   "outputs": [
    {
     "data": {
      "text/html": [
       "<div>\n",
       "<style scoped>\n",
       "    .dataframe tbody tr th:only-of-type {\n",
       "        vertical-align: middle;\n",
       "    }\n",
       "\n",
       "    .dataframe tbody tr th {\n",
       "        vertical-align: top;\n",
       "    }\n",
       "\n",
       "    .dataframe thead th {\n",
       "        text-align: right;\n",
       "    }\n",
       "</style>\n",
       "<table border=\"1\" class=\"dataframe\">\n",
       "  <thead>\n",
       "    <tr style=\"text-align: right;\">\n",
       "      <th></th>\n",
       "      <th>38-53</th>\n",
       "      <th>175-315</th>\n",
       "      <th>47-65</th>\n",
       "      <th>112-187</th>\n",
       "      <th>310-580</th>\n",
       "      <th>761-1220</th>\n",
       "      <th>060-1910</th>\n",
       "      <th>anis_ratio</th>\n",
       "    </tr>\n",
       "  </thead>\n",
       "  <tbody>\n",
       "    <tr>\n",
       "      <th>38-53</th>\n",
       "      <td>1.000000</td>\n",
       "      <td>0.777515</td>\n",
       "      <td>0.171556</td>\n",
       "      <td>0.177825</td>\n",
       "      <td>0.179626</td>\n",
       "      <td>0.338329</td>\n",
       "      <td>0.412222</td>\n",
       "      <td>0.011687</td>\n",
       "    </tr>\n",
       "    <tr>\n",
       "      <th>175-315</th>\n",
       "      <td>0.777515</td>\n",
       "      <td>1.000000</td>\n",
       "      <td>0.130885</td>\n",
       "      <td>0.164507</td>\n",
       "      <td>0.161827</td>\n",
       "      <td>0.281207</td>\n",
       "      <td>0.360083</td>\n",
       "      <td>0.008577</td>\n",
       "    </tr>\n",
       "    <tr>\n",
       "      <th>47-65</th>\n",
       "      <td>0.171556</td>\n",
       "      <td>0.130885</td>\n",
       "      <td>1.000000</td>\n",
       "      <td>0.828339</td>\n",
       "      <td>0.198347</td>\n",
       "      <td>0.138359</td>\n",
       "      <td>0.176178</td>\n",
       "      <td>0.027232</td>\n",
       "    </tr>\n",
       "    <tr>\n",
       "      <th>112-187</th>\n",
       "      <td>0.177825</td>\n",
       "      <td>0.164507</td>\n",
       "      <td>0.828339</td>\n",
       "      <td>1.000000</td>\n",
       "      <td>0.450144</td>\n",
       "      <td>0.291040</td>\n",
       "      <td>0.291762</td>\n",
       "      <td>0.021568</td>\n",
       "    </tr>\n",
       "    <tr>\n",
       "      <th>310-580</th>\n",
       "      <td>0.179626</td>\n",
       "      <td>0.161827</td>\n",
       "      <td>0.198347</td>\n",
       "      <td>0.450144</td>\n",
       "      <td>1.000000</td>\n",
       "      <td>0.433151</td>\n",
       "      <td>0.474284</td>\n",
       "      <td>0.001558</td>\n",
       "    </tr>\n",
       "    <tr>\n",
       "      <th>761-1220</th>\n",
       "      <td>0.338329</td>\n",
       "      <td>0.281207</td>\n",
       "      <td>0.138359</td>\n",
       "      <td>0.291040</td>\n",
       "      <td>0.433151</td>\n",
       "      <td>1.000000</td>\n",
       "      <td>0.650580</td>\n",
       "      <td>0.001081</td>\n",
       "    </tr>\n",
       "    <tr>\n",
       "      <th>060-1910</th>\n",
       "      <td>0.412222</td>\n",
       "      <td>0.360083</td>\n",
       "      <td>0.176178</td>\n",
       "      <td>0.291762</td>\n",
       "      <td>0.474284</td>\n",
       "      <td>0.650580</td>\n",
       "      <td>1.000000</td>\n",
       "      <td>0.003481</td>\n",
       "    </tr>\n",
       "    <tr>\n",
       "      <th>anis_ratio</th>\n",
       "      <td>0.011687</td>\n",
       "      <td>0.008577</td>\n",
       "      <td>0.027232</td>\n",
       "      <td>0.021568</td>\n",
       "      <td>0.001558</td>\n",
       "      <td>0.001081</td>\n",
       "      <td>0.003481</td>\n",
       "      <td>1.000000</td>\n",
       "    </tr>\n",
       "  </tbody>\n",
       "</table>\n",
       "</div>"
      ],
      "text/plain": [
       "               38-53   175-315     47-65   112-187   310-580  761-1220  \\\n",
       "38-53       1.000000  0.777515  0.171556  0.177825  0.179626  0.338329   \n",
       "175-315     0.777515  1.000000  0.130885  0.164507  0.161827  0.281207   \n",
       "47-65       0.171556  0.130885  1.000000  0.828339  0.198347  0.138359   \n",
       "112-187     0.177825  0.164507  0.828339  1.000000  0.450144  0.291040   \n",
       "310-580     0.179626  0.161827  0.198347  0.450144  1.000000  0.433151   \n",
       "761-1220    0.338329  0.281207  0.138359  0.291040  0.433151  1.000000   \n",
       "060-1910    0.412222  0.360083  0.176178  0.291762  0.474284  0.650580   \n",
       "anis_ratio  0.011687  0.008577  0.027232  0.021568  0.001558  0.001081   \n",
       "\n",
       "            060-1910  anis_ratio  \n",
       "38-53       0.412222    0.011687  \n",
       "175-315     0.360083    0.008577  \n",
       "47-65       0.176178    0.027232  \n",
       "112-187     0.291762    0.021568  \n",
       "310-580     0.474284    0.001558  \n",
       "761-1220    0.650580    0.001081  \n",
       "060-1910    1.000000    0.003481  \n",
       "anis_ratio  0.003481    1.000000  "
      ]
     },
     "execution_count": 32,
     "metadata": {},
     "output_type": "execute_result"
    }
   ],
   "source": [
    "epam.corr()"
   ]
  },
  {
   "cell_type": "markdown",
   "metadata": {},
   "source": [
    "### Solar Wind Electron Proton Alpha Monitor\n",
    "---\n"
   ]
  },
  {
   "cell_type": "code",
   "execution_count": 33,
   "metadata": {},
   "outputs": [
    {
     "data": {
      "text/html": [
       "<div>\n",
       "<style scoped>\n",
       "    .dataframe tbody tr th:only-of-type {\n",
       "        vertical-align: middle;\n",
       "    }\n",
       "\n",
       "    .dataframe tbody tr th {\n",
       "        vertical-align: top;\n",
       "    }\n",
       "\n",
       "    .dataframe thead th {\n",
       "        text-align: right;\n",
       "    }\n",
       "</style>\n",
       "<table border=\"1\" class=\"dataframe\">\n",
       "  <thead>\n",
       "    <tr style=\"text-align: right;\">\n",
       "      <th></th>\n",
       "      <th>proton_density</th>\n",
       "      <th>bulk_speed</th>\n",
       "      <th>ion_temperature</th>\n",
       "    </tr>\n",
       "  </thead>\n",
       "  <tbody>\n",
       "    <tr>\n",
       "      <th>count</th>\n",
       "      <td>8.506059e+06</td>\n",
       "      <td>8.506059e+06</td>\n",
       "      <td>8.506059e+06</td>\n",
       "    </tr>\n",
       "    <tr>\n",
       "      <th>mean</th>\n",
       "      <td>3.643107e+00</td>\n",
       "      <td>4.276234e+02</td>\n",
       "      <td>9.294717e+04</td>\n",
       "    </tr>\n",
       "    <tr>\n",
       "      <th>std</th>\n",
       "      <td>3.909584e+00</td>\n",
       "      <td>1.008328e+02</td>\n",
       "      <td>8.480196e+04</td>\n",
       "    </tr>\n",
       "    <tr>\n",
       "      <th>min</th>\n",
       "      <td>0.000000e+00</td>\n",
       "      <td>2.284000e+02</td>\n",
       "      <td>1.000000e+04</td>\n",
       "    </tr>\n",
       "    <tr>\n",
       "      <th>25%</th>\n",
       "      <td>1.500000e+00</td>\n",
       "      <td>3.548000e+02</td>\n",
       "      <td>3.770000e+04</td>\n",
       "    </tr>\n",
       "    <tr>\n",
       "      <th>50%</th>\n",
       "      <td>2.700000e+00</td>\n",
       "      <td>4.042000e+02</td>\n",
       "      <td>6.670000e+04</td>\n",
       "    </tr>\n",
       "    <tr>\n",
       "      <th>75%</th>\n",
       "      <td>4.600000e+00</td>\n",
       "      <td>4.768000e+02</td>\n",
       "      <td>1.200000e+05</td>\n",
       "    </tr>\n",
       "    <tr>\n",
       "      <th>max</th>\n",
       "      <td>1.998000e+02</td>\n",
       "      <td>1.341300e+03</td>\n",
       "      <td>5.020000e+06</td>\n",
       "    </tr>\n",
       "  </tbody>\n",
       "</table>\n",
       "</div>"
      ],
      "text/plain": [
       "       proton_density    bulk_speed  ion_temperature\n",
       "count    8.506059e+06  8.506059e+06     8.506059e+06\n",
       "mean     3.643107e+00  4.276234e+02     9.294717e+04\n",
       "std      3.909584e+00  1.008328e+02     8.480196e+04\n",
       "min      0.000000e+00  2.284000e+02     1.000000e+04\n",
       "25%      1.500000e+00  3.548000e+02     3.770000e+04\n",
       "50%      2.700000e+00  4.042000e+02     6.670000e+04\n",
       "75%      4.600000e+00  4.768000e+02     1.200000e+05\n",
       "max      1.998000e+02  1.341300e+03     5.020000e+06"
      ]
     },
     "execution_count": 33,
     "metadata": {},
     "output_type": "execute_result"
    }
   ],
   "source": [
    "swepam.describe()"
   ]
  },
  {
   "cell_type": "code",
   "execution_count": 34,
   "metadata": {},
   "outputs": [
    {
     "data": {
      "text/html": [
       "<div>\n",
       "<style scoped>\n",
       "    .dataframe tbody tr th:only-of-type {\n",
       "        vertical-align: middle;\n",
       "    }\n",
       "\n",
       "    .dataframe tbody tr th {\n",
       "        vertical-align: top;\n",
       "    }\n",
       "\n",
       "    .dataframe thead th {\n",
       "        text-align: right;\n",
       "    }\n",
       "</style>\n",
       "<table border=\"1\" class=\"dataframe\">\n",
       "  <thead>\n",
       "    <tr style=\"text-align: right;\">\n",
       "      <th></th>\n",
       "      <th>proton_density</th>\n",
       "      <th>bulk_speed</th>\n",
       "      <th>ion_temperature</th>\n",
       "    </tr>\n",
       "  </thead>\n",
       "  <tbody>\n",
       "    <tr>\n",
       "      <th>proton_density</th>\n",
       "      <td>1.000000</td>\n",
       "      <td>-0.161685</td>\n",
       "      <td>-0.080872</td>\n",
       "    </tr>\n",
       "    <tr>\n",
       "      <th>bulk_speed</th>\n",
       "      <td>-0.161685</td>\n",
       "      <td>1.000000</td>\n",
       "      <td>0.726086</td>\n",
       "    </tr>\n",
       "    <tr>\n",
       "      <th>ion_temperature</th>\n",
       "      <td>-0.080872</td>\n",
       "      <td>0.726086</td>\n",
       "      <td>1.000000</td>\n",
       "    </tr>\n",
       "  </tbody>\n",
       "</table>\n",
       "</div>"
      ],
      "text/plain": [
       "                 proton_density  bulk_speed  ion_temperature\n",
       "proton_density         1.000000   -0.161685        -0.080872\n",
       "bulk_speed            -0.161685    1.000000         0.726086\n",
       "ion_temperature       -0.080872    0.726086         1.000000"
      ]
     },
     "execution_count": 34,
     "metadata": {},
     "output_type": "execute_result"
    }
   ],
   "source": [
    "swepam.corr()"
   ]
  },
  {
   "cell_type": "markdown",
   "metadata": {},
   "source": [
    "### Magnetometer\n",
    "---\n"
   ]
  },
  {
   "cell_type": "code",
   "execution_count": 35,
   "metadata": {},
   "outputs": [
    {
     "data": {
      "text/html": [
       "<div>\n",
       "<style scoped>\n",
       "    .dataframe tbody tr th:only-of-type {\n",
       "        vertical-align: middle;\n",
       "    }\n",
       "\n",
       "    .dataframe tbody tr th {\n",
       "        vertical-align: top;\n",
       "    }\n",
       "\n",
       "    .dataframe thead th {\n",
       "        text-align: right;\n",
       "    }\n",
       "</style>\n",
       "<table border=\"1\" class=\"dataframe\">\n",
       "  <thead>\n",
       "    <tr style=\"text-align: right;\">\n",
       "      <th></th>\n",
       "      <th>Bx</th>\n",
       "      <th>By</th>\n",
       "      <th>Bz</th>\n",
       "      <th>Bt</th>\n",
       "      <th>Lat.</th>\n",
       "      <th>Long.</th>\n",
       "    </tr>\n",
       "  </thead>\n",
       "  <tbody>\n",
       "    <tr>\n",
       "      <th>count</th>\n",
       "      <td>9.993374e+06</td>\n",
       "      <td>9.993374e+06</td>\n",
       "      <td>9.993374e+06</td>\n",
       "      <td>9.993374e+06</td>\n",
       "      <td>9.993374e+06</td>\n",
       "      <td>9.993374e+06</td>\n",
       "    </tr>\n",
       "    <tr>\n",
       "      <th>mean</th>\n",
       "      <td>-4.935891e-01</td>\n",
       "      <td>-7.317415e-02</td>\n",
       "      <td>1.667067e-02</td>\n",
       "      <td>5.490971e+00</td>\n",
       "      <td>3.053756e-01</td>\n",
       "      <td>1.979020e+02</td>\n",
       "    </tr>\n",
       "    <tr>\n",
       "      <th>std</th>\n",
       "      <td>3.623578e+00</td>\n",
       "      <td>3.831787e+00</td>\n",
       "      <td>3.377525e+00</td>\n",
       "      <td>3.052438e+00</td>\n",
       "      <td>3.353761e+01</td>\n",
       "      <td>9.809418e+01</td>\n",
       "    </tr>\n",
       "    <tr>\n",
       "      <th>min</th>\n",
       "      <td>-4.540000e+01</td>\n",
       "      <td>-7.430000e+01</td>\n",
       "      <td>-6.900000e+01</td>\n",
       "      <td>0.000000e+00</td>\n",
       "      <td>-8.990000e+01</td>\n",
       "      <td>0.000000e+00</td>\n",
       "    </tr>\n",
       "    <tr>\n",
       "      <th>25%</th>\n",
       "      <td>-3.100000e+00</td>\n",
       "      <td>-2.500000e+00</td>\n",
       "      <td>-1.800000e+00</td>\n",
       "      <td>3.600000e+00</td>\n",
       "      <td>-2.300000e+01</td>\n",
       "      <td>1.260000e+02</td>\n",
       "    </tr>\n",
       "    <tr>\n",
       "      <th>50%</th>\n",
       "      <td>-4.000000e-01</td>\n",
       "      <td>-1.000000e-01</td>\n",
       "      <td>0.000000e+00</td>\n",
       "      <td>4.800000e+00</td>\n",
       "      <td>2.000000e-01</td>\n",
       "      <td>1.843000e+02</td>\n",
       "    </tr>\n",
       "    <tr>\n",
       "      <th>75%</th>\n",
       "      <td>2.100000e+00</td>\n",
       "      <td>2.300000e+00</td>\n",
       "      <td>1.800000e+00</td>\n",
       "      <td>6.600000e+00</td>\n",
       "      <td>2.360000e+01</td>\n",
       "      <td>2.911000e+02</td>\n",
       "    </tr>\n",
       "    <tr>\n",
       "      <th>max</th>\n",
       "      <td>1.232000e+02</td>\n",
       "      <td>5.840000e+01</td>\n",
       "      <td>6.290000e+01</td>\n",
       "      <td>1.394000e+02</td>\n",
       "      <td>9.000000e+01</td>\n",
       "      <td>3.600000e+02</td>\n",
       "    </tr>\n",
       "  </tbody>\n",
       "</table>\n",
       "</div>"
      ],
      "text/plain": [
       "                 Bx            By            Bz            Bt          Lat.  \\\n",
       "count  9.993374e+06  9.993374e+06  9.993374e+06  9.993374e+06  9.993374e+06   \n",
       "mean  -4.935891e-01 -7.317415e-02  1.667067e-02  5.490971e+00  3.053756e-01   \n",
       "std    3.623578e+00  3.831787e+00  3.377525e+00  3.052438e+00  3.353761e+01   \n",
       "min   -4.540000e+01 -7.430000e+01 -6.900000e+01  0.000000e+00 -8.990000e+01   \n",
       "25%   -3.100000e+00 -2.500000e+00 -1.800000e+00  3.600000e+00 -2.300000e+01   \n",
       "50%   -4.000000e-01 -1.000000e-01  0.000000e+00  4.800000e+00  2.000000e-01   \n",
       "75%    2.100000e+00  2.300000e+00  1.800000e+00  6.600000e+00  2.360000e+01   \n",
       "max    1.232000e+02  5.840000e+01  6.290000e+01  1.394000e+02  9.000000e+01   \n",
       "\n",
       "              Long.  \n",
       "count  9.993374e+06  \n",
       "mean   1.979020e+02  \n",
       "std    9.809418e+01  \n",
       "min    0.000000e+00  \n",
       "25%    1.260000e+02  \n",
       "50%    1.843000e+02  \n",
       "75%    2.911000e+02  \n",
       "max    3.600000e+02  "
      ]
     },
     "execution_count": 35,
     "metadata": {},
     "output_type": "execute_result"
    }
   ],
   "source": [
    "mag.describe()"
   ]
  },
  {
   "cell_type": "code",
   "execution_count": 36,
   "metadata": {},
   "outputs": [
    {
     "data": {
      "text/html": [
       "<div>\n",
       "<style scoped>\n",
       "    .dataframe tbody tr th:only-of-type {\n",
       "        vertical-align: middle;\n",
       "    }\n",
       "\n",
       "    .dataframe tbody tr th {\n",
       "        vertical-align: top;\n",
       "    }\n",
       "\n",
       "    .dataframe thead th {\n",
       "        text-align: right;\n",
       "    }\n",
       "</style>\n",
       "<table border=\"1\" class=\"dataframe\">\n",
       "  <thead>\n",
       "    <tr style=\"text-align: right;\">\n",
       "      <th></th>\n",
       "      <th>Bx</th>\n",
       "      <th>By</th>\n",
       "      <th>Bz</th>\n",
       "      <th>Bt</th>\n",
       "      <th>Lat.</th>\n",
       "      <th>Long.</th>\n",
       "    </tr>\n",
       "  </thead>\n",
       "  <tbody>\n",
       "    <tr>\n",
       "      <th>Bx</th>\n",
       "      <td>1.000000</td>\n",
       "      <td>-0.349686</td>\n",
       "      <td>0.079635</td>\n",
       "      <td>-0.126648</td>\n",
       "      <td>0.061051</td>\n",
       "      <td>0.303934</td>\n",
       "    </tr>\n",
       "    <tr>\n",
       "      <th>By</th>\n",
       "      <td>-0.349686</td>\n",
       "      <td>1.000000</td>\n",
       "      <td>-0.047069</td>\n",
       "      <td>0.044394</td>\n",
       "      <td>-0.037519</td>\n",
       "      <td>-0.661557</td>\n",
       "    </tr>\n",
       "    <tr>\n",
       "      <th>Bz</th>\n",
       "      <td>0.079635</td>\n",
       "      <td>-0.047069</td>\n",
       "      <td>1.000000</td>\n",
       "      <td>-0.011072</td>\n",
       "      <td>0.861676</td>\n",
       "      <td>0.038422</td>\n",
       "    </tr>\n",
       "    <tr>\n",
       "      <th>Bt</th>\n",
       "      <td>-0.126648</td>\n",
       "      <td>0.044394</td>\n",
       "      <td>-0.011072</td>\n",
       "      <td>1.000000</td>\n",
       "      <td>-0.004407</td>\n",
       "      <td>-0.024714</td>\n",
       "    </tr>\n",
       "    <tr>\n",
       "      <th>Lat.</th>\n",
       "      <td>0.061051</td>\n",
       "      <td>-0.037519</td>\n",
       "      <td>0.861676</td>\n",
       "      <td>-0.004407</td>\n",
       "      <td>1.000000</td>\n",
       "      <td>0.037495</td>\n",
       "    </tr>\n",
       "    <tr>\n",
       "      <th>Long.</th>\n",
       "      <td>0.303934</td>\n",
       "      <td>-0.661557</td>\n",
       "      <td>0.038422</td>\n",
       "      <td>-0.024714</td>\n",
       "      <td>0.037495</td>\n",
       "      <td>1.000000</td>\n",
       "    </tr>\n",
       "  </tbody>\n",
       "</table>\n",
       "</div>"
      ],
      "text/plain": [
       "             Bx        By        Bz        Bt      Lat.     Long.\n",
       "Bx     1.000000 -0.349686  0.079635 -0.126648  0.061051  0.303934\n",
       "By    -0.349686  1.000000 -0.047069  0.044394 -0.037519 -0.661557\n",
       "Bz     0.079635 -0.047069  1.000000 -0.011072  0.861676  0.038422\n",
       "Bt    -0.126648  0.044394 -0.011072  1.000000 -0.004407 -0.024714\n",
       "Lat.   0.061051 -0.037519  0.861676 -0.004407  1.000000  0.037495\n",
       "Long.  0.303934 -0.661557  0.038422 -0.024714  0.037495  1.000000"
      ]
     },
     "execution_count": 36,
     "metadata": {},
     "output_type": "execute_result"
    }
   ],
   "source": [
    "mag.corr()"
   ]
  },
  {
   "cell_type": "markdown",
   "metadata": {},
   "source": [
    "### Solar Isotope Spectrometer\n",
    "---\n"
   ]
  },
  {
   "cell_type": "code",
   "execution_count": 37,
   "metadata": {},
   "outputs": [
    {
     "data": {
      "text/html": [
       "<div>\n",
       "<style scoped>\n",
       "    .dataframe tbody tr th:only-of-type {\n",
       "        vertical-align: middle;\n",
       "    }\n",
       "\n",
       "    .dataframe tbody tr th {\n",
       "        vertical-align: top;\n",
       "    }\n",
       "\n",
       "    .dataframe thead th {\n",
       "        text-align: right;\n",
       "    }\n",
       "</style>\n",
       "<table border=\"1\" class=\"dataframe\">\n",
       "  <thead>\n",
       "    <tr style=\"text-align: right;\">\n",
       "      <th></th>\n",
       "      <th>&gt; 10 MeV</th>\n",
       "      <th>&gt; 30 MeV</th>\n",
       "    </tr>\n",
       "  </thead>\n",
       "  <tbody>\n",
       "    <tr>\n",
       "      <th>count</th>\n",
       "      <td>2.009789e+06</td>\n",
       "      <td>2.009789e+06</td>\n",
       "    </tr>\n",
       "    <tr>\n",
       "      <th>mean</th>\n",
       "      <td>2.578156e+01</td>\n",
       "      <td>1.002080e+01</td>\n",
       "    </tr>\n",
       "    <tr>\n",
       "      <th>std</th>\n",
       "      <td>4.129353e+02</td>\n",
       "      <td>2.017720e+02</td>\n",
       "    </tr>\n",
       "    <tr>\n",
       "      <th>min</th>\n",
       "      <td>1.890000e-01</td>\n",
       "      <td>1.100000e-01</td>\n",
       "    </tr>\n",
       "    <tr>\n",
       "      <th>25%</th>\n",
       "      <td>1.230000e+00</td>\n",
       "      <td>8.380000e-01</td>\n",
       "    </tr>\n",
       "    <tr>\n",
       "      <th>50%</th>\n",
       "      <td>1.800000e+00</td>\n",
       "      <td>1.200000e+00</td>\n",
       "    </tr>\n",
       "    <tr>\n",
       "      <th>75%</th>\n",
       "      <td>2.260000e+00</td>\n",
       "      <td>1.550000e+00</td>\n",
       "    </tr>\n",
       "    <tr>\n",
       "      <th>max</th>\n",
       "      <td>1.230000e+04</td>\n",
       "      <td>7.490000e+03</td>\n",
       "    </tr>\n",
       "  </tbody>\n",
       "</table>\n",
       "</div>"
      ],
      "text/plain": [
       "           > 10 MeV      > 30 MeV\n",
       "count  2.009789e+06  2.009789e+06\n",
       "mean   2.578156e+01  1.002080e+01\n",
       "std    4.129353e+02  2.017720e+02\n",
       "min    1.890000e-01  1.100000e-01\n",
       "25%    1.230000e+00  8.380000e-01\n",
       "50%    1.800000e+00  1.200000e+00\n",
       "75%    2.260000e+00  1.550000e+00\n",
       "max    1.230000e+04  7.490000e+03"
      ]
     },
     "execution_count": 37,
     "metadata": {},
     "output_type": "execute_result"
    }
   ],
   "source": [
    "sis.describe()"
   ]
  },
  {
   "cell_type": "code",
   "execution_count": 38,
   "metadata": {},
   "outputs": [
    {
     "data": {
      "text/html": [
       "<div>\n",
       "<style scoped>\n",
       "    .dataframe tbody tr th:only-of-type {\n",
       "        vertical-align: middle;\n",
       "    }\n",
       "\n",
       "    .dataframe tbody tr th {\n",
       "        vertical-align: top;\n",
       "    }\n",
       "\n",
       "    .dataframe thead th {\n",
       "        text-align: right;\n",
       "    }\n",
       "</style>\n",
       "<table border=\"1\" class=\"dataframe\">\n",
       "  <thead>\n",
       "    <tr style=\"text-align: right;\">\n",
       "      <th></th>\n",
       "      <th>&gt; 10 MeV</th>\n",
       "      <th>&gt; 30 MeV</th>\n",
       "    </tr>\n",
       "  </thead>\n",
       "  <tbody>\n",
       "    <tr>\n",
       "      <th>&gt; 10 MeV</th>\n",
       "      <td>1.000000</td>\n",
       "      <td>0.932845</td>\n",
       "    </tr>\n",
       "    <tr>\n",
       "      <th>&gt; 30 MeV</th>\n",
       "      <td>0.932845</td>\n",
       "      <td>1.000000</td>\n",
       "    </tr>\n",
       "  </tbody>\n",
       "</table>\n",
       "</div>"
      ],
      "text/plain": [
       "          > 10 MeV  > 30 MeV\n",
       "> 10 MeV  1.000000  0.932845\n",
       "> 30 MeV  0.932845  1.000000"
      ]
     },
     "execution_count": 38,
     "metadata": {},
     "output_type": "execute_result"
    }
   ],
   "source": [
    "sis.corr()"
   ]
  },
  {
   "cell_type": "markdown",
   "metadata": {
    "id": "92f72LYS2LSQ",
    "pycharm": {
     "name": "#%% md\n"
    }
   },
   "source": [
    "## Making listed timeseries for each day\n",
    "\n",
    "We are grouping values in a list by date. So, at the end, in each column for each date, we have a list of measured values for that day. This representation will later be used in Symbolic Fourier Transform (SFA) for aggregation of values in list.\n",
    "\n"
   ]
  },
  {
   "cell_type": "code",
   "execution_count": 39,
   "metadata": {
    "id": "Sv8DVqk12LSS",
    "pycharm": {
     "name": "#%%\n"
    }
   },
   "outputs": [],
   "source": [
    "epam_wanted_columns = ['38-53', '175-315', '47-65', '112-187', '310-580',\n",
    "                       '761-1220', '060-1910', 'anis_ratio', 'date']\n",
    "epam_agg_grouped = epam[epam_wanted_columns].groupby(['date'])\n",
    "epam_listed = epam_agg_grouped[epam_wanted_columns[:-1]].agg(lambda x : list(x.to_numpy()))\n",
    "epam_listed.set_index(pd.DatetimeIndex(epam_listed.index), inplace=True)\n",
    "epam_listed.to_csv(\"data/rtsw_listed/epam_listed.csv\")"
   ]
  },
  {
   "cell_type": "code",
   "execution_count": 40,
   "metadata": {
    "colab": {
     "base_uri": "https://localhost:8080/",
     "height": 368
    },
    "id": "LqIzloKq2LSS",
    "outputId": "1e394450-82ad-4675-9c7c-df6cb4477d36",
    "pycharm": {
     "name": "#%%\n"
    }
   },
   "outputs": [
    {
     "data": {
      "text/html": [
       "<div>\n",
       "<style scoped>\n",
       "    .dataframe tbody tr th:only-of-type {\n",
       "        vertical-align: middle;\n",
       "    }\n",
       "\n",
       "    .dataframe tbody tr th {\n",
       "        vertical-align: top;\n",
       "    }\n",
       "\n",
       "    .dataframe thead th {\n",
       "        text-align: right;\n",
       "    }\n",
       "</style>\n",
       "<table border=\"1\" class=\"dataframe\">\n",
       "  <thead>\n",
       "    <tr style=\"text-align: right;\">\n",
       "      <th></th>\n",
       "      <th>38-53</th>\n",
       "      <th>175-315</th>\n",
       "      <th>47-65</th>\n",
       "      <th>112-187</th>\n",
       "      <th>310-580</th>\n",
       "      <th>761-1220</th>\n",
       "      <th>060-1910</th>\n",
       "      <th>anis_ratio</th>\n",
       "    </tr>\n",
       "    <tr>\n",
       "      <th>date</th>\n",
       "      <th></th>\n",
       "      <th></th>\n",
       "      <th></th>\n",
       "      <th></th>\n",
       "      <th></th>\n",
       "      <th></th>\n",
       "      <th></th>\n",
       "      <th></th>\n",
       "    </tr>\n",
       "  </thead>\n",
       "  <tbody>\n",
       "    <tr>\n",
       "      <th>2001-08-07</th>\n",
       "      <td>[694.0, 704.0, 797.0, 758.0, 650.0, 712.0, 724...</td>\n",
       "      <td>[11.6, 14.7, 13.4, 16.0, 16.2, 13.1, 14.9, 18....</td>\n",
       "      <td>[1130.0, 1210.0, 1560.0, 1490.0, 1360.0, 1110....</td>\n",
       "      <td>[123.0, 120.0, 131.0, 139.0, 133.0, 117.0, 126...</td>\n",
       "      <td>[6.65, 7.18, 7.67, 8.0, 7.18, 6.49, 6.26, 9.33...</td>\n",
       "      <td>[0.633, 0.946, 0.889, 0.666, 0.903, 0.925, 0.6...</td>\n",
       "      <td>[0.193, 0.252, 0.321, 0.234, 0.19, 0.257, 0.27...</td>\n",
       "      <td>[0.9, 0.68, 1.38, 0.89, 0.43, 0.83, 0.94, 1.02...</td>\n",
       "    </tr>\n",
       "    <tr>\n",
       "      <th>2001-08-08</th>\n",
       "      <td>[727.0, 717.0, 822.0, 759.0, 815.0, 702.0, 706...</td>\n",
       "      <td>[17.8, 14.8, 14.5, 14.7, 16.6, 14.7, 17.1, 14....</td>\n",
       "      <td>[281.0, 276.0, 298.0, 294.0, 265.0, 275.0, 242...</td>\n",
       "      <td>[31.2, 36.4, 31.8, 34.6, 35.8, 31.6, 35.9, 29....</td>\n",
       "      <td>[2.49, 2.68, 2.08, 2.7, 2.28, 2.21, 2.25, 2.32...</td>\n",
       "      <td>[0.536, 0.398, 0.463, 0.592, 0.688, 0.399, 0.5...</td>\n",
       "      <td>[0.191, 0.0919, 0.123, 0.213, 0.141, 0.148, 0....</td>\n",
       "      <td>[0.92, 1.26, 0.29, 1.64, 0.35, 1.41, 1.41, 0.6...</td>\n",
       "    </tr>\n",
       "    <tr>\n",
       "      <th>2001-08-09</th>\n",
       "      <td>[725.0, 726.0, 651.0, 661.0, 752.0, 743.0, 709...</td>\n",
       "      <td>[14.0, 18.0, 16.7, 14.2, 14.5, 12.3, 14.0, 15....</td>\n",
       "      <td>[147.0, 124.0, 166.0, 151.0, 163.0, 173.0, 159...</td>\n",
       "      <td>[21.2, 18.6, 21.9, 23.1, 19.0, 21.2, 25.2, 20....</td>\n",
       "      <td>[2.45, 1.45, 1.66, 1.48, 1.5, 1.61, 1.99, 1.74...</td>\n",
       "      <td>[0.339, 0.455, 0.422, 0.543, 0.365, 0.34, 0.37...</td>\n",
       "      <td>[0.148, 0.246, 0.18, 0.142, 0.216, 0.162, 0.13...</td>\n",
       "      <td>[2.0, 0.98, 2.0, 0.8, -1.0, 2.0, 1.57, 1.85, 2...</td>\n",
       "    </tr>\n",
       "    <tr>\n",
       "      <th>2001-08-10</th>\n",
       "      <td>[14200.0, 13100.0, 13300.0, 13500.0, 13600.0, ...</td>\n",
       "      <td>[97.2, 93.1, 90.4, 93.2, 92.9, 92.6, 78.5, 80....</td>\n",
       "      <td>[381.0, 358.0, 381.0, 325.0, 307.0, 447.0, 422...</td>\n",
       "      <td>[411.0, 405.0, 421.0, 524.0, 501.0, 388.0, 139...</td>\n",
       "      <td>[942.0, 936.0, 934.0, 1070.0, 1090.0, 960.0, 4...</td>\n",
       "      <td>[677.0, 674.0, 660.0, 739.0, 743.0, 663.0, 376...</td>\n",
       "      <td>[342.0, 316.0, 316.0, 341.0, 350.0, 305.0, 175...</td>\n",
       "      <td>[0.72, 0.77, 0.76, 0.78, 0.73, 0.44, 0.21, 0.1...</td>\n",
       "    </tr>\n",
       "    <tr>\n",
       "      <th>2001-08-11</th>\n",
       "      <td>[4820.0, 4640.0, 4510.0, 4520.0, 4700.0, 4620....</td>\n",
       "      <td>[35.9, 31.4, 35.4, 33.5, 31.7, 31.9, 32.8, 31....</td>\n",
       "      <td>[11400.0, 11600.0, 11400.0, 11000.0, 11400.0, ...</td>\n",
       "      <td>[12000.0, 12400.0, 11900.0, 11400.0, 11900.0, ...</td>\n",
       "      <td>[5610.0, 5700.0, 5530.0, 5420.0, 5690.0, 6340....</td>\n",
       "      <td>[2220.0, 2230.0, 2200.0, 2230.0, 2250.0, 2380....</td>\n",
       "      <td>[898.0, 894.0, 889.0, 888.0, 907.0, 943.0, 965...</td>\n",
       "      <td>[0.17, 0.17, 0.17, 0.21, 0.22, 0.21, 0.2, 0.15...</td>\n",
       "    </tr>\n",
       "  </tbody>\n",
       "</table>\n",
       "</div>"
      ],
      "text/plain": [
       "                                                        38-53  \\\n",
       "date                                                            \n",
       "2001-08-07  [694.0, 704.0, 797.0, 758.0, 650.0, 712.0, 724...   \n",
       "2001-08-08  [727.0, 717.0, 822.0, 759.0, 815.0, 702.0, 706...   \n",
       "2001-08-09  [725.0, 726.0, 651.0, 661.0, 752.0, 743.0, 709...   \n",
       "2001-08-10  [14200.0, 13100.0, 13300.0, 13500.0, 13600.0, ...   \n",
       "2001-08-11  [4820.0, 4640.0, 4510.0, 4520.0, 4700.0, 4620....   \n",
       "\n",
       "                                                      175-315  \\\n",
       "date                                                            \n",
       "2001-08-07  [11.6, 14.7, 13.4, 16.0, 16.2, 13.1, 14.9, 18....   \n",
       "2001-08-08  [17.8, 14.8, 14.5, 14.7, 16.6, 14.7, 17.1, 14....   \n",
       "2001-08-09  [14.0, 18.0, 16.7, 14.2, 14.5, 12.3, 14.0, 15....   \n",
       "2001-08-10  [97.2, 93.1, 90.4, 93.2, 92.9, 92.6, 78.5, 80....   \n",
       "2001-08-11  [35.9, 31.4, 35.4, 33.5, 31.7, 31.9, 32.8, 31....   \n",
       "\n",
       "                                                        47-65  \\\n",
       "date                                                            \n",
       "2001-08-07  [1130.0, 1210.0, 1560.0, 1490.0, 1360.0, 1110....   \n",
       "2001-08-08  [281.0, 276.0, 298.0, 294.0, 265.0, 275.0, 242...   \n",
       "2001-08-09  [147.0, 124.0, 166.0, 151.0, 163.0, 173.0, 159...   \n",
       "2001-08-10  [381.0, 358.0, 381.0, 325.0, 307.0, 447.0, 422...   \n",
       "2001-08-11  [11400.0, 11600.0, 11400.0, 11000.0, 11400.0, ...   \n",
       "\n",
       "                                                      112-187  \\\n",
       "date                                                            \n",
       "2001-08-07  [123.0, 120.0, 131.0, 139.0, 133.0, 117.0, 126...   \n",
       "2001-08-08  [31.2, 36.4, 31.8, 34.6, 35.8, 31.6, 35.9, 29....   \n",
       "2001-08-09  [21.2, 18.6, 21.9, 23.1, 19.0, 21.2, 25.2, 20....   \n",
       "2001-08-10  [411.0, 405.0, 421.0, 524.0, 501.0, 388.0, 139...   \n",
       "2001-08-11  [12000.0, 12400.0, 11900.0, 11400.0, 11900.0, ...   \n",
       "\n",
       "                                                      310-580  \\\n",
       "date                                                            \n",
       "2001-08-07  [6.65, 7.18, 7.67, 8.0, 7.18, 6.49, 6.26, 9.33...   \n",
       "2001-08-08  [2.49, 2.68, 2.08, 2.7, 2.28, 2.21, 2.25, 2.32...   \n",
       "2001-08-09  [2.45, 1.45, 1.66, 1.48, 1.5, 1.61, 1.99, 1.74...   \n",
       "2001-08-10  [942.0, 936.0, 934.0, 1070.0, 1090.0, 960.0, 4...   \n",
       "2001-08-11  [5610.0, 5700.0, 5530.0, 5420.0, 5690.0, 6340....   \n",
       "\n",
       "                                                     761-1220  \\\n",
       "date                                                            \n",
       "2001-08-07  [0.633, 0.946, 0.889, 0.666, 0.903, 0.925, 0.6...   \n",
       "2001-08-08  [0.536, 0.398, 0.463, 0.592, 0.688, 0.399, 0.5...   \n",
       "2001-08-09  [0.339, 0.455, 0.422, 0.543, 0.365, 0.34, 0.37...   \n",
       "2001-08-10  [677.0, 674.0, 660.0, 739.0, 743.0, 663.0, 376...   \n",
       "2001-08-11  [2220.0, 2230.0, 2200.0, 2230.0, 2250.0, 2380....   \n",
       "\n",
       "                                                     060-1910  \\\n",
       "date                                                            \n",
       "2001-08-07  [0.193, 0.252, 0.321, 0.234, 0.19, 0.257, 0.27...   \n",
       "2001-08-08  [0.191, 0.0919, 0.123, 0.213, 0.141, 0.148, 0....   \n",
       "2001-08-09  [0.148, 0.246, 0.18, 0.142, 0.216, 0.162, 0.13...   \n",
       "2001-08-10  [342.0, 316.0, 316.0, 341.0, 350.0, 305.0, 175...   \n",
       "2001-08-11  [898.0, 894.0, 889.0, 888.0, 907.0, 943.0, 965...   \n",
       "\n",
       "                                                   anis_ratio  \n",
       "date                                                           \n",
       "2001-08-07  [0.9, 0.68, 1.38, 0.89, 0.43, 0.83, 0.94, 1.02...  \n",
       "2001-08-08  [0.92, 1.26, 0.29, 1.64, 0.35, 1.41, 1.41, 0.6...  \n",
       "2001-08-09  [2.0, 0.98, 2.0, 0.8, -1.0, 2.0, 1.57, 1.85, 2...  \n",
       "2001-08-10  [0.72, 0.77, 0.76, 0.78, 0.73, 0.44, 0.21, 0.1...  \n",
       "2001-08-11  [0.17, 0.17, 0.17, 0.21, 0.22, 0.21, 0.2, 0.15...  "
      ]
     },
     "execution_count": 40,
     "metadata": {},
     "output_type": "execute_result"
    }
   ],
   "source": [
    "epam_listed.head(5)"
   ]
  },
  {
   "cell_type": "code",
   "execution_count": 41,
   "metadata": {
    "id": "e27XHXjj2LST",
    "pycharm": {
     "name": "#%%\n"
    }
   },
   "outputs": [],
   "source": [
    "swepam_wanted_columns = ['proton_density', 'bulk_speed', 'ion_temperature', 'date']\n",
    "swepam_agg_grouped = swepam[swepam_wanted_columns].groupby(['date'])\n",
    "swepam_listed = swepam_agg_grouped[swepam_wanted_columns[:-1]].agg(lambda x : list(x.to_numpy()))\n",
    "swepam_listed.set_index(pd.DatetimeIndex(swepam_listed.index), inplace=True)\n",
    "swepam_listed.to_csv(\"data/rtsw_listed/swepam_listed.csv\")"
   ]
  },
  {
   "cell_type": "code",
   "execution_count": 42,
   "metadata": {
    "id": "768ZLzEf2LST",
    "pycharm": {
     "name": "#%%\n"
    }
   },
   "outputs": [],
   "source": [
    "mag_wanted_columns = ['Bx', 'By', 'Bz', 'Bt', 'Lat.', 'Long.', 'date']\n",
    "mag_agg_grouped = mag[mag_wanted_columns].groupby(['date'])\n",
    "mag_listed = mag_agg_grouped[mag_wanted_columns[:-1]].agg(lambda x : list(x.to_numpy()))\n",
    "mag_listed.set_index(pd.DatetimeIndex(mag_listed.index), inplace=True)\n",
    "mag_listed.to_csv(\"data/rtsw_listed/mag_listed.csv\")"
   ]
  },
  {
   "cell_type": "code",
   "execution_count": 43,
   "metadata": {
    "id": "4L6_GHWq2LST",
    "pycharm": {
     "name": "#%%\n"
    }
   },
   "outputs": [],
   "source": [
    "sis_wanted_columns = ['> 10 MeV', '> 30 MeV', 'date']\n",
    "sis_agg_grouped = sis[sis_wanted_columns].groupby(['date'])\n",
    "sis_listed = sis_agg_grouped[sis_wanted_columns[:-1]].agg(lambda x : list(x.to_numpy()))\n",
    "sis_listed.set_index(pd.DatetimeIndex(sis_listed.index), inplace=True)\n",
    "sis_listed.to_csv(\"data/rtsw_listed/sis_listed.csv\")"
   ]
  },
  {
   "cell_type": "markdown",
   "metadata": {
    "id": "udr-xAUD2LST",
    "pycharm": {
     "name": "#%% md\n"
    }
   },
   "source": [
    "# Missing values\n",
    "#### Calculating number of measurements per day for each column"
   ]
  },
  {
   "cell_type": "code",
   "execution_count": 44,
   "metadata": {
    "id": "EzrdLI-T2LSU",
    "pycharm": {
     "name": "#%%\n"
    }
   },
   "outputs": [],
   "source": [
    "epam_listed_columns = ['38-53', '175-315', '47-65', '112-187', '310-580',\n",
    "                        '761-1220', '060-1910', 'anis_ratio']\n",
    "epam_max_number_of_measurements_per_day = {}\n",
    "for column_name in epam_listed_columns:\n",
    "    max_list_length = 0\n",
    "    for index, row in epam_listed.iterrows():\n",
    "        list_length = len(row[column_name])\n",
    "        if max_list_length < list_length:\n",
    "            max_list_length = list_length\n",
    "    epam_max_number_of_measurements_per_day[column_name] = max_list_length"
   ]
  },
  {
   "cell_type": "code",
   "execution_count": 45,
   "metadata": {
    "colab": {
     "base_uri": "https://localhost:8080/"
    },
    "id": "8F-kwob72LSV",
    "outputId": "3f94feab-a532-4bbc-880c-02e2762a081d",
    "pycharm": {
     "name": "#%%\n"
    }
   },
   "outputs": [
    {
     "data": {
      "text/plain": [
       "{'38-53': 286,\n",
       " '175-315': 286,\n",
       " '47-65': 286,\n",
       " '112-187': 286,\n",
       " '310-580': 286,\n",
       " '761-1220': 286,\n",
       " '060-1910': 286,\n",
       " 'anis_ratio': 286}"
      ]
     },
     "execution_count": 45,
     "metadata": {},
     "output_type": "execute_result"
    }
   ],
   "source": [
    "epam_max_number_of_measurements_per_day"
   ]
  },
  {
   "cell_type": "code",
   "execution_count": 46,
   "metadata": {
    "id": "z2AzmG_O2LSV",
    "pycharm": {
     "name": "#%%\n"
    }
   },
   "outputs": [],
   "source": [
    "sis_listed_columns = ['> 10 MeV', '> 30 MeV']\n",
    "sis_max_number_of_measurements_per_day = {}\n",
    "for column_name in sis_listed_columns:\n",
    "    max_list_length = 0\n",
    "    for index, row in sis_listed.iterrows():\n",
    "        list_length = len(row[column_name])\n",
    "        if max_list_length < list_length:\n",
    "            max_list_length = list_length\n",
    "    sis_max_number_of_measurements_per_day[column_name] = max_list_length"
   ]
  },
  {
   "cell_type": "code",
   "execution_count": 47,
   "metadata": {
    "colab": {
     "base_uri": "https://localhost:8080/"
    },
    "id": "x8H6dQzn2LSV",
    "outputId": "71c6f341-dc3c-4a2d-b05d-c159ad5d02de",
    "pycharm": {
     "name": "#%%\n"
    }
   },
   "outputs": [
    {
     "data": {
      "text/plain": [
       "{'> 10 MeV': 284, '> 30 MeV': 284}"
      ]
     },
     "execution_count": 47,
     "metadata": {},
     "output_type": "execute_result"
    }
   ],
   "source": [
    "sis_max_number_of_measurements_per_day"
   ]
  },
  {
   "cell_type": "code",
   "execution_count": 48,
   "metadata": {
    "id": "GV9iMHg72LSW",
    "pycharm": {
     "name": "#%%\n"
    }
   },
   "outputs": [],
   "source": [
    "mag_listed_columns = ['Bx', 'By', 'Bz', 'Bt', 'Lat.', 'Long.']\n",
    "mag_max_number_of_measurements_per_day = {}\n",
    "for column_name in mag_listed_columns:\n",
    "    max_list_length = 0\n",
    "    for index, row in mag_listed.iterrows():\n",
    "        list_length = len(row[column_name])\n",
    "        if max_list_length < list_length:\n",
    "            max_list_length = list_length\n",
    "    mag_max_number_of_measurements_per_day[column_name] = max_list_length"
   ]
  },
  {
   "cell_type": "code",
   "execution_count": 49,
   "metadata": {
    "colab": {
     "base_uri": "https://localhost:8080/"
    },
    "id": "qy7hVHkM2LSW",
    "outputId": "533f19e4-b4c5-4342-eec8-57f1d1b32527",
    "pycharm": {
     "name": "#%%\n"
    }
   },
   "outputs": [
    {
     "data": {
      "text/plain": [
       "{'Bx': 1440, 'By': 1440, 'Bz': 1440, 'Bt': 1440, 'Lat.': 1440, 'Long.': 1440}"
      ]
     },
     "execution_count": 49,
     "metadata": {},
     "output_type": "execute_result"
    }
   ],
   "source": [
    "mag_max_number_of_measurements_per_day"
   ]
  },
  {
   "cell_type": "code",
   "execution_count": 50,
   "metadata": {
    "id": "89YxF8bH2LSW",
    "pycharm": {
     "name": "#%%\n"
    }
   },
   "outputs": [],
   "source": [
    "swepam_listed_columns = ['proton_density', 'bulk_speed', 'ion_temperature']\n",
    "swepam_max_number_of_measurements_per_day = {}\n",
    "for column_name in swepam_listed_columns:\n",
    "    max_list_length = 0\n",
    "    for index, row in swepam_listed.iterrows():\n",
    "        list_length = len(row[column_name])\n",
    "        if max_list_length < list_length:\n",
    "            max_list_length = list_length\n",
    "    swepam_max_number_of_measurements_per_day[column_name] = max_list_length"
   ]
  },
  {
   "cell_type": "code",
   "execution_count": 51,
   "metadata": {
    "colab": {
     "base_uri": "https://localhost:8080/"
    },
    "id": "pTWzvhrI2LSW",
    "outputId": "0ae4304a-e864-4059-d1c2-ae50bb2e5917",
    "pycharm": {
     "name": "#%%\n"
    }
   },
   "outputs": [
    {
     "data": {
      "text/plain": [
       "{'proton_density': 1423, 'bulk_speed': 1423, 'ion_temperature': 1423}"
      ]
     },
     "execution_count": 51,
     "metadata": {},
     "output_type": "execute_result"
    }
   ],
   "source": [
    "swepam_max_number_of_measurements_per_day"
   ]
  },
  {
   "cell_type": "markdown",
   "metadata": {
    "id": "JbnUnim32LSX",
    "pycharm": {
     "name": "#%% md\n"
    }
   },
   "source": [
    "### Missing values - Conclusion\n",
    "24 * 12 = 288    - number of 5 min intervals per day\n",
    "\n",
    "24 * 60 = 1440   - number of 1 min intervals per day\n",
    "\n",
    "EPAM and SIS values are measured once every 5 min per day. SWEPAM and MAG values are measured once every 1 min per day.\n",
    "\n",
    "The values above show the highest number of measurements in one day, but it does not mean that this number of measurements was performed every day. Those are missing values in our sets. But we won't fill them bacuse they do not affect Symbolic Fourier Transformation.\n"
   ]
  },
  {
   "cell_type": "code",
   "execution_count": null,
   "metadata": {
    "id": "LXpB-J39_xh5"
   },
   "outputs": [],
   "source": []
  }
 ],
 "metadata": {
  "colab": {
   "collapsed_sections": [],
   "provenance": []
  },
  "kernelspec": {
   "display_name": "Python 3 (ipykernel)",
   "language": "python",
   "name": "python3"
  },
  "language_info": {
   "codemirror_mode": {
    "name": "ipython",
    "version": 3
   },
   "file_extension": ".py",
   "mimetype": "text/x-python",
   "name": "python",
   "nbconvert_exporter": "python",
   "pygments_lexer": "ipython3",
   "version": "3.9.12"
  }
 },
 "nbformat": 4,
 "nbformat_minor": 1
}
