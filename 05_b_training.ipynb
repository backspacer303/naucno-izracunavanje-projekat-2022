{
 "cells": [
  {
   "cell_type": "code",
   "execution_count": 1,
   "id": "bf6f75d2",
   "metadata": {},
   "outputs": [],
   "source": [
    "import sklearn\n",
    "from sklearn import metrics\n",
    "import numpy as np\n",
    "import pandas as pd\n",
    "import datetime\n",
    "from pyts.approximation import SymbolicFourierApproximation\n",
    "from datetime import datetime\n",
    "from difflib import get_close_matches\n",
    "from pygtrie import StringTrie\n",
    "from os import listdir\n",
    "from os.path import isfile, join"
   ]
  },
  {
   "cell_type": "code",
   "execution_count": 91,
   "id": "c327a7eb",
   "metadata": {},
   "outputs": [],
   "source": [
    "def classify(row, n_neigh):\n",
    "    knn = get_close_matches(row[\"data\"], trie, n=n_neigh, cutoff=0)\n",
    "    true = 0\n",
    "    weights_for_true = 1/row['positive_number']\n",
    "    false = 0\n",
    "    weights_for_negative = 1/row['negative_number']\n",
    "    for n in knn:\n",
    "        if trie.get(n):\n",
    "            true += weights_for_true\n",
    "        else:\n",
    "            false += weights_for_negative\n",
    "    trie[row[\"data\"]] = row[\"class\"]\n",
    "    trieDate[row[\"data\"]] = row[\"date\"]\n",
    "    return true > false"
   ]
  },
  {
   "cell_type": "code",
   "execution_count": 92,
   "id": "cf272872",
   "metadata": {},
   "outputs": [],
   "source": [
    "time_period = pd.date_range(start='2001-08-07', end='2015-12-31')\n",
    "mypath = '../data/input_log'\n",
    "files = list(sorted([f for f in listdir(mypath) if isfile(join(mypath, f))]))"
   ]
  },
  {
   "cell_type": "code",
   "execution_count": 93,
   "id": "8f4e249d",
   "metadata": {},
   "outputs": [
    {
     "data": {
      "text/plain": [
       "['.DS_Store',\n",
       " 'sfa_2_2.csv',\n",
       " 'sfa_2_3.csv',\n",
       " 'sfa_2_4.csv',\n",
       " 'sfa_3_2.csv',\n",
       " 'sfa_3_4.csv',\n",
       " 'sfa_4_2.csv',\n",
       " 'sfa_4_4.csv',\n",
       " 'sfa_5_2.csv',\n",
       " 'sfa_5_4.csv']"
      ]
     },
     "execution_count": 93,
     "metadata": {},
     "output_type": "execute_result"
    }
   ],
   "source": [
    "files"
   ]
  },
  {
   "cell_type": "code",
   "execution_count": 94,
   "id": "1a54dd78",
   "metadata": {},
   "outputs": [
    {
     "name": "stdout",
     "output_type": "stream",
     "text": [
      "\n",
      "sfa_2_2.csv\n"
     ]
    },
    {
     "name": "stderr",
     "output_type": "stream",
     "text": [
      "/var/folders/mf/s1v5mc1n4rdfn5k048ff_5d00000gn/T/ipykernel_20770/2496303691.py:26: SettingWithCopyWarning: \n",
      "A value is trying to be set on a copy of a slice from a DataFrame.\n",
      "Try using .loc[row_indexer,col_indexer] = value instead\n",
      "\n",
      "See the caveats in the documentation: https://pandas.pydata.org/pandas-docs/stable/user_guide/indexing.html#returning-a-view-versus-a-copy\n",
      "  df_validate[\"predicted_class\"] = df_validate.apply(classify, axis=1 , args=[num_neig])\n"
     ]
    },
    {
     "name": "stdout",
     "output_type": "stream",
     "text": [
      "Num neigh  3\n",
      "              precision    recall  f1-score   support\n",
      "\n",
      "       False       0.87      0.50      0.64       878\n",
      "        True       0.17      0.57      0.26       156\n",
      "\n",
      "    accuracy                           0.51      1034\n",
      "   macro avg       0.52      0.54      0.45      1034\n",
      "weighted avg       0.76      0.51      0.58      1034\n",
      "\n"
     ]
    },
    {
     "name": "stderr",
     "output_type": "stream",
     "text": [
      "/var/folders/mf/s1v5mc1n4rdfn5k048ff_5d00000gn/T/ipykernel_20770/2496303691.py:26: SettingWithCopyWarning: \n",
      "A value is trying to be set on a copy of a slice from a DataFrame.\n",
      "Try using .loc[row_indexer,col_indexer] = value instead\n",
      "\n",
      "See the caveats in the documentation: https://pandas.pydata.org/pandas-docs/stable/user_guide/indexing.html#returning-a-view-versus-a-copy\n",
      "  df_validate[\"predicted_class\"] = df_validate.apply(classify, axis=1 , args=[num_neig])\n"
     ]
    },
    {
     "name": "stdout",
     "output_type": "stream",
     "text": [
      "Num neigh  4\n",
      "              precision    recall  f1-score   support\n",
      "\n",
      "       False       0.87      0.40      0.55       878\n",
      "        True       0.16      0.65      0.26       156\n",
      "\n",
      "    accuracy                           0.44      1034\n",
      "   macro avg       0.52      0.53      0.41      1034\n",
      "weighted avg       0.76      0.44      0.51      1034\n",
      "\n"
     ]
    },
    {
     "name": "stderr",
     "output_type": "stream",
     "text": [
      "/var/folders/mf/s1v5mc1n4rdfn5k048ff_5d00000gn/T/ipykernel_20770/2496303691.py:26: SettingWithCopyWarning: \n",
      "A value is trying to be set on a copy of a slice from a DataFrame.\n",
      "Try using .loc[row_indexer,col_indexer] = value instead\n",
      "\n",
      "See the caveats in the documentation: https://pandas.pydata.org/pandas-docs/stable/user_guide/indexing.html#returning-a-view-versus-a-copy\n",
      "  df_validate[\"predicted_class\"] = df_validate.apply(classify, axis=1 , args=[num_neig])\n"
     ]
    },
    {
     "name": "stdout",
     "output_type": "stream",
     "text": [
      "Num neigh  5\n",
      "              precision    recall  f1-score   support\n",
      "\n",
      "       False       0.87      0.69      0.77       878\n",
      "        True       0.19      0.40      0.26       156\n",
      "\n",
      "    accuracy                           0.64      1034\n",
      "   macro avg       0.53      0.55      0.51      1034\n",
      "weighted avg       0.76      0.64      0.69      1034\n",
      "\n",
      "\n",
      "sfa_2_3.csv\n"
     ]
    },
    {
     "name": "stderr",
     "output_type": "stream",
     "text": [
      "/var/folders/mf/s1v5mc1n4rdfn5k048ff_5d00000gn/T/ipykernel_20770/2496303691.py:26: SettingWithCopyWarning: \n",
      "A value is trying to be set on a copy of a slice from a DataFrame.\n",
      "Try using .loc[row_indexer,col_indexer] = value instead\n",
      "\n",
      "See the caveats in the documentation: https://pandas.pydata.org/pandas-docs/stable/user_guide/indexing.html#returning-a-view-versus-a-copy\n",
      "  df_validate[\"predicted_class\"] = df_validate.apply(classify, axis=1 , args=[num_neig])\n"
     ]
    },
    {
     "name": "stdout",
     "output_type": "stream",
     "text": [
      "Num neigh  3\n",
      "              precision    recall  f1-score   support\n",
      "\n",
      "       False       0.87      0.49      0.62       878\n",
      "        True       0.17      0.59      0.26       156\n",
      "\n",
      "    accuracy                           0.50      1034\n",
      "   macro avg       0.52      0.54      0.44      1034\n",
      "weighted avg       0.76      0.50      0.57      1034\n",
      "\n"
     ]
    },
    {
     "name": "stderr",
     "output_type": "stream",
     "text": [
      "/var/folders/mf/s1v5mc1n4rdfn5k048ff_5d00000gn/T/ipykernel_20770/2496303691.py:26: SettingWithCopyWarning: \n",
      "A value is trying to be set on a copy of a slice from a DataFrame.\n",
      "Try using .loc[row_indexer,col_indexer] = value instead\n",
      "\n",
      "See the caveats in the documentation: https://pandas.pydata.org/pandas-docs/stable/user_guide/indexing.html#returning-a-view-versus-a-copy\n",
      "  df_validate[\"predicted_class\"] = df_validate.apply(classify, axis=1 , args=[num_neig])\n"
     ]
    },
    {
     "name": "stdout",
     "output_type": "stream",
     "text": [
      "Num neigh  4\n",
      "              precision    recall  f1-score   support\n",
      "\n",
      "       False       0.87      0.38      0.53       878\n",
      "        True       0.16      0.68      0.26       156\n",
      "\n",
      "    accuracy                           0.43      1034\n",
      "   macro avg       0.52      0.53      0.40      1034\n",
      "weighted avg       0.76      0.43      0.49      1034\n",
      "\n"
     ]
    },
    {
     "name": "stderr",
     "output_type": "stream",
     "text": [
      "/var/folders/mf/s1v5mc1n4rdfn5k048ff_5d00000gn/T/ipykernel_20770/2496303691.py:26: SettingWithCopyWarning: \n",
      "A value is trying to be set on a copy of a slice from a DataFrame.\n",
      "Try using .loc[row_indexer,col_indexer] = value instead\n",
      "\n",
      "See the caveats in the documentation: https://pandas.pydata.org/pandas-docs/stable/user_guide/indexing.html#returning-a-view-versus-a-copy\n",
      "  df_validate[\"predicted_class\"] = df_validate.apply(classify, axis=1 , args=[num_neig])\n"
     ]
    },
    {
     "name": "stdout",
     "output_type": "stream",
     "text": [
      "Num neigh  5\n",
      "              precision    recall  f1-score   support\n",
      "\n",
      "       False       0.86      0.70      0.77       878\n",
      "        True       0.17      0.35      0.23       156\n",
      "\n",
      "    accuracy                           0.65      1034\n",
      "   macro avg       0.52      0.53      0.50      1034\n",
      "weighted avg       0.75      0.65      0.69      1034\n",
      "\n",
      "\n",
      "sfa_2_4.csv\n"
     ]
    },
    {
     "name": "stderr",
     "output_type": "stream",
     "text": [
      "/var/folders/mf/s1v5mc1n4rdfn5k048ff_5d00000gn/T/ipykernel_20770/2496303691.py:26: SettingWithCopyWarning: \n",
      "A value is trying to be set on a copy of a slice from a DataFrame.\n",
      "Try using .loc[row_indexer,col_indexer] = value instead\n",
      "\n",
      "See the caveats in the documentation: https://pandas.pydata.org/pandas-docs/stable/user_guide/indexing.html#returning-a-view-versus-a-copy\n",
      "  df_validate[\"predicted_class\"] = df_validate.apply(classify, axis=1 , args=[num_neig])\n"
     ]
    },
    {
     "name": "stdout",
     "output_type": "stream",
     "text": [
      "Num neigh  3\n",
      "              precision    recall  f1-score   support\n",
      "\n",
      "       False       0.87      0.49      0.63       878\n",
      "        True       0.17      0.59      0.27       156\n",
      "\n",
      "    accuracy                           0.51      1034\n",
      "   macro avg       0.52      0.54      0.45      1034\n",
      "weighted avg       0.77      0.51      0.58      1034\n",
      "\n"
     ]
    },
    {
     "name": "stderr",
     "output_type": "stream",
     "text": [
      "/var/folders/mf/s1v5mc1n4rdfn5k048ff_5d00000gn/T/ipykernel_20770/2496303691.py:26: SettingWithCopyWarning: \n",
      "A value is trying to be set on a copy of a slice from a DataFrame.\n",
      "Try using .loc[row_indexer,col_indexer] = value instead\n",
      "\n",
      "See the caveats in the documentation: https://pandas.pydata.org/pandas-docs/stable/user_guide/indexing.html#returning-a-view-versus-a-copy\n",
      "  df_validate[\"predicted_class\"] = df_validate.apply(classify, axis=1 , args=[num_neig])\n"
     ]
    },
    {
     "name": "stdout",
     "output_type": "stream",
     "text": [
      "Num neigh  4\n",
      "              precision    recall  f1-score   support\n",
      "\n",
      "       False       0.88      0.39      0.54       878\n",
      "        True       0.17      0.70      0.27       156\n",
      "\n",
      "    accuracy                           0.43      1034\n",
      "   macro avg       0.52      0.54      0.40      1034\n",
      "weighted avg       0.77      0.43      0.50      1034\n",
      "\n"
     ]
    },
    {
     "name": "stderr",
     "output_type": "stream",
     "text": [
      "/var/folders/mf/s1v5mc1n4rdfn5k048ff_5d00000gn/T/ipykernel_20770/2496303691.py:26: SettingWithCopyWarning: \n",
      "A value is trying to be set on a copy of a slice from a DataFrame.\n",
      "Try using .loc[row_indexer,col_indexer] = value instead\n",
      "\n",
      "See the caveats in the documentation: https://pandas.pydata.org/pandas-docs/stable/user_guide/indexing.html#returning-a-view-versus-a-copy\n",
      "  df_validate[\"predicted_class\"] = df_validate.apply(classify, axis=1 , args=[num_neig])\n"
     ]
    },
    {
     "name": "stdout",
     "output_type": "stream",
     "text": [
      "Num neigh  5\n",
      "              precision    recall  f1-score   support\n",
      "\n",
      "       False       0.87      0.72      0.78       878\n",
      "        True       0.19      0.38      0.25       156\n",
      "\n",
      "    accuracy                           0.66      1034\n",
      "   macro avg       0.53      0.55      0.52      1034\n",
      "weighted avg       0.76      0.66      0.70      1034\n",
      "\n",
      "\n",
      "sfa_3_2.csv\n"
     ]
    },
    {
     "name": "stderr",
     "output_type": "stream",
     "text": [
      "/var/folders/mf/s1v5mc1n4rdfn5k048ff_5d00000gn/T/ipykernel_20770/2496303691.py:26: SettingWithCopyWarning: \n",
      "A value is trying to be set on a copy of a slice from a DataFrame.\n",
      "Try using .loc[row_indexer,col_indexer] = value instead\n",
      "\n",
      "See the caveats in the documentation: https://pandas.pydata.org/pandas-docs/stable/user_guide/indexing.html#returning-a-view-versus-a-copy\n",
      "  df_validate[\"predicted_class\"] = df_validate.apply(classify, axis=1 , args=[num_neig])\n"
     ]
    },
    {
     "name": "stdout",
     "output_type": "stream",
     "text": [
      "Num neigh  3\n",
      "              precision    recall  f1-score   support\n",
      "\n",
      "       False       0.86      0.45      0.59       878\n",
      "        True       0.16      0.58      0.25       156\n",
      "\n",
      "    accuracy                           0.47      1034\n",
      "   macro avg       0.51      0.52      0.42      1034\n",
      "weighted avg       0.75      0.47      0.54      1034\n",
      "\n"
     ]
    },
    {
     "name": "stderr",
     "output_type": "stream",
     "text": [
      "/var/folders/mf/s1v5mc1n4rdfn5k048ff_5d00000gn/T/ipykernel_20770/2496303691.py:26: SettingWithCopyWarning: \n",
      "A value is trying to be set on a copy of a slice from a DataFrame.\n",
      "Try using .loc[row_indexer,col_indexer] = value instead\n",
      "\n",
      "See the caveats in the documentation: https://pandas.pydata.org/pandas-docs/stable/user_guide/indexing.html#returning-a-view-versus-a-copy\n",
      "  df_validate[\"predicted_class\"] = df_validate.apply(classify, axis=1 , args=[num_neig])\n"
     ]
    },
    {
     "name": "stdout",
     "output_type": "stream",
     "text": [
      "Num neigh  4\n",
      "              precision    recall  f1-score   support\n",
      "\n",
      "       False       0.86      0.36      0.51       878\n",
      "        True       0.16      0.67      0.26       156\n",
      "\n",
      "    accuracy                           0.41      1034\n",
      "   macro avg       0.51      0.52      0.38      1034\n",
      "weighted avg       0.76      0.41      0.47      1034\n",
      "\n"
     ]
    },
    {
     "name": "stderr",
     "output_type": "stream",
     "text": [
      "/var/folders/mf/s1v5mc1n4rdfn5k048ff_5d00000gn/T/ipykernel_20770/2496303691.py:26: SettingWithCopyWarning: \n",
      "A value is trying to be set on a copy of a slice from a DataFrame.\n",
      "Try using .loc[row_indexer,col_indexer] = value instead\n",
      "\n",
      "See the caveats in the documentation: https://pandas.pydata.org/pandas-docs/stable/user_guide/indexing.html#returning-a-view-versus-a-copy\n",
      "  df_validate[\"predicted_class\"] = df_validate.apply(classify, axis=1 , args=[num_neig])\n"
     ]
    },
    {
     "name": "stdout",
     "output_type": "stream",
     "text": [
      "Num neigh  5\n",
      "              precision    recall  f1-score   support\n",
      "\n",
      "       False       0.85      0.69      0.76       878\n",
      "        True       0.15      0.32      0.21       156\n",
      "\n",
      "    accuracy                           0.63      1034\n",
      "   macro avg       0.50      0.50      0.49      1034\n",
      "weighted avg       0.75      0.63      0.68      1034\n",
      "\n",
      "\n",
      "sfa_3_4.csv\n"
     ]
    },
    {
     "name": "stderr",
     "output_type": "stream",
     "text": [
      "/var/folders/mf/s1v5mc1n4rdfn5k048ff_5d00000gn/T/ipykernel_20770/2496303691.py:26: SettingWithCopyWarning: \n",
      "A value is trying to be set on a copy of a slice from a DataFrame.\n",
      "Try using .loc[row_indexer,col_indexer] = value instead\n",
      "\n",
      "See the caveats in the documentation: https://pandas.pydata.org/pandas-docs/stable/user_guide/indexing.html#returning-a-view-versus-a-copy\n",
      "  df_validate[\"predicted_class\"] = df_validate.apply(classify, axis=1 , args=[num_neig])\n"
     ]
    },
    {
     "name": "stdout",
     "output_type": "stream",
     "text": [
      "Num neigh  3\n",
      "              precision    recall  f1-score   support\n",
      "\n",
      "       False       0.88      0.49      0.63       878\n",
      "        True       0.18      0.62      0.27       156\n",
      "\n",
      "    accuracy                           0.51      1034\n",
      "   macro avg       0.53      0.55      0.45      1034\n",
      "weighted avg       0.77      0.51      0.57      1034\n",
      "\n"
     ]
    },
    {
     "name": "stderr",
     "output_type": "stream",
     "text": [
      "/var/folders/mf/s1v5mc1n4rdfn5k048ff_5d00000gn/T/ipykernel_20770/2496303691.py:26: SettingWithCopyWarning: \n",
      "A value is trying to be set on a copy of a slice from a DataFrame.\n",
      "Try using .loc[row_indexer,col_indexer] = value instead\n",
      "\n",
      "See the caveats in the documentation: https://pandas.pydata.org/pandas-docs/stable/user_guide/indexing.html#returning-a-view-versus-a-copy\n",
      "  df_validate[\"predicted_class\"] = df_validate.apply(classify, axis=1 , args=[num_neig])\n"
     ]
    },
    {
     "name": "stdout",
     "output_type": "stream",
     "text": [
      "Num neigh  4\n",
      "              precision    recall  f1-score   support\n",
      "\n",
      "       False       0.88      0.37      0.52       878\n",
      "        True       0.17      0.71      0.27       156\n",
      "\n",
      "    accuracy                           0.42      1034\n",
      "   macro avg       0.52      0.54      0.40      1034\n",
      "weighted avg       0.77      0.42      0.49      1034\n",
      "\n"
     ]
    },
    {
     "name": "stderr",
     "output_type": "stream",
     "text": [
      "/var/folders/mf/s1v5mc1n4rdfn5k048ff_5d00000gn/T/ipykernel_20770/2496303691.py:26: SettingWithCopyWarning: \n",
      "A value is trying to be set on a copy of a slice from a DataFrame.\n",
      "Try using .loc[row_indexer,col_indexer] = value instead\n",
      "\n",
      "See the caveats in the documentation: https://pandas.pydata.org/pandas-docs/stable/user_guide/indexing.html#returning-a-view-versus-a-copy\n",
      "  df_validate[\"predicted_class\"] = df_validate.apply(classify, axis=1 , args=[num_neig])\n"
     ]
    },
    {
     "name": "stdout",
     "output_type": "stream",
     "text": [
      "Num neigh  5\n",
      "              precision    recall  f1-score   support\n",
      "\n",
      "       False       0.86      0.71      0.78       878\n",
      "        True       0.18      0.35      0.23       156\n",
      "\n",
      "    accuracy                           0.66      1034\n",
      "   macro avg       0.52      0.53      0.51      1034\n",
      "weighted avg       0.76      0.66      0.70      1034\n",
      "\n",
      "\n",
      "sfa_4_2.csv\n"
     ]
    },
    {
     "name": "stderr",
     "output_type": "stream",
     "text": [
      "/var/folders/mf/s1v5mc1n4rdfn5k048ff_5d00000gn/T/ipykernel_20770/2496303691.py:26: SettingWithCopyWarning: \n",
      "A value is trying to be set on a copy of a slice from a DataFrame.\n",
      "Try using .loc[row_indexer,col_indexer] = value instead\n",
      "\n",
      "See the caveats in the documentation: https://pandas.pydata.org/pandas-docs/stable/user_guide/indexing.html#returning-a-view-versus-a-copy\n",
      "  df_validate[\"predicted_class\"] = df_validate.apply(classify, axis=1 , args=[num_neig])\n"
     ]
    },
    {
     "name": "stdout",
     "output_type": "stream",
     "text": [
      "Num neigh  3\n",
      "              precision    recall  f1-score   support\n",
      "\n",
      "       False       0.84      0.45      0.59       878\n",
      "        True       0.14      0.51      0.22       156\n",
      "\n",
      "    accuracy                           0.46      1034\n",
      "   macro avg       0.49      0.48      0.40      1034\n",
      "weighted avg       0.73      0.46      0.53      1034\n",
      "\n"
     ]
    },
    {
     "name": "stderr",
     "output_type": "stream",
     "text": [
      "/var/folders/mf/s1v5mc1n4rdfn5k048ff_5d00000gn/T/ipykernel_20770/2496303691.py:26: SettingWithCopyWarning: \n",
      "A value is trying to be set on a copy of a slice from a DataFrame.\n",
      "Try using .loc[row_indexer,col_indexer] = value instead\n",
      "\n",
      "See the caveats in the documentation: https://pandas.pydata.org/pandas-docs/stable/user_guide/indexing.html#returning-a-view-versus-a-copy\n",
      "  df_validate[\"predicted_class\"] = df_validate.apply(classify, axis=1 , args=[num_neig])\n"
     ]
    },
    {
     "name": "stdout",
     "output_type": "stream",
     "text": [
      "Num neigh  4\n",
      "              precision    recall  f1-score   support\n",
      "\n",
      "       False       0.85      0.35      0.50       878\n",
      "        True       0.15      0.65      0.25       156\n",
      "\n",
      "    accuracy                           0.40      1034\n",
      "   macro avg       0.50      0.50      0.37      1034\n",
      "weighted avg       0.74      0.40      0.46      1034\n",
      "\n"
     ]
    },
    {
     "name": "stderr",
     "output_type": "stream",
     "text": [
      "/var/folders/mf/s1v5mc1n4rdfn5k048ff_5d00000gn/T/ipykernel_20770/2496303691.py:26: SettingWithCopyWarning: \n",
      "A value is trying to be set on a copy of a slice from a DataFrame.\n",
      "Try using .loc[row_indexer,col_indexer] = value instead\n",
      "\n",
      "See the caveats in the documentation: https://pandas.pydata.org/pandas-docs/stable/user_guide/indexing.html#returning-a-view-versus-a-copy\n",
      "  df_validate[\"predicted_class\"] = df_validate.apply(classify, axis=1 , args=[num_neig])\n"
     ]
    },
    {
     "name": "stdout",
     "output_type": "stream",
     "text": [
      "Num neigh  5\n",
      "              precision    recall  f1-score   support\n",
      "\n",
      "       False       0.86      0.69      0.76       878\n",
      "        True       0.17      0.37      0.23       156\n",
      "\n",
      "    accuracy                           0.64      1034\n",
      "   macro avg       0.51      0.53      0.50      1034\n",
      "weighted avg       0.76      0.64      0.68      1034\n",
      "\n",
      "\n",
      "sfa_4_4.csv\n"
     ]
    },
    {
     "name": "stderr",
     "output_type": "stream",
     "text": [
      "/var/folders/mf/s1v5mc1n4rdfn5k048ff_5d00000gn/T/ipykernel_20770/2496303691.py:26: SettingWithCopyWarning: \n",
      "A value is trying to be set on a copy of a slice from a DataFrame.\n",
      "Try using .loc[row_indexer,col_indexer] = value instead\n",
      "\n",
      "See the caveats in the documentation: https://pandas.pydata.org/pandas-docs/stable/user_guide/indexing.html#returning-a-view-versus-a-copy\n",
      "  df_validate[\"predicted_class\"] = df_validate.apply(classify, axis=1 , args=[num_neig])\n"
     ]
    },
    {
     "name": "stdout",
     "output_type": "stream",
     "text": [
      "Num neigh  3\n",
      "              precision    recall  f1-score   support\n",
      "\n",
      "       False       0.86      0.45      0.59       878\n",
      "        True       0.16      0.58      0.25       156\n",
      "\n",
      "    accuracy                           0.47      1034\n",
      "   macro avg       0.51      0.51      0.42      1034\n",
      "weighted avg       0.75      0.47      0.54      1034\n",
      "\n"
     ]
    },
    {
     "name": "stderr",
     "output_type": "stream",
     "text": [
      "/var/folders/mf/s1v5mc1n4rdfn5k048ff_5d00000gn/T/ipykernel_20770/2496303691.py:26: SettingWithCopyWarning: \n",
      "A value is trying to be set on a copy of a slice from a DataFrame.\n",
      "Try using .loc[row_indexer,col_indexer] = value instead\n",
      "\n",
      "See the caveats in the documentation: https://pandas.pydata.org/pandas-docs/stable/user_guide/indexing.html#returning-a-view-versus-a-copy\n",
      "  df_validate[\"predicted_class\"] = df_validate.apply(classify, axis=1 , args=[num_neig])\n"
     ]
    },
    {
     "name": "stdout",
     "output_type": "stream",
     "text": [
      "Num neigh  4\n",
      "              precision    recall  f1-score   support\n",
      "\n",
      "       False       0.86      0.34      0.49       878\n",
      "        True       0.16      0.70      0.26       156\n",
      "\n",
      "    accuracy                           0.40      1034\n",
      "   macro avg       0.51      0.52      0.37      1034\n",
      "weighted avg       0.76      0.40      0.46      1034\n",
      "\n"
     ]
    },
    {
     "name": "stderr",
     "output_type": "stream",
     "text": [
      "/var/folders/mf/s1v5mc1n4rdfn5k048ff_5d00000gn/T/ipykernel_20770/2496303691.py:26: SettingWithCopyWarning: \n",
      "A value is trying to be set on a copy of a slice from a DataFrame.\n",
      "Try using .loc[row_indexer,col_indexer] = value instead\n",
      "\n",
      "See the caveats in the documentation: https://pandas.pydata.org/pandas-docs/stable/user_guide/indexing.html#returning-a-view-versus-a-copy\n",
      "  df_validate[\"predicted_class\"] = df_validate.apply(classify, axis=1 , args=[num_neig])\n"
     ]
    },
    {
     "name": "stdout",
     "output_type": "stream",
     "text": [
      "Num neigh  5\n",
      "              precision    recall  f1-score   support\n",
      "\n",
      "       False       0.86      0.65      0.74       878\n",
      "        True       0.16      0.38      0.23       156\n",
      "\n",
      "    accuracy                           0.61      1034\n",
      "   macro avg       0.51      0.52      0.48      1034\n",
      "weighted avg       0.75      0.61      0.66      1034\n",
      "\n",
      "\n",
      "sfa_5_2.csv\n"
     ]
    },
    {
     "name": "stderr",
     "output_type": "stream",
     "text": [
      "/var/folders/mf/s1v5mc1n4rdfn5k048ff_5d00000gn/T/ipykernel_20770/2496303691.py:26: SettingWithCopyWarning: \n",
      "A value is trying to be set on a copy of a slice from a DataFrame.\n",
      "Try using .loc[row_indexer,col_indexer] = value instead\n",
      "\n",
      "See the caveats in the documentation: https://pandas.pydata.org/pandas-docs/stable/user_guide/indexing.html#returning-a-view-versus-a-copy\n",
      "  df_validate[\"predicted_class\"] = df_validate.apply(classify, axis=1 , args=[num_neig])\n"
     ]
    },
    {
     "name": "stdout",
     "output_type": "stream",
     "text": [
      "Num neigh  3\n",
      "              precision    recall  f1-score   support\n",
      "\n",
      "       False       0.88      0.51      0.64       878\n",
      "        True       0.18      0.60      0.27       156\n",
      "\n",
      "    accuracy                           0.52      1034\n",
      "   macro avg       0.53      0.55      0.46      1034\n",
      "weighted avg       0.77      0.52      0.59      1034\n",
      "\n"
     ]
    },
    {
     "name": "stderr",
     "output_type": "stream",
     "text": [
      "/var/folders/mf/s1v5mc1n4rdfn5k048ff_5d00000gn/T/ipykernel_20770/2496303691.py:26: SettingWithCopyWarning: \n",
      "A value is trying to be set on a copy of a slice from a DataFrame.\n",
      "Try using .loc[row_indexer,col_indexer] = value instead\n",
      "\n",
      "See the caveats in the documentation: https://pandas.pydata.org/pandas-docs/stable/user_guide/indexing.html#returning-a-view-versus-a-copy\n",
      "  df_validate[\"predicted_class\"] = df_validate.apply(classify, axis=1 , args=[num_neig])\n"
     ]
    },
    {
     "name": "stdout",
     "output_type": "stream",
     "text": [
      "Num neigh  4\n",
      "              precision    recall  f1-score   support\n",
      "\n",
      "       False       0.89      0.39      0.54       878\n",
      "        True       0.18      0.73      0.28       156\n",
      "\n",
      "    accuracy                           0.44      1034\n",
      "   macro avg       0.53      0.56      0.41      1034\n",
      "weighted avg       0.78      0.44      0.50      1034\n",
      "\n"
     ]
    },
    {
     "name": "stderr",
     "output_type": "stream",
     "text": [
      "/var/folders/mf/s1v5mc1n4rdfn5k048ff_5d00000gn/T/ipykernel_20770/2496303691.py:26: SettingWithCopyWarning: \n",
      "A value is trying to be set on a copy of a slice from a DataFrame.\n",
      "Try using .loc[row_indexer,col_indexer] = value instead\n",
      "\n",
      "See the caveats in the documentation: https://pandas.pydata.org/pandas-docs/stable/user_guide/indexing.html#returning-a-view-versus-a-copy\n",
      "  df_validate[\"predicted_class\"] = df_validate.apply(classify, axis=1 , args=[num_neig])\n"
     ]
    },
    {
     "name": "stdout",
     "output_type": "stream",
     "text": [
      "Num neigh  5\n",
      "              precision    recall  f1-score   support\n",
      "\n",
      "       False       0.86      0.70      0.77       878\n",
      "        True       0.17      0.34      0.22       156\n",
      "\n",
      "    accuracy                           0.64      1034\n",
      "   macro avg       0.51      0.52      0.50      1034\n",
      "weighted avg       0.75      0.64      0.69      1034\n",
      "\n",
      "\n",
      "sfa_5_4.csv\n"
     ]
    },
    {
     "name": "stderr",
     "output_type": "stream",
     "text": [
      "/var/folders/mf/s1v5mc1n4rdfn5k048ff_5d00000gn/T/ipykernel_20770/2496303691.py:26: SettingWithCopyWarning: \n",
      "A value is trying to be set on a copy of a slice from a DataFrame.\n",
      "Try using .loc[row_indexer,col_indexer] = value instead\n",
      "\n",
      "See the caveats in the documentation: https://pandas.pydata.org/pandas-docs/stable/user_guide/indexing.html#returning-a-view-versus-a-copy\n",
      "  df_validate[\"predicted_class\"] = df_validate.apply(classify, axis=1 , args=[num_neig])\n"
     ]
    },
    {
     "name": "stdout",
     "output_type": "stream",
     "text": [
      "Num neigh  3\n",
      "              precision    recall  f1-score   support\n",
      "\n",
      "       False       0.86      0.45      0.59       878\n",
      "        True       0.16      0.57      0.24       156\n",
      "\n",
      "    accuracy                           0.47      1034\n",
      "   macro avg       0.51      0.51      0.42      1034\n",
      "weighted avg       0.75      0.47      0.54      1034\n",
      "\n"
     ]
    },
    {
     "name": "stderr",
     "output_type": "stream",
     "text": [
      "/var/folders/mf/s1v5mc1n4rdfn5k048ff_5d00000gn/T/ipykernel_20770/2496303691.py:26: SettingWithCopyWarning: \n",
      "A value is trying to be set on a copy of a slice from a DataFrame.\n",
      "Try using .loc[row_indexer,col_indexer] = value instead\n",
      "\n",
      "See the caveats in the documentation: https://pandas.pydata.org/pandas-docs/stable/user_guide/indexing.html#returning-a-view-versus-a-copy\n",
      "  df_validate[\"predicted_class\"] = df_validate.apply(classify, axis=1 , args=[num_neig])\n"
     ]
    },
    {
     "name": "stdout",
     "output_type": "stream",
     "text": [
      "Num neigh  4\n",
      "              precision    recall  f1-score   support\n",
      "\n",
      "       False       0.87      0.36      0.51       878\n",
      "        True       0.16      0.71      0.27       156\n",
      "\n",
      "    accuracy                           0.41      1034\n",
      "   macro avg       0.52      0.53      0.39      1034\n",
      "weighted avg       0.77      0.41      0.47      1034\n",
      "\n",
      "Num neigh  5\n",
      "              precision    recall  f1-score   support\n",
      "\n",
      "       False       0.85      0.68      0.76       878\n",
      "        True       0.16      0.35      0.22       156\n",
      "\n",
      "    accuracy                           0.63      1034\n",
      "   macro avg       0.51      0.51      0.49      1034\n",
      "weighted avg       0.75      0.63      0.67      1034\n",
      "\n"
     ]
    },
    {
     "name": "stderr",
     "output_type": "stream",
     "text": [
      "/var/folders/mf/s1v5mc1n4rdfn5k048ff_5d00000gn/T/ipykernel_20770/2496303691.py:26: SettingWithCopyWarning: \n",
      "A value is trying to be set on a copy of a slice from a DataFrame.\n",
      "Try using .loc[row_indexer,col_indexer] = value instead\n",
      "\n",
      "See the caveats in the documentation: https://pandas.pydata.org/pandas-docs/stable/user_guide/indexing.html#returning-a-view-versus-a-copy\n",
      "  df_validate[\"predicted_class\"] = df_validate.apply(classify, axis=1 , args=[num_neig])\n"
     ]
    }
   ],
   "source": [
    "for file in files[1:]:\n",
    "    # read data\n",
    "    df = pd.read_csv(join(mypath, file))\n",
    "    df['positive_number'] = df['class'].cumsum()\n",
    "    df['negative_number'] = (1-df['class']).cumsum()\n",
    "    df['date'] = df['date'].astype('datetime64')\n",
    "    df = df[df['date'].isin(time_period)]\n",
    "    \n",
    "    # split on train, test, validate sets\n",
    "    df_train = df.iloc[:int(0.6*df.shape[0])]\n",
    "    df_validate = df.iloc[int(0.6*df.shape[0]):int(0.8*df.shape[0])]\n",
    "    df_test = df.iloc[int(0.8*df.shape[0]):]\n",
    "    \n",
    "    # do knn for n=range(3,6)\n",
    "    print()\n",
    "    print(file)\n",
    "    for num_neig in range(3, 6):\n",
    "        # make a prefix tree\n",
    "        trie = StringTrie()\n",
    "        trieDate = StringTrie()\n",
    "        for i in range(0, df_train.shape[0]):\n",
    "            trie[df_train[\"data\"].iloc[i]] = df_train[\"class\"].iloc[i]\n",
    "            trieDate[df_train[\"data\"].iloc[i]] = df_train[\"date\"].iloc[i]\n",
    "            \n",
    "        # validate\n",
    "        df_validate[\"predicted_class\"] = df_validate.apply(classify, axis=1 , args=[num_neig])\n",
    "        \n",
    "        # print metrics\n",
    "        print(\"Num neigh \", num_neig)\n",
    "        print(metrics.classification_report(df_validate['class'].values, df_validate['predicted_class'].values))\n",
    "        \n",
    "        # write results\n",
    "        df_validate.to_csv(\"../data/validation_output/\" + file[:-4] + \"_\"+ str(num_neig)+ \".csv\")"
   ]
  },
  {
   "cell_type": "code",
   "execution_count": null,
   "id": "4c0ff0a8",
   "metadata": {},
   "outputs": [],
   "source": []
  }
 ],
 "metadata": {
  "kernelspec": {
   "display_name": "Python 3 (ipykernel)",
   "language": "python",
   "name": "python3"
  },
  "language_info": {
   "codemirror_mode": {
    "name": "ipython",
    "version": 3
   },
   "file_extension": ".py",
   "mimetype": "text/x-python",
   "name": "python",
   "nbconvert_exporter": "python",
   "pygments_lexer": "ipython3",
   "version": "3.9.12"
  }
 },
 "nbformat": 4,
 "nbformat_minor": 5
}
