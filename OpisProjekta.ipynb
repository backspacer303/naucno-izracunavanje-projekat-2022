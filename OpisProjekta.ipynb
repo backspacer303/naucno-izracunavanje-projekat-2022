{
 "cells": [
  {
   "cell_type": "markdown",
   "id": "bfbd1818",
   "metadata": {},
   "source": [
    "# Klasifikacija korišćenjem simboličke Furijeove Aproksimacije"
   ]
  },
  {
   "cell_type": "markdown",
   "id": "13707e53",
   "metadata": {},
   "source": [
    "## Simbolička Furijeova transformacija"
   ]
  },
  {
   "cell_type": "markdown",
   "id": "9ba6e58a",
   "metadata": {},
   "source": [
    "SFA je način za poređenje vremenskih serija. Ideja je da se vremenske serije se pretvaraju u vektore koji se onda lakše porede zbog manje dimenzionalnosti.\n",
    "\n",
    "SFA prima n>=2 vremenskih serija i vraća n reči (stringova) dužine m. Reči se potom stavljaju u prefiksno stablo pomoću kog je lako nalaženje sličnih.\n",
    "\n",
    "Jedna vremenska serija se prvo transformiše u vektor dužine m tako što se nalazi prvih m Furijeovih koeficijenata. Kada se ovo odradi nad svim serijama, dobijamo rezultat dimenzija m\\*n.\n",
    "\n",
    "Svaki element te izlazne matrice se transformiše u slovo. Za svaki red (dužine n, broj serija) pravi se histogram. Korpe histograma se označavaju redom karakterima iz abecede. Element dobija slovo korpe kojoj pripada. Broj korpi je parametar koji označava raznolikost abecede koju koristimo (ide od 2 do 26). Ovim preslikavanjem u svakom redu dobijamo jednu reč dužine m. "
   ]
  },
  {
   "cell_type": "markdown",
   "id": "884683d2",
   "metadata": {},
   "source": [
    "SFA može da se koristi za klasifikaciju serija kao što su slike gde čitava serija ima jednu klasu (treba klasifikovati slike na one koje imaju mačku i one koje psa). U ovom projektu pokušavan je drugi pristup a to je predikcija sledeće vrednosti u seriji. Svaka vrednost u seriji pripada nekoj klasi. Potrebno je odrediti vrednost klase elementa serije na osnovu predhodnih vrednosti u seriji."
   ]
  },
  {
   "cell_type": "markdown",
   "id": "b32f522c",
   "metadata": {},
   "source": [
    "## Podaci"
   ]
  },
  {
   "cell_type": "markdown",
   "id": "cd6dd0cf",
   "metadata": {},
   "source": [
    "Poenta ovog rada je da se podaci o Sunčevom zračenju koriste za predikciju početka poplava u Evropi.\n",
    "\n",
    "Rad koristi podatke koji su rezultati merenja Sunčevog zračenja. Deo tih podataka ima elemente na svaki minut, dok drugi deo ima podatke na svakih pet minuta. Postojale su nepostojeće vrednosti koje su izbačene. Podaci imaju veliku skalu. Procena autlajera je izostala jer su sve vrednosti iako na jako velikoj skali delovale fizički realne i njihovi veliki skokovi su bili potencijalni pokazatelji nekog budućeg poplavnog događaja. Podaci su preuzeti sa sajta https://sohoftp.nascom.nasa.gov/sdb/goes/ace/daily/ koji su prosledile kolege sa Geografskog Instituta \"Jovan Cvijić\". Kolone koje su preuzete su:\n",
    "'proton_density', 'bulk_speed', 'ion_temperature', 'Bx', 'By', 'Bz', 'Bt', 'Lat.', 'Long.', '> 10 MeV', '> 30 MeV', '38-53', '175-315', '47-65', '112-187', '310-580', '761-1220', '060-1910', 'anis_ratio'. Kolone koje su korišćene na kraju su sledeće:\n",
    "Bx\tBt\tLat.\tLong.\tproton_density\tion_temperature, > 30 MeV, 47-65, 060-1910, anis_ratio.\n",
    "Ostale kolone su izbačene zbog visoke korelacije.\n",
    "\n",
    "Podaci o poplavama su uzeti većinom sa sajta kaggle: https://www.kaggle.com/datasets/tomkowski/european-past-floods?resource=download. Deo podataka o poplavama je dobijen sa Geografskog Instituta \"Jovan Cvijić\". Podaci o poplavama su na dnevnom nivou. Jedini podatak korišćen je kog datuma je počela poplava."
   ]
  },
  {
   "cell_type": "markdown",
   "id": "3c296493",
   "metadata": {},
   "source": [
    "## SFA u projektu"
   ]
  },
  {
   "cell_type": "markdown",
   "id": "fc8abe27",
   "metadata": {},
   "source": [
    "SFA je u projektu korišćen sredstvo za agregaciju. Početni problem podataka je što nisu iste granularnosti. SFA je onda korišćen da se podaci svedu na dnevnu granularnost.\n",
    "\n",
    "Spajaju se serije iste granularnosti u po jednu tabelu: one na pet minuta i one na minut. Serije se grupišu po datumu, tako da u jednom polju stoji lista svih vrednosti koje su zabeležene taj dan za tu kolonu. To znači da po danu imamo 10 vremenskih serija. Te dve tabele prolaze kroz SFA. Za obe tabele se dobija po reč za svaki dan. Tabele se spajaju tako što se reči po danu spajaju u jednu reč. Time se dobija dnevna vremenska serija koja u sebi sadrži reč i oznaku klase za svaki dan."
   ]
  },
  {
   "cell_type": "markdown",
   "id": "d8f78d55",
   "metadata": {},
   "source": [
    "## Klasifikacija"
   ]
  },
  {
   "cell_type": "markdown",
   "id": "2402ab67",
   "metadata": {},
   "source": [
    "Uzet je knn kao najjednostavniji model za klasifikaciju da bi fokus rada bio na SFA transformaciji. Rađen je knn nad prefiksnim stablom. Prefiksno stablo se formira od reči iz trening skupa. Trening skup je prvih 60% redova. Knn se zatim radi nad skupom za validaciju koji se sastoji iz sledećih 20% podataka. Ostatak podataka je test skup. \n",
    "\n",
    "Parametri koji su isprobani su: broj komšija za knn 3-5, broj koeficijenata za Furijeovu transformaciju 2-5 i broj korpi za histogram je 2-4. Težine su uvedene u knn pošto su klase nebalansirane. Rezultati su loši gde je preciznost uvek oko 85-88% za false klasu i 10-20% za true klasu."
   ]
  },
  {
   "cell_type": "code",
   "execution_count": null,
   "id": "ce6b1410",
   "metadata": {},
   "outputs": [],
   "source": []
  }
 ],
 "metadata": {
  "kernelspec": {
   "display_name": "Python 3 (ipykernel)",
   "language": "python",
   "name": "python3"
  },
  "language_info": {
   "codemirror_mode": {
    "name": "ipython",
    "version": 3
   },
   "file_extension": ".py",
   "mimetype": "text/x-python",
   "name": "python",
   "nbconvert_exporter": "python",
   "pygments_lexer": "ipython3",
   "version": "3.9.12"
  }
 },
 "nbformat": 4,
 "nbformat_minor": 5
}
